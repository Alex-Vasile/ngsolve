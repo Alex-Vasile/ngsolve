{
 "cells": [
  {
   "cell_type": "markdown",
   "metadata": {},
   "source": [
    "# Facet spaces and hybrid methods\n",
    "\n",
    "Mixed methods for second order problems lead to saddle point problems, and indefinite matrices. By hybridization one obtains a positive definite system again. It's structure is similar to the non-conforming $P^1$ method, but hybridization works for any order. See text-book by Brezzi and Fortin.\n",
    "\n",
    "One skips the normal-continuity of the $H(div)$ variable, and reinforces it by a Lagrange parameter. This leads to the following discrete system:"
   ]
  },
  {
   "cell_type": "markdown",
   "metadata": {
    "collapsed": true
   },
   "source": [
    "Find $\\sigma, u, \\widehat u \\in \\Sigma_h \\times V_h \\times F_h$:\n",
    "\n",
    "$$\n",
    "\\DeclareMathOperator{\\Div}{div}\n",
    "\\begin{array}{ccccccll}\n",
    "\\int \\lambda^{-1} \\sigma \\tau & + & \\sum_T \\int_T \\Div \\tau \\, u & + & \\sum_F \\int_F [\\tau_n] \\widehat u & = & 0 & \\forall \\, \\tau \\in \\Sigma \\\\\n",
    "\\int \\Div \\sigma \\, v &&&&& = & \\int f v & \\forall \\, v \\in V_h \\\\\n",
    "\\int [ \\sigma_n ] \\, \\widehat v &&&&& = & \\int_{\\Gamma_n} g \\widehat v & \\forall \\, \\widehat v \\in F_h\n",
    "\\end{array}\n",
    "$$\n",
    "\n",
    "where $\\Sigma_h$ is an discontinuous $H(div)$ finite element space, $V_h$ a sub-space of $L_2$, and $F_h$ consists of polynomials on every edge."
   ]
  },
  {
   "cell_type": "code",
   "execution_count": 4,
   "metadata": {
    "collapsed": true
   },
   "outputs": [],
   "source": [
    "from netgen.geom2d import unit_square\n",
    "from ngsolve import *\n",
    "import netgen.gui\n",
    "%gui tk\n",
    "mesh = Mesh(unit_square.GenerateMesh(maxh=0.2))"
   ]
  },
  {
   "cell_type": "markdown",
   "metadata": {},
   "source": [
    "same example as in 'mixed':"
   ]
  },
  {
   "cell_type": "code",
   "execution_count": 5,
   "metadata": {},
   "outputs": [],
   "source": [
    "source = sin(3.14*x)\n",
    "ud = CoefficientFunction(5)\n",
    "g = CoefficientFunction([y*(1-y) if bc==\"left\" else 0 for bc in mesh.GetBoundaries()])\n",
    "lam = 10"
   ]
  },
  {
   "cell_type": "markdown",
   "metadata": {},
   "source": [
    "define spaces: \n",
    "* The *discontinuous* flag generates an element-wise $H(Div)$-space\n",
    "* FacetFESpace lives only on facets (i.e. faces in 3D, edges in 2D, points in 1D)\n",
    "\n",
    "Boundary conditions are now posed for the facet-space"
   ]
  },
  {
   "cell_type": "code",
   "execution_count": 3,
   "metadata": {
    "collapsed": true
   },
   "outputs": [],
   "source": [
    "order = 3\n",
    "V = HDiv(mesh, order=order, flags = { \"discontinuous\" : True })\n",
    "Q = L2(mesh, order=order-1)\n",
    "F = FacetFESpace(mesh, order=order, dirichlet=\"bottom\")\n",
    "X = FESpace([V,Q,F])"
   ]
  },
  {
   "cell_type": "markdown",
   "metadata": {},
   "source": [
    "Assemble forms. The jump-term is rewritten as\n",
    "$$\n",
    "\\sum_F \\int_F [\\sigma_n] v = \\sum_T \\int_{\\partial T} \\sigma_n v\n",
    "$$"
   ]
  },
  {
   "cell_type": "code",
   "execution_count": 4,
   "metadata": {
    "collapsed": true
   },
   "outputs": [],
   "source": [
    "sigma,u,uhat = X.TrialFunction()\n",
    "tau,v,vhat = X.TestFunction()\n",
    "\n",
    "a = BilinearForm(X)\n",
    "a += SymbolicBFI(1/lam * sigma*tau + div(sigma)*v + div(tau)*u)\n",
    "n = specialcf.normal(mesh.dim)\n",
    "a += SymbolicBFI(sigma*n*vhat+tau*n*uhat, element_boundary=True)\n",
    "a.Assemble()\n",
    "\n",
    "f = LinearForm(X)\n",
    "f += SymbolicLFI(-source*v)\n",
    "f += SymbolicLFI(g*vhat, BND)\n",
    "f.Assemble()"
   ]
  },
  {
   "cell_type": "markdown",
   "metadata": {},
   "source": [
    "Solve system. Leave everything to the sparse direct solver."
   ]
  },
  {
   "cell_type": "code",
   "execution_count": 5,
   "metadata": {
    "collapsed": true
   },
   "outputs": [],
   "source": [
    "gfu = GridFunction(X)\n",
    "inv = a.mat.Inverse(freedofs=X.FreeDofs())\n",
    "gfu.vec.data = inv * f.vec"
   ]
  },
  {
   "cell_type": "code",
   "execution_count": 6,
   "metadata": {
    "collapsed": true
   },
   "outputs": [],
   "source": [
    "Draw (gfu.components[0], mesh, \"sigma\")\n",
    "Draw (gfu.components[1], mesh, \"u\")"
   ]
  },
  {
   "cell_type": "code",
   "execution_count": null,
   "metadata": {
    "collapsed": true
   },
   "outputs": [],
   "source": []
  }
 ],
 "metadata": {
  "kernelspec": {
   "display_name": "Python 3",
   "language": "python",
   "name": "python3"
  },
  "language_info": {
   "codemirror_mode": {
    "name": "ipython",
    "version": 3
   },
   "file_extension": ".py",
   "mimetype": "text/x-python",
   "name": "python",
   "nbconvert_exporter": "python",
   "pygments_lexer": "ipython3",
   "version": "3.6.1"
  }
 },
 "nbformat": 4,
 "nbformat_minor": 2
}

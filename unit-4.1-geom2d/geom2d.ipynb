{
 "cells": [
  {
   "cell_type": "markdown",
   "metadata": {},
   "source": [
    "# Geometries in 2D\n",
    "\n",
    "Import the `SplineGeometry` class from the `geom2d` module generate a `SplineGeometry`"
   ]
  },
  {
   "cell_type": "code",
   "execution_count": 1,
   "metadata": {
    "collapsed": true
   },
   "outputs": [],
   "source": [
    "import netgen.gui\n",
    "%gui tk\n",
    "from netgen.geom2d import SplineGeometry\n",
    "geo = SplineGeometry()"
   ]
  },
  {
   "cell_type": "markdown",
   "metadata": {
    "collapsed": true
   },
   "source": [
    "Now we can use one the prededined objects (Rectangle,Circle) or generate our own geometry with lines or rational splines of 2nd order.\n",
    "\n",
    "## Predefined geometries\n",
    "First we use the predefined ones and add a rectangle and a circle to our geomentry with the boundary conditions `rectangle` and `circle`."
   ]
  },
  {
   "cell_type": "code",
   "execution_count": 2,
   "metadata": {},
   "outputs": [
    {
     "name": "stdout",
     "output_type": "stream",
     "text": [
      "bcs =  ['rectangle', 'rectangle', 'rectangle', 'rectangle']\n"
     ]
    }
   ],
   "source": [
    "geo.AddRectangle((-1,-1),(1,1),bc=\"rectangle\")\n",
    "geo.AddCircle((0,0),0.5,bc=\"circle\")"
   ]
  },
  {
   "cell_type": "code",
   "execution_count": 3,
   "metadata": {
    "collapsed": true
   },
   "outputs": [],
   "source": [
    "ngmesh = geo.GenerateMesh()"
   ]
  },
  {
   "cell_type": "markdown",
   "metadata": {
    "collapsed": true
   },
   "source": [
    "To get a proper geometry we have to set domain numbers for the domain on the left side of the curve and for the one in its right side. In this case the curves are parametrized in positve mathematical sense.\n",
    "Additionally one can use `SetMaterial` to identify the domains with names."
   ]
  },
  {
   "cell_type": "code",
   "execution_count": 4,
   "metadata": {},
   "outputs": [
    {
     "name": "stdout",
     "output_type": "stream",
     "text": [
      "bcs =  ['rectangle', 'rectangle', 'rectangle', 'rectangle']\n"
     ]
    }
   ],
   "source": [
    "geo = SplineGeometry()\n",
    "geo.AddRectangle(p1=(-1,-1),\n",
    "                 p2=(1,1),\n",
    "                 bc=\"rectangle\",\n",
    "                 leftdomain=1,\n",
    "                 rightdomain=0)\n",
    "geo.AddCircle(c=(0,0),\n",
    "              r=0.5,\n",
    "              bc=\"circle\",\n",
    "              leftdomain=2,\n",
    "              rightdomain=1)\n",
    "geo.SetMaterial (1, \"outer\")\n",
    "geo.SetMaterial (2, \"inner\")"
   ]
  },
  {
   "cell_type": "code",
   "execution_count": 5,
   "metadata": {
    "collapsed": true
   },
   "outputs": [],
   "source": [
    "geo.SetDomainMaxH(2, 0.02)\n",
    "ngmesh = geo.GenerateMesh(maxh=0.1)"
   ]
  },
  {
   "cell_type": "markdown",
   "metadata": {
    "collapsed": true
   },
   "source": [
    "## Using lines and splines\n",
    "We define a new geometry and and write a list of points we want to use for out geometry and add them to geo geometry."
   ]
  },
  {
   "cell_type": "code",
   "execution_count": 17,
   "metadata": {},
   "outputs": [],
   "source": [
    "geo = SplineGeometry()\n",
    "\n",
    "pnts =[(0,0),\n",
    "       #(0,0,0.05), # define a local mesh refinement for one point\n",
    "       (1,0),\n",
    "       (1,0.5),\n",
    "       (1,1),\n",
    "       (0.5,1),\n",
    "       (0,1)]\n",
    "\n",
    "p1,p2,p3,p4,p5,p6 = [geo.AppendPoint(*pnt) for pnt in pnts]\n"
   ]
  },
  {
   "cell_type": "markdown",
   "metadata": {},
   "source": [
    "Then we define the curves which define our geometry and add them to the geometry using `Append`."
   ]
  },
  {
   "cell_type": "code",
   "execution_count": 18,
   "metadata": {},
   "outputs": [
    {
     "data": {
      "text/plain": [
       "[0, 1, 2, 3, 4]"
      ]
     },
     "execution_count": 18,
     "metadata": {},
     "output_type": "execute_result"
    }
   ],
   "source": [
    "curves = [[[\"line\",p1,p2],\"bottom\"],\n",
    "          [[\"line\",p2,p3],\"right\"],\n",
    "          [[\"spline3\",p3,p4,p5],\"curve\"],\n",
    "          [[\"line\",p5,p6],\"top\"],\n",
    "          [[\"line\",p6,p1],\"left\"]]\n",
    "\n",
    "[geo.Append(c,bc=bc) for c,bc in curves]"
   ]
  },
  {
   "cell_type": "code",
   "execution_count": 19,
   "metadata": {},
   "outputs": [],
   "source": [
    "ngmesh = geo.GenerateMesh(maxh=0.2)"
   ]
  },
  {
   "cell_type": "code",
   "execution_count": 20,
   "metadata": {
    "collapsed": true
   },
   "outputs": [],
   "source": [
    "# from ngsolve import *\n",
    "# mesh = Mesh(ngmesh)\n",
    "# mesh.Curve(3)"
   ]
  },
  {
   "cell_type": "markdown",
   "metadata": {},
   "source": [
    "Additonally to the boundary condition one can set a maximal mesh size for a whole curve with an optional argument `maxh`."
   ]
  },
  {
   "cell_type": "code",
   "execution_count": 16,
   "metadata": {
    "collapsed": true
   },
   "outputs": [],
   "source": [
    "geo = SplineGeometry()\n",
    "\n",
    "p1,p2,p3,p4,p5,p6 = [geo.AppendPoint(*pnt) for pnt in pnts]\n",
    "\n",
    "geo.Append([\"line\",p1,p2],maxh=0.02)\n",
    "geo.Append([\"line\",p2,p4])\n",
    "geo.Append([\"line\",p4,p6])\n",
    "geo.Append([\"line\",p6,p1])\n",
    "\n",
    "ngmesh = geo.GenerateMesh(maxh=0.2)#,quad_dominated=True)"
   ]
  }
 ],
 "metadata": {
  "kernelspec": {
   "display_name": "Python 3",
   "language": "python",
   "name": "python3"
  },
  "language_info": {
   "codemirror_mode": {
    "name": "ipython",
    "version": 3
   },
   "file_extension": ".py",
   "mimetype": "text/x-python",
   "name": "python",
   "nbconvert_exporter": "python",
   "pygments_lexer": "ipython3",
   "version": "3.5.2"
  }
 },
 "nbformat": 4,
 "nbformat_minor": 2
}

{
 "cells": [
  {
   "cell_type": "markdown",
   "metadata": {},
   "source": [
    "# Constructive Solid Geometry (CSG)\n",
    "These geometries are bases on primitives (e.g. sphere, cylinder, plane) which are used to build solids by performing boolean operations."
   ]
  },
  {
   "cell_type": "markdown",
   "metadata": {},
   "source": [
    "Netgen offers the following primitives\n",
    "\n",
    "| primitive  |  csg syntax |   meaning   |\n",
    "|:-----------|:------------|:------------|\n",
    "| half-space | Plane(Pnt a,Vec n)  |     point p in plane, normal vector    \n",
    "| sphere     | Sphere(Pnt c,float r)|    sphere with center c and radius r \n",
    "| cylinder   | Cylinder(Pnt(x<sub>1</sub> a, Pnt b, float r) |     points a and b define the axes of a infinite cylinder of radius r \n",
    "| brick      | OrthoBrick ( Pnt a, Pnt b ) |      axes parallel brick with minimal coordinates a and maximal coordinates b\n",
    "\n",
    "and the boolean operators\n",
    "\n",
    "| operator  |  set operation |\n",
    "|:----------|:---------------|\n",
    "| * \t| intersection\n",
    "| + \t| union\n",
    "| - \t| intersection with complement"
   ]
  },
  {
   "cell_type": "code",
   "execution_count": 1,
   "metadata": {
    "collapsed": true
   },
   "outputs": [],
   "source": [
    "import netgen.gui\n",
    "%gui tk"
   ]
  },
  {
   "cell_type": "code",
   "execution_count": 2,
   "metadata": {
    "collapsed": true
   },
   "outputs": [],
   "source": [
    "from netgen.csg import *\n",
    "\n",
    "left  = Plane (Pnt(0,0,0), Vec(-1,0,0) )\n",
    "right = Plane (Pnt(1,1,1), Vec( 1,0,0) )\n",
    "front = Plane (Pnt(0,0,0), Vec(0,-1,0) )\n",
    "back  = Plane (Pnt(1,1,1), Vec(0, 1,0) )\n",
    "bot   = Plane (Pnt(0,0,0), Vec(0,0,-1) )\n",
    "top   = Plane (Pnt(1,1,1), Vec(0,0, 1) )\n",
    "\n",
    "cube = left * right * front * back * bot * top\n",
    "geo = CSGeometry()\n",
    "geo.Add (cube)\n",
    "\n",
    "mesh = geo.GenerateMesh(maxh=0.1)\n",
    "# mesh.Save(\"cube.vol\")"
   ]
  },
  {
   "cell_type": "code",
   "execution_count": 3,
   "metadata": {
    "collapsed": true
   },
   "outputs": [],
   "source": [
    "from netgen.csg import *\n",
    "\n",
    "cube = OrthoBrick( Pnt(0,0,0), Pnt(1,1,1) )\n",
    "hole = Cylinder ( Pnt(0.5, 0.5, 0), Pnt(0.5, 0.5, 1), 0.2)\n",
    "\n",
    "geo = CSGeometry()\n",
    "geo.Add (cube-hole.maxh(0.05))\n",
    "mesh = geo.GenerateMesh(maxh=0.1)\n",
    "# mesh.Save(\"cube_hole.vol\")"
   ]
  },
  {
   "cell_type": "markdown",
   "metadata": {},
   "source": [
    "## Set properties of solids\n",
    "A solid has members which we can set to define the desired properties."
   ]
  },
  {
   "cell_type": "code",
   "execution_count": 4,
   "metadata": {
    "collapsed": true
   },
   "outputs": [],
   "source": [
    "sphere = Sphere(Pnt(0,0,0),1)"
   ]
  },
  {
   "cell_type": "markdown",
   "metadata": {},
   "source": [
    "Now we can set a boundray name on the surface of this sphere"
   ]
  },
  {
   "cell_type": "code",
   "execution_count": 5,
   "metadata": {},
   "outputs": [
    {
     "data": {
      "text/plain": [
       "<netgen.libngpy._csg.Solid at 0x7f73a4143ed8>"
      ]
     },
     "execution_count": 5,
     "metadata": {},
     "output_type": "execute_result"
    }
   ],
   "source": [
    "sphere.bc(\"sphere\")"
   ]
  },
  {
   "cell_type": "markdown",
   "metadata": {},
   "source": [
    "Define a material"
   ]
  },
  {
   "cell_type": "code",
   "execution_count": 6,
   "metadata": {},
   "outputs": [
    {
     "data": {
      "text/plain": [
       "<netgen.libngpy._csg.Solid at 0x7f73a4143ed8>"
      ]
     },
     "execution_count": 6,
     "metadata": {},
     "output_type": "execute_result"
    }
   ],
   "source": [
    "sphere.mat(\"iron\")"
   ]
  },
  {
   "cell_type": "markdown",
   "metadata": {},
   "source": [
    "and a maximal mesh size on the surface"
   ]
  },
  {
   "cell_type": "code",
   "execution_count": 7,
   "metadata": {},
   "outputs": [
    {
     "data": {
      "text/plain": [
       "<netgen.libngpy._csg.Solid at 0x7f73a4143ed8>"
      ]
     },
     "execution_count": 7,
     "metadata": {},
     "output_type": "execute_result"
    }
   ],
   "source": [
    "sphere.maxh(0.5)"
   ]
  },
  {
   "cell_type": "markdown",
   "metadata": {},
   "source": [
    "In case we want to visualize the geometry we can define the color (using rgb values) and transparency oft the solid."
   ]
  },
  {
   "cell_type": "code",
   "execution_count": 10,
   "metadata": {},
   "outputs": [
    {
     "data": {
      "text/plain": [
       "<netgen.libngpy._csg.Solid at 0x7f73a4143ed8>"
      ]
     },
     "execution_count": 10,
     "metadata": {},
     "output_type": "execute_result"
    }
   ],
   "source": [
    "sphere.col([1,0,0])#.transp()"
   ]
  },
  {
   "cell_type": "code",
   "execution_count": 11,
   "metadata": {},
   "outputs": [],
   "source": [
    "geo = CSGeometry()\n",
    "geo.Add(sphere)\n",
    "geo.Draw()"
   ]
  },
  {
   "cell_type": "code",
   "execution_count": 12,
   "metadata": {
    "collapsed": true
   },
   "outputs": [],
   "source": [
    "mesh=geo.GenerateMesh(maxh=0.1)"
   ]
  },
  {
   "cell_type": "code",
   "execution_count": null,
   "metadata": {
    "collapsed": true
   },
   "outputs": [],
   "source": []
  }
 ],
 "metadata": {
  "kernelspec": {
   "display_name": "Python 3",
   "language": "python",
   "name": "python3"
  },
  "language_info": {
   "codemirror_mode": {
    "name": "ipython",
    "version": 3
   },
   "file_extension": ".py",
   "mimetype": "text/x-python",
   "name": "python",
   "nbconvert_exporter": "python",
   "pygments_lexer": "ipython3",
   "version": "3.5.2"
  }
 },
 "nbformat": 4,
 "nbformat_minor": 2
}

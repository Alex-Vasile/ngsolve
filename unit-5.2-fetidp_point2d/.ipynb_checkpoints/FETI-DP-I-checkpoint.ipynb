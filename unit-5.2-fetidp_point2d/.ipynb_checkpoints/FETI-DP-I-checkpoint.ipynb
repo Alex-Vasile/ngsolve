{
 "cells": [
  {
   "cell_type": "markdown",
   "metadata": {},
   "source": [
    "# FETI-DP in NGSolve I: Working with Point-Constraints\n",
    "\n",
    "We implement standard FETI-DP, using only point-constraints, for Poisson's equation, in 2D.\n",
    "\n",
    "This is easily done with NGS-Py, because:\n",
    " - We need access to sub-assembled matrices for each subdomain, which is exactly how matrices are stored in NGSolve.\n",
    " - In fact, we can just reuse these local matrices for the dual-primal space.\n",
    " - We do not need to concern ourselfs with finding any sort of global enumeration in the dual-primal space, because\n",
    "   NGSolve does not work with one. We only need ParallelDofs for the dual-primal space.\n",
    "   \n",
    "## Use the cells at the bottom of this file to experiment with bigger computations!\n"
   ]
  },
  {
   "cell_type": "code",
   "execution_count": null,
   "metadata": {},
   "outputs": [],
   "source": [
    "num_procs = '40'"
   ]
  },
  {
   "cell_type": "code",
   "execution_count": null,
   "metadata": {},
   "outputs": [],
   "source": [
    "from usrmeeting_jupyterstuff import *"
   ]
  },
  {
   "cell_type": "code",
   "execution_count": null,
   "metadata": {},
   "outputs": [],
   "source": [
    "stop_cluster()"
   ]
  },
  {
   "cell_type": "code",
   "execution_count": null,
   "metadata": {},
   "outputs": [],
   "source": [
    "start_cluster(num_procs)\n",
    "connect_cluster()"
   ]
  },
  {
   "cell_type": "code",
   "execution_count": 5,
   "metadata": {},
   "outputs": [
    {
     "name": "stdout",
     "output_type": "stream",
     "text": [
      "[stdout:8] \n",
      "global,  ndof = 187833 , lodofs = 47161\n",
      "avg DOFs per core:  4823.075\n"
     ]
    }
   ],
   "source": [
    "%%px\n",
    "from ngsolve import *\n",
    "import netgen.meshing as ngmeshing\n",
    "\n",
    "comm = MPI_Init()\n",
    "nref = 1\n",
    "\n",
    "ngmesh = ngmeshing.Mesh(dim=2)\n",
    "ngmesh.Load('squaref.vol')\n",
    "for l in range(nref):\n",
    "    ngmesh.Refine()\n",
    "mesh = Mesh(ngmesh)\n",
    "\n",
    "comm = MPI_Init()\n",
    "fes = H1(mesh, order=2, dirichlet='right|top')\n",
    "a = BilinearForm(fes)\n",
    "u,v = fes.TnT()\n",
    "a += SymbolicBFI(grad(u)*grad(v))\n",
    "a.Assemble()\n",
    "f = LinearForm(fes)\n",
    "f += SymbolicLFI(x*y*v)\n",
    "f.Assemble()\n",
    "avg_dof = comm.Sum(fes.ndof) / comm.size\n",
    "if comm.rank==0:\n",
    "    print('global,  ndof =', fes.ndofglobal, ', lodofs =', fes.lospace.ndofglobal)\n",
    "    print('avg DOFs per core: ', avg_dof)"
   ]
  },
  {
   "cell_type": "markdown",
   "metadata": {},
   "source": [
    "## Finding the primal DOFs\n",
    "\n",
    "First, we have to find out which DOFs sit on subdomain vertices. \n",
    "\n",
    "In 2 dimensions, those are just the ones that are shared between 3 or more ranks.\n",
    "\n",
    "Additionally, we only need to concern ourselfs with non-dirichlet DOFs.\n",
    "\n",
    "We simply construct a BitArray, which is True wherever we have a primal DOF, and else False."
   ]
  },
  {
   "cell_type": "code",
   "execution_count": 6,
   "metadata": {},
   "outputs": [
    {
     "name": "stdout",
     "output_type": "stream",
     "text": [
      "[stdout:8] \n",
      "# primal dofs global:  56\n",
      "min, avg, max per rank:  1 4.225 7\n"
     ]
    }
   ],
   "source": [
    "%%px\n",
    "primal_dofs = BitArray([len(fes.ParallelDofs().Dof2Proc(k))>1 for k in range(fes.ndof)]) & fes.FreeDofs()\n",
    "nprim = comm.Sum(sum([1 for k in range(fes.ndof) if primal_dofs[k] \\\n",
    "                      and comm.rank<fes.ParallelDofs().Dof2Proc(k)[0] ]))\n",
    "npmin = comm.Min(primal_dofs.NumSet() if comm.rank else nprim)\n",
    "npavg = comm.Sum(primal_dofs.NumSet())/comm.size\n",
    "npmax = comm.Max(primal_dofs.NumSet())\n",
    "if comm.rank==0:\n",
    "    print('# primal dofs global: ', nprim)  \n",
    "    print('min, avg, max per rank: ', npmin, npavg, npmax)"
   ]
  },
  {
   "cell_type": "markdown",
   "metadata": {},
   "source": [
    "## Setting up the Dual-Primal-Space Matrix\n",
    "\n",
    "We want to assemble the stiffness-matrix on the dual-primal space\n",
    "\n",
    "$$\n",
    "V_{\\scriptscriptstyle DP} = \\{u\\in W : u \\text{ is continuous at subdomain vertices} \\}\n",
    "$$\n",
    "\n",
    "This means that we need:\n",
    " - local stiffness matrices:\n",
    " - ParallelDofs\n",
    "\n",
    "If we restrict $V_{\\scriptscriptstyle DP}$ to some subdomain, we get the same space\n",
    "we get from restricting $V$, so the local matrices are the same!\n",
    "\n",
    "\n",
    "<table style=\"width:100%\">\n",
    "  <tr>\n",
    "      <th bgcolor=\"white\"><font size=3>The coupling of DOFs between the subdomains is now different. We need to construct new ParallelDofs <font></th>\n",
    "    <th bgcolor=\"white\"><img src=\"tix_fetidp_standalone.png\" alt=\"Drawing\" style=\"width: 300px;\"/></th>\n",
    "  </tr>\n",
    "<table>\n",
    "\n",
    "If we think of ParallelDofs as the connection between DOFs of different subdomains,\n",
    "the dual-primal ParallelDofs are simply a subset of the ones in the primal space."
   ]
  },
  {
   "cell_type": "code",
   "execution_count": 7,
   "metadata": {},
   "outputs": [
    {
     "name": "stdout",
     "output_type": "stream",
     "text": [
      "[stdout:8] \n",
      "global ndof in original space   :  187833\n",
      "global ndof in dual-primal space:  192810\n"
     ]
    }
   ],
   "source": [
    "%%px\n",
    "dp_pardofs = fes.ParallelDofs().SubSet(primal_dofs)\n",
    "if comm.rank==0:\n",
    "    print('global ndof in original space   : ', fes.ParallelDofs().ndofglobal)\n",
    "    print('global ndof in dual-primal space: ', dp_pardofs.ndofglobal)    "
   ]
  },
  {
   "cell_type": "markdown",
   "metadata": {},
   "source": [
    "### The ParallelMatrix for the DP-Space\n",
    "\n",
    "A ParallelMatrix is just a local matrix + ParallelDofs.\n",
    "We have access to both."
   ]
  },
  {
   "cell_type": "code",
   "execution_count": 8,
   "metadata": {},
   "outputs": [],
   "source": [
    "%%px\n",
    "from ngsolve.la import ParallelMatrix\n",
    "A_dp = ParallelMatrix(a.mat.local_mat, dp_pardofs)\n",
    "A_dp_inv = A_dp.Inverse(fes.FreeDofs(), inverse='mumps')  "
   ]
  },
  {
   "cell_type": "markdown",
   "metadata": {},
   "source": [
    "### The Jump-Operator $B$\n",
    "\n",
    "The Jump-operator is implemented on C++-side. The constraints are fully redundant.\n",
    "The jump operator builds constraints for **all** connections in the\n",
    "given ParallelDofs. In our case, we only need the constraints for the non-primal DOFs.\n",
    "\n",
    "In order for CreateRowVector to be properly defined,\n",
    "the jump-operator has to be told in which space the \"u-vectors\" live. \n",
    "\n",
    "This is done by setting \"u_pardofs\". If none are given, or they are explicitely \n",
    "given as \"None\", B assumes a fully discontinuous u-space."
   ]
  },
  {
   "cell_type": "code",
   "execution_count": 9,
   "metadata": {},
   "outputs": [
    {
     "name": "stdout",
     "output_type": "stream",
     "text": [
      "[stdout:0] rank 2 , # of local multipliers =  204\n",
      "[stdout:3] rank 4 , # of local multipliers =  279\n",
      "[stdout:4] rank 3 , # of local multipliers =  293\n",
      "[stdout:6] rank 8 , # of local multipliers =  283\n",
      "[stdout:8] # of global multipliers = : 4968\n",
      "[stdout:9] rank 6 , # of local multipliers =  186\n",
      "[stdout:10] rank 9 , # of local multipliers =  287\n",
      "[stdout:14] rank 5 , # of local multipliers =  170\n",
      "[stdout:16] rank 7 , # of local multipliers =  214\n",
      "[stdout:18] rank 1 , # of local multipliers =  259\n"
     ]
    }
   ],
   "source": [
    "%%px\n",
    "from ngsolve.la import FETI_Jump\n",
    "dual_pardofs = fes.ParallelDofs().SubSet(BitArray(~primal_dofs & fes.FreeDofs()))\n",
    "B = FETI_Jump(dual_pardofs, u_pardofs=dp_pardofs)\n",
    "if comm.rank==0:\n",
    "    print('# of global multipliers = :', B.col_pardofs.ndofglobal)\n",
    "elif comm.rank<10:\n",
    "    print('rank', comm.rank, ', # of local multipliers = ', B.col_pardofs.ndoflocal)"
   ]
  },
  {
   "cell_type": "markdown",
   "metadata": {},
   "source": [
    "### Forming the Schur-Complement\n",
    "\n",
    "We can very easily define the (negative) Schur-Complement\n",
    "$ F = B~A_{\\scriptscriptstyle DP}^{-1}~B^T $\n",
    "with the \"@\"-operator.\n",
    "\n",
    "\"@\" can concatenate any operators of \"BaseMatrix\" type.\n",
    "They have to provide a Mult method as well as CreateRow/ColVector,\n",
    "which is needed to construct vectors to store intermediate vectors.\n"
   ]
  },
  {
   "cell_type": "code",
   "execution_count": 11,
   "metadata": {},
   "outputs": [
    {
     "name": "stdout",
     "output_type": "stream",
     "text": [
      "[stdout:8] type F:  <class 'ngsolve.la.BaseMatrix'>\n"
     ]
    }
   ],
   "source": [
    "%%px \n",
    "F = B @ A_dp_inv @ B.T\n",
    "if comm.rank==0:\n",
    "    print('type F: ', type(F))"
   ]
  },
  {
   "cell_type": "markdown",
   "metadata": {},
   "source": [
    "### The Preconditioner"
   ]
  },
  {
   "cell_type": "markdown",
   "metadata": {},
   "source": [
    "The Dirichlet-Preconditioner can also be written down very easily.\n",
    "\n",
    "We have, with B standing for border DOFs, and I standing for inner DOFs,\n",
    "$$\n",
    "M^{-1} = B ~ (A_{BB} - A_{BI}A_{II}^{-1}A_{IB}) ~ B^T\n",
    "$$\n",
    "\n",
    "The inner part, the Dirichlet-to-Neumann Schur-Complement, can \n",
    "be implemented with a small trick:\n",
    "\n",
    "\\begin{align*}\n",
    "\\left(\\begin{matrix}\n",
    "A_{BB} & A_{BI} \\\\\n",
    "A_{IB} & A_{II}\n",
    "\\end{matrix}\\right)\n",
    "\\cdot\n",
    "\\left[\n",
    "\\left(\\begin{matrix}\n",
    "I & 0\\\\\n",
    "0 & I\n",
    "\\end{matrix}\\right)\n",
    "-\n",
    "\\left(\\begin{matrix}\n",
    "0 & 0\\\\\n",
    "0 & A_{II}^{-1}\n",
    "\\end{matrix}\\right)\n",
    "\\cdot\n",
    "\\left(\\begin{matrix}\n",
    "A_{BB} & A_{BI} \\\\\n",
    "A_{IB} & A_{II}\n",
    "\\end{matrix}\\right)\n",
    "\\right] \n",
    "&\n",
    "= \n",
    "\\left(\\begin{matrix}\n",
    "A_{BB} & A_{BI} \\\\\n",
    "A_{IB} & A_{II}\n",
    "\\end{matrix}\\right)\n",
    "\\cdot\n",
    "\\left[\n",
    "\\left(\\begin{matrix}\n",
    "I & 0\\\\\n",
    "0 & I\n",
    "\\end{matrix}\\right)\n",
    "-\n",
    "\\left(\\begin{matrix}\n",
    "0 & 0\\\\\n",
    "A_{II}^{-1}A_{IB} & I\n",
    "\\end{matrix}\\right)\n",
    "\\right]\n",
    " = \\\\ =\n",
    "\\left(\\begin{matrix}\n",
    "A_{BB} & A_{BI} \\\\\n",
    "A_{IB} & A_{II}\n",
    "\\end{matrix}\\right)\n",
    "\\cdot\n",
    "\\left(\\begin{matrix}\n",
    "I & 0\\\\\n",
    "-A_{II}^{-1}A_{IB} & 0\n",
    "\\end{matrix}\\right)\n",
    "&\n",
    "=\n",
    "\\left(\\begin{matrix}\n",
    "A_{BB} - A_{BI}A_{II}^{-1}A_{IB} & 0\\\\\n",
    "0 & 0\n",
    "\\end{matrix}\\right)\n",
    "\\end{align*}\n"
   ]
  },
  {
   "cell_type": "code",
   "execution_count": 12,
   "metadata": {},
   "outputs": [],
   "source": [
    "%%px\n",
    "innerdofs = BitArray([len(fes.ParallelDofs().Dof2Proc(k))==0 for k in range(fes.ndof)]) & fes.FreeDofs()\n",
    "A = a.mat.local_mat\n",
    "Aiinv = A.Inverse(innerdofs, inverse='sparsecholesky')\n",
    "Fhat = B @ A @ (IdentityMatrix() - Aiinv @ A) @ B.T"
   ]
  },
  {
   "cell_type": "markdown",
   "metadata": {},
   "source": [
    "### Multiplicity Scaling\n",
    "\n",
    "The scaled Dirichlet-Preconditioner is just \n",
    "$$\n",
    "M_s^{-1} = B_s ~ (A_{BB} - A_{BI}A_{II}^{-1}A_{IB}) ~ B_s^T\n",
    "$$\n",
    "where \n",
    "$$\n",
    "B_s^T u = DB^Tu\n",
    "$$\n",
    "and $D = \\text{diag}([\\text{multiplicity of DOF }i\\text{ }: i=0\\ldots n-1])$.\n",
    "\n",
    "We can implement this without untroducing D as a matrix, and thus avoiding copying of entries."
   ]
  },
  {
   "cell_type": "code",
   "execution_count": 13,
   "metadata": {},
   "outputs": [],
   "source": [
    "%%px\n",
    "class ScaledMat(BaseMatrix):\n",
    "    def __init__ (self, A, vals):\n",
    "        super(ScaledMat, self).__init__()\n",
    "        self.A = A\n",
    "        self.scaledofs = [k for k in enumerate(vals) if k[1]!=1.0]\n",
    "    def CreateRowVector(self):\n",
    "        return self.A.CreateRowVector()\n",
    "    def CreateColVector(self):\n",
    "        return self.A.CreateColVector()\n",
    "    def Mult(self, x, y):\n",
    "        y.data = self.A * x\n",
    "        for k in self.scaledofs:\n",
    "            y[k[0]] *= k[1]\n",
    "scaledA = ScaledMat(A, [1.0/(1+len(fes.ParallelDofs().Dof2Proc(k))) for k in range(fes.ndof)])\n",
    "scaledBT = ScaledMat(B.T, [1.0/(1+len(fes.ParallelDofs().Dof2Proc(k))) for k in range(fes.ndof)])\n",
    "Fhat2 = B @ scaledA @ (IdentityMatrix() - Aiinv @ A) @ scaledBT"
   ]
  },
  {
   "cell_type": "markdown",
   "metadata": {},
   "source": [
    "### Prepare RHS"
   ]
  },
  {
   "cell_type": "code",
   "execution_count": 15,
   "metadata": {},
   "outputs": [],
   "source": [
    "%%px\n",
    "hv = B.CreateRowVector()\n",
    "rhs = B.CreateColVector()\n",
    "lam = B.CreateColVector()\n",
    "hv.data = A_dp_inv * f.vec\n",
    "rhs.data = B * hv"
   ]
  },
  {
   "cell_type": "markdown",
   "metadata": {},
   "source": [
    "### Solve for $\\lambda$ - without scaling"
   ]
  },
  {
   "cell_type": "code",
   "execution_count": 16,
   "metadata": {},
   "outputs": [
    {
     "name": "stdout",
     "output_type": "stream",
     "text": [
      "[stdout:8] \n",
      "it =  0  err =  0.3324135760134304\n",
      "it =  1  err =  0.08073724692259523\n",
      "it =  2  err =  0.03342603729269674\n",
      "it =  3  err =  0.018590695356589734\n",
      "it =  4  err =  0.0059947474548240854\n",
      "it =  5  err =  0.0027638282106529546\n",
      "it =  6  err =  0.0014339187849704896\n",
      "it =  7  err =  0.0005940409981120767\n",
      "it =  8  err =  0.0003125855268094202\n",
      "it =  9  err =  0.0001315943979595823\n",
      "it =  10  err =  5.087321086144519e-05\n",
      "it =  11  err =  2.2592846810938397e-05\n",
      "it =  12  err =  8.33864967253673e-06\n",
      "it =  13  err =  3.884661119866012e-06\n",
      "it =  14  err =  1.518688456691124e-06\n",
      "it =  15  err =  6.629027204434779e-07\n",
      "time to solve = 4.86745531950146\n"
     ]
    }
   ],
   "source": [
    "%%px\n",
    "tsolve1 = -comm.WTime()\n",
    "solvers.CG(mat=F, pre=Fhat, rhs=rhs, sol=lam, maxsteps=100, printrates=comm.rank==0, tol=1e-6)\n",
    "tsolve1 += comm.WTime()\n",
    "if comm.rank==0:\n",
    "    print('time to solve =', tsolve1)"
   ]
  },
  {
   "cell_type": "markdown",
   "metadata": {},
   "source": [
    "### Solve for $\\lambda$ - with scaling"
   ]
  },
  {
   "cell_type": "code",
   "execution_count": 17,
   "metadata": {},
   "outputs": [
    {
     "name": "stdout",
     "output_type": "stream",
     "text": [
      "[stdout:8] \n",
      "it =  0  err =  0.1662067880067152\n",
      "it =  1  err =  0.039228136477508516\n",
      "it =  2  err =  0.015375708271880674\n",
      "it =  3  err =  0.007954691011138272\n",
      "it =  4  err =  0.002804859751409803\n",
      "it =  5  err =  0.0012396271013994326\n",
      "it =  6  err =  0.0006206316326847195\n",
      "it =  7  err =  0.00026791930129006596\n",
      "it =  8  err =  0.0001350009649195703\n",
      "it =  9  err =  5.9146271053554e-05\n",
      "it =  10  err =  2.336729385966067e-05\n",
      "it =  11  err =  1.0170342441937285e-05\n",
      "it =  12  err =  3.857744385789018e-06\n",
      "it =  13  err =  1.7348456034200458e-06\n",
      "it =  14  err =  6.956273460897141e-07\n",
      "time to solve = 3.7514895275235176\n"
     ]
    }
   ],
   "source": [
    "%%px\n",
    "tsolve2 = -comm.WTime()\n",
    "solvers.MinRes(mat=F, pre=Fhat2, rhs=rhs, sol=lam, maxsteps=100, printrates=comm.rank==0, tol=1e-6)\n",
    "tsolve2 += comm.WTime()\n",
    "if comm.rank==0:\n",
    "    print('time to solve =', tsolve2)"
   ]
  },
  {
   "cell_type": "markdown",
   "metadata": {},
   "source": [
    "### A faster dual-primal Inverse\n",
    "\n",
    "We just inverted $A_{\\scriptscriptstyle DP}$ with MUMPS, and while this is\n",
    "faster than inverting $A$, in practice this is not scalable.\n",
    "\n",
    "MUMPS does not realize that it can eliminate all of the dual DOFs **locally**.\n",
    "\n",
    "We can implement a much faster, and more scalable, dual-primal\n",
    "inverse per hand. For that, we reduce the problem to the Schur-complement\n",
    "with resprect to the primal DOFs **using local sparse matrix factorization**, and\n",
    "then only invert the primal schur-complement $S_{\\pi\\pi}$ **globally**.\n",
    "\n",
    "In order to globally invert $S_{\\pi\\pi}$, we need its local sub-matrix as\n",
    "a sparse matrix, not as the expression\n",
    "\n",
    "         A @ (IdentityMatrix() - All_inv @ A)\n",
    "\n",
    "For that, we can just repeatedly multiply unit vectors."
   ]
  },
  {
   "cell_type": "code",
   "execution_count": 18,
   "metadata": {},
   "outputs": [],
   "source": [
    "%%px\n",
    "from dd_toolbox import Op2SPM\n",
    "class LocGlobInverse(BaseMatrix):\n",
    "    def __init__ (self, Aglob, freedofs, invtype_loc='sparsecholesky',\\\n",
    "                  invtype_glob='masterinverse'):\n",
    "        super(LocGlobInverse, self).__init__()\n",
    "        self.Aglob = Aglob  \n",
    "        self.A = Aglob.local_mat  \n",
    "        pardofs = Aglob.col_pardofs \n",
    "        local_dofs = BitArray([len(pardofs.Dof2Proc(k))==0 for k in range(pardofs.ndoflocal)]) & freedofs\n",
    "        global_dofs = BitArray(~local_dofs & freedofs)\n",
    "        self.All_inv = self.A.Inverse(local_dofs, inverse=invtype_loc) \n",
    "        sp_loc_asmult = self.A @ (IdentityMatrix() - self.All_inv @ self.A)\n",
    "        sp_loc = Op2SPM(sp_loc_asmult, global_dofs, global_dofs)\n",
    "        sp = ParallelMatrix(sp_loc, pardofs)\n",
    "        self.Sp_inv = sp.Inverse(global_dofs, inverse=invtype_glob)\n",
    "        self.tv = self.Aglob.CreateRowVector()\n",
    "        self.btilde = self.Aglob.CreateRowVector()\n",
    "    def CreateRowVector(self):\n",
    "        return self.Aglob.CreateRowVector()\n",
    "    def CreateColVector(self):\n",
    "        return self.CreateRowVector()\n",
    "    def Mult(self, b, u):\n",
    "        self.tv.data = self.All_inv * b\n",
    "        b.Distribute()\n",
    "        self.btilde.data = b - self.A * self.tv\n",
    "        u.data = self.Sp_inv * self.btilde\n",
    "        self.tv.data =  b - self.A * u\n",
    "        u.data += self.All_inv * self.tv"
   ]
  },
  {
   "cell_type": "code",
   "execution_count": 19,
   "metadata": {},
   "outputs": [],
   "source": [
    "%%px\n",
    "A_dp_inv2 = LocGlobInverse(A_dp, fes.FreeDofs(), \\\n",
    "                           'sparsecholesky', 'mumps')\n",
    "F2 = B @ A_dp_inv2 @ B.T"
   ]
  },
  {
   "cell_type": "markdown",
   "metadata": {},
   "source": [
    "### Solve for $\\lambda$"
   ]
  },
  {
   "cell_type": "code",
   "execution_count": 20,
   "metadata": {},
   "outputs": [
    {
     "name": "stdout",
     "output_type": "stream",
     "text": [
      "[stdout:8] \n",
      "it =  0  err =  0.3324135760134304\n",
      "it =  1  err =  0.08073724692259523\n",
      "it =  2  err =  0.033426037292696734\n",
      "it =  3  err =  0.018590695356589734\n",
      "it =  4  err =  0.005994747454824088\n",
      "it =  5  err =  0.0027638282106529524\n",
      "it =  6  err =  0.001433918784970486\n",
      "it =  7  err =  0.0005940409981120766\n",
      "it =  8  err =  0.00031258552680941997\n",
      "it =  9  err =  0.00013159439795958232\n",
      "it =  10  err =  5.0873210861445206e-05\n",
      "it =  11  err =  2.2592846810938384e-05\n",
      "it =  12  err =  8.338649672536724e-06\n",
      "it =  13  err =  3.884661119866005e-06\n",
      "it =  14  err =  1.5186884566911247e-06\n",
      "it =  15  err =  6.629027204434781e-07\n",
      "\n",
      "it =  0  err =  0.1662067880067152\n",
      "it =  1  err =  0.040368623461297624\n",
      "it =  2  err =  0.01671301864634837\n",
      "it =  3  err =  0.009295347678294865\n",
      "it =  4  err =  0.002997373727412043\n",
      "it =  5  err =  0.0013819141053264766\n",
      "it =  6  err =  0.0007169593924852439\n",
      "it =  7  err =  0.00029702049905603814\n",
      "it =  8  err =  0.00015629276340471004\n",
      "it =  9  err =  6.579719897979119e-05\n",
      "it =  10  err =  2.5436605430722613e-05\n",
      "it =  11  err =  1.129642340546921e-05\n",
      "it =  12  err =  4.16932483626837e-06\n",
      "it =  13  err =  1.9423305599330064e-06\n",
      "it =  14  err =  7.593442283455621e-07\n",
      "it =  15  err =  3.3145136022173954e-07\n",
      "\n",
      "it =  0  err =  0.1662067880067152\n",
      "it =  1  err =  0.04036862346128493\n",
      "it =  2  err =  0.016713018646346615\n",
      "it =  3  err =  0.009295347678294878\n",
      "it =  4  err =  0.002997373727412208\n",
      "it =  5  err =  0.0013819141053272293\n",
      "it =  6  err =  0.0007169593924864375\n",
      "it =  7  err =  0.00029702049905607413\n",
      "it =  8  err =  0.0001562927634046494\n",
      "it =  9  err =  6.579719897977228e-05\n",
      "it =  10  err =  2.5436605430717927e-05\n",
      "it =  11  err =  1.1296423405458482e-05\n",
      "it =  12  err =  4.169324836255001e-06\n",
      "it =  13  err =  1.942330559925538e-06\n",
      "it =  14  err =  7.593442283447242e-07\n",
      "it =  15  err =  3.314513602214914e-07\n",
      "\n",
      "time solve v1:  1.1352777015417814\n",
      "time solve v2:  0.7808367181569338\n",
      "time solve v3:  0.6800877749919891\n"
     ]
    }
   ],
   "source": [
    "%%px\n",
    "\n",
    "tsolve1 = -comm.WTime()\n",
    "solvers.CG(mat=F, pre=Fhat, rhs=rhs, sol=lam, maxsteps=100, printrates=comm.rank==0, tol=1e-6)\n",
    "tsolve1 += comm.WTime()\n",
    "\n",
    "if comm.rank==0:\n",
    "    print('')\n",
    "    \n",
    "tsolve2 = -comm.WTime()\n",
    "solvers.CG(mat=F, pre=Fhat2, rhs=rhs, sol=lam, maxsteps=100, printrates=comm.rank==0, tol=1e-6)\n",
    "tsolve2 += comm.WTime()\n",
    "\n",
    "if comm.rank==0:\n",
    "    print('')\n",
    "\n",
    "tsolve3 = -comm.WTime()\n",
    "solvers.CG(mat=F2, pre=Fhat2, rhs=rhs, sol=lam, maxsteps=100, printrates=comm.rank==0, tol=1e-6)\n",
    "tsolve3 += comm.WTime()\n",
    "\n",
    "if comm.rank==0:\n",
    "    print('\\ntime solve v1: ', tsolve1)\n",
    "    print('time solve v2: ', tsolve2)\n",
    "    print('time solve v3: ', tsolve3)"
   ]
  },
  {
   "cell_type": "markdown",
   "metadata": {},
   "source": [
    "Not that the normal and scaled variants of the Dirichlet-Preconditioner\n",
    "are equivalent here, because all DOFs are either local, primal, or shared\n",
    "by **exactly two** ranks.\n",
    "\n",
    "\n",
    "\n",
    "### Reconstruct $u$"
   ]
  },
  {
   "cell_type": "code",
   "execution_count": 21,
   "metadata": {},
   "outputs": [
    {
     "name": "stdout",
     "output_type": "stream",
     "text": [
      "[stdout:8] norm jump u:  2.7631462989273543e-07\n"
     ]
    }
   ],
   "source": [
    "%%px\n",
    "\n",
    "gfu = GridFunction(fes)\n",
    "hv.data = f.vec - B.T * lam\n",
    "gfu.vec.data = A_dp_inv * hv\n",
    "\n",
    "jump = lam.CreateVector()\n",
    "jump.data = B * gfu.vec\n",
    "norm_jump = Norm(jump)\n",
    "if comm.rank==0:\n",
    "    print('norm jump u: ', norm_jump)"
   ]
  },
  {
   "cell_type": "code",
   "execution_count": 22,
   "metadata": {},
   "outputs": [
    {
     "name": "stdout",
     "output_type": "stream",
     "text": [
      "Parallelmumps mult inverse :   11.59419560432434\n",
      "Mumps Inverse :   3.745039701461792\n",
      "Mumps Inverse - analysis :   2.564440965652466\n",
      "dummy - AllReduce :   0.7480719089508057\n",
      "Mumps Inverse - factor :   0.6417958736419678\n"
     ]
    }
   ],
   "source": [
    "%%px --target 1\n",
    "for t in sorted(filter(lambda t:t['time']>0.5, Timers()), key=lambda t:t['time'], reverse=True):\n",
    "    print(t['name'], ':  ', t['time'])"
   ]
  },
  {
   "cell_type": "code",
   "execution_count": 23,
   "metadata": {},
   "outputs": [
    {
     "name": "stdout",
     "output_type": "stream",
     "text": [
      "[stdout:38] \n",
      "Parallelmumps mult inverse :   11.769659042358398\n",
      "Mumps Inverse :   3.65175199508667\n",
      "Mumps Inverse - analysis :   2.564422845840454\n",
      "Mumps Inverse - factor :   0.6417760848999023\n",
      "dummy - waitany :   0.32924413681030273\n",
      "SparseCholesky<d,d,d>::MultAdd :   0.2629539966583252\n",
      "dummy - AllReduce :   0.19080901145935059\n",
      "SparseCholesky<d,d,d>::MultAdd fac1 :   0.17703986167907715\n",
      "dummy - AllReduce :   0.12884879112243652\n",
      "SparseCholesky - total :   0.10110116004943848\n",
      "dummy - AllReduce :   0.10049605369567871\n",
      "SparseCholesky<d,d,d>::MultAdd fac2 :   0.08042430877685547\n"
     ]
    }
   ],
   "source": [
    "%%px\n",
    "t_chol = filter(lambda t: t['name'] == 'SparseCholesky<d,d,d>::MultAdd', Timers()).__next__()\n",
    "maxt = comm.Max(t_chol['time']) \n",
    "if t_chol['time'] == maxt:\n",
    "    for t in sorted(filter(lambda t:t['time']>0.3*maxt, Timers()), key=lambda t:t['time'], reverse=True):\n",
    "        print(t['name'], ':  ', t['time'])"
   ]
  },
  {
   "cell_type": "code",
   "execution_count": 24,
   "metadata": {},
   "outputs": [
    {
     "name": "stdout",
     "output_type": "stream",
     "text": [
      "could not stop cluster, (probably not running)\n"
     ]
    }
   ],
   "source": [
    "stop_cluster()"
   ]
  },
  {
   "cell_type": "markdown",
   "metadata": {},
   "source": [
    "# Experiment Below!"
   ]
  },
  {
   "cell_type": "code",
   "execution_count": null,
   "metadata": {},
   "outputs": [
    {
     "name": "stdout",
     "output_type": "stream",
     "text": [
      "Waiting for connection file: ~/.ipython/profile_ngsolve/security/ipcontroller-lukas-client.json\n",
      "connecting ... try:44"
     ]
    }
   ],
   "source": [
    "from usrmeeting_jupyterstuff import *\n",
    "num_procs = '80'\n",
    "start_cluster(num_procs)\n",
    "connect_cluster()"
   ]
  },
  {
   "cell_type": "code",
   "execution_count": 26,
   "metadata": {},
   "outputs": [],
   "source": [
    "%%px\n",
    "from ngsolve import *\n",
    "import netgen.meshing as ngmeshing\n",
    "from ngsolve.la import ParallelMatrix, FETI_Jump\n",
    "from dd_toolbox import LocGlobInverse, ScaledMat\n",
    "\n",
    "def load_mesh(nref=0):\n",
    "    ngmesh = ngmeshing.Mesh(dim=2)\n",
    "    ngmesh.Load('squaref.vol')\n",
    "    for l in range(nref):\n",
    "        ngmesh.Refine()\n",
    "    return Mesh(ngmesh)\n",
    "\n",
    "def setup_space(mesh, order=1):\n",
    "    comm = MPI_Init()\n",
    "    fes = H1(mesh, order=order, dirichlet='right|top')\n",
    "    a = BilinearForm(fes)\n",
    "    u,v = fes.TnT()\n",
    "    a += SymbolicBFI(grad(u)*grad(v))\n",
    "    a.Assemble()\n",
    "    f = LinearForm(fes)\n",
    "    f += SymbolicLFI(x*y*v)\n",
    "    f.Assemble()\n",
    "    avg_dof = comm.Sum(fes.ndof) / comm.size\n",
    "    if comm.rank==0:\n",
    "        print('global,  ndof =', fes.ndofglobal, ', lodofs =', fes.lospace.ndofglobal)\n",
    "        print('avg DOFs per core: ', avg_dof)\n",
    "    return [fes, a, f]\n",
    "\n",
    "def setup_FETIDP(fes, a):\n",
    "    primal_dofs = BitArray([len(fes.ParallelDofs().Dof2Proc(k))>1 for k in range(fes.ndof)]) & fes.FreeDofs()\n",
    "    nprim = comm.Sum(sum([1 for k in range(fes.ndof) if primal_dofs[k] \\\n",
    "                          and comm.rank<fes.ParallelDofs().Dof2Proc(k)[0] ]))\n",
    "    if comm.rank==0:\n",
    "        print('# primal dofs global: ', nprim)  \n",
    "    dp_pardofs = fes.ParallelDofs().SubSet(primal_dofs)\n",
    "    A_dp = ParallelMatrix(a.mat.local_mat, dp_pardofs)\n",
    "    A_dp_inv = A_dp.Inverse(fes.FreeDofs(), inverse='mumps')  \n",
    "    dual_pardofs = fes.ParallelDofs().SubSet(BitArray(~primal_dofs & fes.FreeDofs()))\n",
    "    B = FETI_Jump(dual_pardofs, u_pardofs=dp_pardofs)\n",
    "    if comm.rank==0:\n",
    "        print('# of global multipliers = :', B.col_pardofs.ndofglobal)\n",
    "    F = B @ A_dp_inv @ B.T\n",
    "    A_dp_inv2 = LocGlobInverse(A_dp, fes.FreeDofs(), \\\n",
    "                               invtype_loc='sparsecholesky',\\\n",
    "                               invtype_glob='masterinverse')\n",
    "    F2 = B @ A_dp_inv2 @ B.T\n",
    "    innerdofs = BitArray([len(fes.ParallelDofs().Dof2Proc(k))==0 for k in range(fes.ndof)]) & fes.FreeDofs()\n",
    "    A = a.mat.local_mat\n",
    "    Aiinv = A.Inverse(innerdofs, inverse='sparsecholesky')\n",
    "    Fhat = B @ A @ (IdentityMatrix() - Aiinv @ A) @ B.T\n",
    "    scaledA = ScaledMat(A, [1.0/(1+len(fes.ParallelDofs().Dof2Proc(k))) for k in range(fes.ndof)])\n",
    "    scaledBT = ScaledMat(B.T, [1.0/(1+len(fes.ParallelDofs().Dof2Proc(k))) for k in range(fes.ndof)])\n",
    "    Fhat2 = B @ scaledA @ (IdentityMatrix() - Aiinv @ A) @ scaledBT\n",
    "    return [A_dp, A_dp_inv, A_dp_inv2, F, F2, Fhat, Fhat2, B, scaledA, scaledBT]\n",
    "    \n",
    "def prep(B, Ainv, f):\n",
    "    rhs.data = (B @ Ainv) * f.vec\n",
    "    return rhs\n",
    "\n",
    "def solve(mat, pre, rhs, sol):\n",
    "    t = comm.WTime()\n",
    "    solvers.CG(mat=mat, pre=pre, rhs=rhs, sol=sol, \\\n",
    "               maxsteps=100, printrates=comm.rank==0, tol=1e-6)\n",
    "    return comm.WTime() - t\n",
    "    \n",
    "def post(B, Ainv, gfu, lam):\n",
    "    hv = B.CreateRowVector()\n",
    "    hv.data = f.vec - B.T * lam\n",
    "    gfu.vec.data = Ainv * hv\n",
    "    jump = lam.CreateVector()\n",
    "    jump.data = B * gfu.vec\n",
    "    norm_jump = Norm(jump)\n",
    "    if comm.rank==0:\n",
    "        print('norm jump u: ', norm_jump)   "
   ]
  },
  {
   "cell_type": "code",
   "execution_count": 27,
   "metadata": {},
   "outputs": [
    {
     "name": "stdout",
     "output_type": "stream",
     "text": [
      "[stdout:14] \n",
      "global,  ndof = 187833 , lodofs = 47161\n",
      "avg DOFs per core:  4823.075\n",
      "# primal dofs global:  56\n",
      "# of global multipliers = : 4968\n",
      "\n",
      "it =  0  err =  0.33241357601336713\n",
      "it =  1  err =  0.08073724692257797\n",
      "it =  2  err =  0.03342603729269182\n",
      "it =  3  err =  0.018590695356588617\n",
      "it =  4  err =  0.005994747454823309\n",
      "it =  5  err =  0.002763828210652361\n",
      "it =  6  err =  0.0014339187849699204\n",
      "it =  7  err =  0.0005940409981119739\n",
      "it =  8  err =  0.0003125855268093465\n",
      "it =  9  err =  0.0001315943979595672\n",
      "it =  10  err =  5.087321086143718e-05\n",
      "it =  11  err =  2.2592846810933962e-05\n",
      "it =  12  err =  8.338649672532612e-06\n",
      "it =  13  err =  3.884661119863514e-06\n",
      "it =  14  err =  1.51868845669091e-06\n",
      "it =  15  err =  6.629027204433741e-07\n",
      "\n",
      "it =  0  err =  0.16620678800668356\n",
      "it =  1  err =  0.040368623461288985\n",
      "it =  2  err =  0.01671301864634591\n",
      "it =  3  err =  0.00929534767829431\n",
      "it =  4  err =  0.0029973737274116537\n",
      "it =  5  err =  0.0013819141053261804\n",
      "it =  6  err =  0.0007169593924849592\n",
      "it =  7  err =  0.0002970204990559868\n",
      "it =  8  err =  0.00015629276340467326\n",
      "it =  9  err =  6.579719897978354e-05\n",
      "it =  10  err =  2.5436605430718588e-05\n",
      "it =  11  err =  1.129642340546698e-05\n",
      "it =  12  err =  4.169324836266301e-06\n",
      "it =  13  err =  1.9423305599317553e-06\n",
      "it =  14  err =  7.593442283454548e-07\n",
      "it =  15  err =  3.314513602216873e-07\n",
      "\n",
      "it =  0  err =  0.16620678800668356\n",
      "it =  1  err =  0.04036862346127624\n",
      "it =  2  err =  0.016713018646344176\n",
      "it =  3  err =  0.009295347678294328\n",
      "it =  4  err =  0.0029973737274118233\n",
      "it =  5  err =  0.0013819141053269344\n",
      "it =  6  err =  0.0007169593924861565\n",
      "it =  7  err =  0.0002970204990560238\n",
      "it =  8  err =  0.00015629276340461254\n",
      "it =  9  err =  6.579719897976477e-05\n",
      "it =  10  err =  2.5436605430714018e-05\n",
      "it =  11  err =  1.1296423405456295e-05\n",
      "it =  12  err =  4.169324836252967e-06\n",
      "it =  13  err =  1.942330559924303e-06\n",
      "it =  14  err =  7.593442283446202e-07\n",
      "it =  15  err =  3.314513602214395e-07\n",
      "\n",
      "time solve v1:  6.072992507368326\n",
      "time solve v2:  5.591376096941531\n",
      "time solve v3:  0.7957945475354791\n",
      "norm jump u:  2.763146522086731e-07\n"
     ]
    }
   ],
   "source": [
    "%%px\n",
    "comm = MPI_Init()\n",
    "mesh = load_mesh(nref=1)\n",
    "fes, a, f = setup_space(mesh, order=2)\n",
    "A_dp, A_dp_inv, A_dp_inv2, F, F2, Fhat, Fhat2, B, scaledA, scaledBT = setup_FETIDP(fes, a)\n",
    "rhs = B.CreateColVector()\n",
    "lam = B.CreateColVector()\n",
    "prep(B, A_dp_inv2, f)\n",
    "if comm.rank==0:\n",
    "    print('')\n",
    "t1 = solve(F,  Fhat,  rhs, lam)\n",
    "if comm.rank==0:\n",
    "    print('')\n",
    "t2 = solve(F,  Fhat2, rhs, lam)\n",
    "if comm.rank==0:\n",
    "    print('')\n",
    "t3 = solve(F2, Fhat2, rhs, lam)\n",
    "if comm.rank==0:\n",
    "    print('\\ntime solve v1: ', t1)\n",
    "    print('time solve v2: ', t2)\n",
    "    print('time solve v3: ', t3)\n",
    "gfu = GridFunction(fes)\n",
    "post(B, A_dp_inv2, gfu, lam)"
   ]
  },
  {
   "cell_type": "code",
   "execution_count": 28,
   "metadata": {},
   "outputs": [
    {
     "name": "stdout",
     "output_type": "stream",
     "text": [
      "Parallelmumps mult inverse :   10.236193656921387\n",
      "Mumps Inverse :   4.039000034332275\n",
      "Mumps Inverse - analysis :   2.54998779296875\n",
      "Mumps Inverse - factor :   1.2941148281097412\n",
      "dummy - AllReduce :   1.281203031539917\n",
      "dummy - waitany :   0.5363607406616211\n"
     ]
    }
   ],
   "source": [
    "%%px --target 1\n",
    "for t in sorted(filter(lambda t:t['time']>0.5, Timers()), key=lambda t:t['time'], reverse=True):\n",
    "    print(t['name'], ':  ', t['time'])"
   ]
  },
  {
   "cell_type": "code",
   "execution_count": 29,
   "metadata": {},
   "outputs": [
    {
     "name": "stdout",
     "output_type": "stream",
     "text": [
      "[stdout:38] \n",
      "timers from rank  36 :\n",
      "Parallelmumps mult inverse :   10.896703481674194\n",
      "Mumps Inverse :   4.039942026138306\n",
      "Mumps Inverse - analysis :   2.5499989986419678\n",
      "Mumps Inverse - factor :   1.2941179275512695\n",
      "dummy - AllReduce :   1.066316843032837\n",
      "dummy - waitany :   0.15599775314331055\n",
      "SparseCholesky<d,d,d>::MultAdd :   0.1519794464111328\n",
      "dummy - AllReduce :   0.1447761058807373\n",
      "SparseCholesky<d,d,d>::MultAdd fac1 :   0.10432720184326172\n",
      "dummy - AllReduce :   0.07694101333618164\n",
      "FESpace::FinalizeUpdate :   0.06227302551269531\n",
      "FESpace::UpdateParallelDofs :   0.061810970306396484\n",
      "dummy - waitall :   0.06176495552062988\n",
      "MeshAccess::UpdateBuffers :   0.0599820613861084\n"
     ]
    }
   ],
   "source": [
    "%%px\n",
    "t_chol = filter(lambda t: t['name'] == 'SparseCholesky<d,d,d>::MultAdd', Timers()).__next__()\n",
    "maxt = comm.Max(t_chol['time']) \n",
    "if t_chol['time'] == maxt:\n",
    "    print('timers from rank ', comm.rank, ':')\n",
    "    for t in sorted(filter(lambda t:t['time']>min(0.3*maxt, 0.5), Timers()), key=lambda t:t['time'], reverse=True):\n",
    "        print(t['name'], ':  ', t['time'])"
   ]
  },
  {
   "cell_type": "code",
   "execution_count": 30,
   "metadata": {},
   "outputs": [
    {
     "name": "stdout",
     "output_type": "stream",
     "text": [
      "could not stop cluster, (probably not running)\n"
     ]
    }
   ],
   "source": [
    "stop_cluster()"
   ]
  },
  {
   "cell_type": "code",
   "execution_count": null,
   "metadata": {},
   "outputs": [],
   "source": []
  }
 ],
 "metadata": {
  "kernelspec": {
   "display_name": "Python 3",
   "language": "python",
   "name": "python3"
  },
  "language_info": {
   "codemirror_mode": {
    "name": "ipython",
    "version": 3
   },
   "file_extension": ".py",
   "mimetype": "text/x-python",
   "name": "python",
   "nbconvert_exporter": "python",
   "pygments_lexer": "ipython3",
   "version": "3.5.2"
  }
 },
 "nbformat": 4,
 "nbformat_minor": 2
}

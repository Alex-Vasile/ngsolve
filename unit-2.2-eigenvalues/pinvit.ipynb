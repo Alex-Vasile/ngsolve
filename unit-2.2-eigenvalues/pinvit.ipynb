{
 "cells": [
  {
   "cell_type": "markdown",
   "metadata": {},
   "source": [
    "# Eigenvalue problems\n",
    "\n",
    "We solve the generalized eigenvalue problem\n",
    "\n",
    "$$\n",
    "A u = \\lambda M u,\n",
    "$$\n",
    "\n",
    "where $A$ comes from $\\int \\nabla u \\nabla v$, and $M$ from $\\int u v$, on the space $H_0^1$"
   ]
  },
  {
   "cell_type": "code",
   "execution_count": 2,
   "metadata": {},
   "outputs": [],
   "source": [
    "import netgen.gui\n",
    "%gui tk\n",
    "from netgen.geom2d import unit_square\n",
    "from ngsolve import *\n",
    "from math import pi\n",
    "import scipy.linalg\n",
    "from scipy import random\n",
    "\n",
    "mesh = Mesh(unit_square.GenerateMesh(maxh=0.1))"
   ]
  },
  {
   "cell_type": "markdown",
   "metadata": {},
   "source": [
    "We setup a stiffness matrix $A$ and a mass matrix $M$, and declare a preconditioner for $A$:"
   ]
  },
  {
   "cell_type": "code",
   "execution_count": 3,
   "metadata": {},
   "outputs": [],
   "source": [
    "fes = H1(mesh, order=4, dirichlet=[1,2,3,4])\n",
    "u = fes.TrialFunction()\n",
    "v = fes.TestFunction()\n",
    "\n",
    "a = BilinearForm(fes)\n",
    "a += SymbolicBFI(grad(u)*grad(v))\n",
    "pre = Preconditioner(a, \"multigrid\")\n",
    "\n",
    "m = BilinearForm(fes)\n",
    "m += SymbolicBFI(u*v)\n",
    "\n",
    "a.Assemble()\n",
    "m.Assemble()\n",
    "\n",
    "u = GridFunction(fes)"
   ]
  },
  {
   "cell_type": "markdown",
   "metadata": {},
   "source": [
    "The inverse iteration is\n",
    "\n",
    "$$\n",
    "u_{n+1} = A^{-1} M u_n,\n",
    "$$\n",
    "\n",
    "where the Rayleigh quotient\n",
    "$$\n",
    "\\rho_n = \\frac{\\left \\langle A u_n, u_n\\right \\rangle}{\\left \n",
    "\\langle M u_n, u_n\\right \\rangle}\n",
    "$$\n",
    "\n",
    "converges to the smallest eigenvalue, with rate of convergence $\\lambda_1 / \\lambda_2$."
   ]
  },
  {
   "cell_type": "markdown",
   "metadata": {},
   "source": [
    "The preconditioned inverse iteration (PINVIT), see [Knyazef+Neymeyr], replaces $A^{-1}$ by an approximate inverse $C^{-1}$:\n",
    "\n",
    "$$\n",
    "\\rho_n = \\frac{\\left \\langle A u_n, u_n\\right \\rangle}{\\left \\langle M u_n, u_n\\right \\rangle} \\\\\n",
    "w_n = C^{-1} (A u_n - \\rho M u_n) \\\\\n",
    "u_{n+1} = u_n + \\alpha w_n\n",
    "$$\n",
    "\n",
    "The optimal step-size $\\alpha$ is found by minimizing the Rayleigh-quotient on a two-dimensional space:\n",
    "\n",
    "$$\n",
    "u_{n+1} = \\operatorname{arg} \\min_{v \\in \\{ u_n, w_n\\}} \\frac{\\left \\langle A v, v\\right \\rangle}{\\left \\langle M v, v\\right \\rangle} \n",
    "$$\n",
    "\n",
    "This minimization problem can be solved by a small eigenvalue problem\n",
    "\n",
    "$$\n",
    "a y = \\lambda m y\n",
    "$$\n",
    "with matrices\n",
    "$$\n",
    "a = \n",
    "\\left( \\begin{array}{cc}\n",
    "\\left \\langle  A u_n, u_n \\right \\rangle &\n",
    "\\left \\langle  A u_n, w_n \\right \\rangle \\\\\n",
    "\\left \\langle  A w_n, u_n \\right \\rangle &\n",
    "\\left \\langle  A w_n, w_n \\right \\rangle \n",
    "\\end{array} \\right) \\quad\n",
    "m = \n",
    "\\left( \\begin{array}{cc}\n",
    "\\left \\langle  M u_n, u_n \\right \\rangle &\n",
    "\\left \\langle  M u_n, w_n \\right \\rangle \\\\\n",
    "\\left \\langle  M w_n, u_n \\right \\rangle &\n",
    "\\left \\langle  M w_n, w_n \\right \\rangle \n",
    "\\end{array} \\right)\n",
    "$$\n",
    "\n",
    "Then, the new iterate is\n",
    "\n",
    "$$\n",
    "u_{n+1} = y_1 u_n + y_2 w_n\n",
    "$$\n",
    "\n",
    "where $y$ is the eigenvector corresponding to the smaller eigenvalue."
   ]
  },
  {
   "cell_type": "markdown",
   "metadata": {},
   "source": [
    "### Implementation in NGSolve"
   ]
  },
  {
   "cell_type": "markdown",
   "metadata": {},
   "source": [
    "Create some help vectors:"
   ]
  },
  {
   "cell_type": "code",
   "execution_count": 4,
   "metadata": {},
   "outputs": [],
   "source": [
    "r = u.vec.CreateVector()\n",
    "w = u.vec.CreateVector()\n",
    "Mu = u.vec.CreateVector()\n",
    "Au = u.vec.CreateVector()\n",
    "Mw = u.vec.CreateVector()\n",
    "Aw = u.vec.CreateVector()"
   ]
  },
  {
   "cell_type": "markdown",
   "metadata": {},
   "source": [
    "random initial condition, zero on the boundary"
   ]
  },
  {
   "cell_type": "code",
   "execution_count": 5,
   "metadata": {},
   "outputs": [],
   "source": [
    "r.FV().NumPy()[:] = random.rand(fes.ndof)\n",
    "u.vec.data = Projector(fes.FreeDofs(), True) * r\n",
    "\n",
    "# from random import random\n",
    "# freedofs = fes.FreeDofs()\n",
    "# for i in range(len(u.vec)):\n",
    "#    u.vec[i] = random() if freedofs[i] else 0  "
   ]
  },
  {
   "cell_type": "code",
   "execution_count": 6,
   "metadata": {},
   "outputs": [
    {
     "name": "stdout",
     "output_type": "stream",
     "text": [
      "24.15512547442816\n",
      "2.1334261571334943\n",
      "2.003318167034182\n",
      "2.0002975751328154\n",
      "2.0000501126150816\n",
      "2.0000122421519864\n",
      "2.0000031933182894\n",
      "2.000000848014699\n",
      "2.0000002273680964\n",
      "2.000000061393768\n",
      "2.00000001667718\n",
      "2.000000004568741\n",
      "2.000000001277216\n",
      "2.0000000003798983\n",
      "2.0000000001347122\n",
      "2.0000000000675984\n",
      "2.000000000049199\n",
      "2.0000000000441496\n",
      "2.0000000000427622\n",
      "2.0000000000423817\n"
     ]
    }
   ],
   "source": [
    "for i in range(20):\n",
    "    Au.data = a.mat * u.vec\n",
    "    Mu.data = m.mat * u.vec\n",
    "    auu = InnerProduct(Au, u.vec)\n",
    "    muu = InnerProduct(Mu, u.vec)\n",
    "    # Rayleigh quotiont\n",
    "    lam = auu/muu\n",
    "    print (lam / (pi**2))\n",
    "    # residual\n",
    "    r.data = Au - lam * Mu\n",
    "    w.data = pre.mat * r.data\n",
    "    w.data = 1/Norm(w) * w\n",
    "    Aw.data = a.mat * w\n",
    "    Mw.data = m.mat * w\n",
    "\n",
    "    # setup and solve 2x2 small eigenvalue problem\n",
    "    asmall = Matrix(2,2)\n",
    "    asmall[0,0] = auu\n",
    "    asmall[0,1] = asmall[1,0] = InnerProduct(Au, w)\n",
    "    asmall[1,1] = InnerProduct(Aw, w)\n",
    "    msmall = Matrix(2,2)\n",
    "    msmall[0,0] = muu\n",
    "    msmall[0,1] = msmall[1,0] = InnerProduct(Mu, w)\n",
    "    msmall[1,1] = InnerProduct(Mw, w)\n",
    "    # print (\"asmall =\", asmall, \", msmall = \", msmall)\n",
    "    \n",
    "    \n",
    "    eval,evec = scipy.linalg.eigh(a=asmall, b=msmall)\n",
    "    # print (eval, evec)\n",
    "    u.vec.data = float(evec[0,0]) * u.vec + float(evec[1,0]) * w\n",
    "    \n",
    "Draw (u)"
   ]
  },
  {
   "cell_type": "markdown",
   "metadata": {},
   "source": [
    "## Simultaneous iteration for several eigenvalues"
   ]
  },
  {
   "cell_type": "markdown",
   "metadata": {},
   "source": [
    "Declare GridFunction with multiple components to store several eigenvectors."
   ]
  },
  {
   "cell_type": "code",
   "execution_count": 7,
   "metadata": {},
   "outputs": [],
   "source": [
    "num = 5\n",
    "u = GridFunction(fes, multidim=num)"
   ]
  },
  {
   "cell_type": "markdown",
   "metadata": {},
   "source": [
    "Create list of help vectors, random initialization of u vectors:"
   ]
  },
  {
   "cell_type": "code",
   "execution_count": 8,
   "metadata": {},
   "outputs": [],
   "source": [
    "r = u.vec.CreateVector()\n",
    "Av = u.vec.CreateVector()\n",
    "Mv = u.vec.CreateVector()\n",
    "\n",
    "vecs = []\n",
    "for i in range(2*num):\n",
    "    vecs.append (u.vec.CreateVector())\n",
    "\n",
    "for v in u.vecs:\n",
    "    r.FV().NumPy()[:] = random.rand(fes.ndof)\n",
    "    v.data = Projector(fes.FreeDofs(), True) * r"
   ]
  },
  {
   "cell_type": "markdown",
   "metadata": {},
   "source": [
    "Compute num residuals, and solve small eigenvalue problem on $2 num$-dimensional space"
   ]
  },
  {
   "cell_type": "code",
   "execution_count": 14,
   "metadata": {
    "scrolled": true
   },
   "outputs": [
    {
     "name": "stdout",
     "output_type": "stream",
     "text": [
      "0 : [2.0000000000422347, 5.0000000046724136, 5.0000000050875961, 8.0000000479993219, 10.000000173093328]\n",
      "1 : [2.0000000000422355, 5.0000000046722182, 5.0000000050876032, 8.000000047998725, 10.000000173093275]\n",
      "2 : [2.0000000000422347, 5.0000000046726347, 5.0000000050876201, 8.0000000479988511, 10.000000173093298]\n",
      "3 : [2.000000000042236, 5.0000000046723097, 5.0000000050877631, 8.000000047998455, 10.000000173093724]\n",
      "4 : [2.0000000000422355, 5.0000000046723514, 5.000000005087502, 8.000000047998352, 10.000000173093554]\n",
      "5 : [2.0000000000422355, 5.0000000046723549, 5.0000000050877551, 8.0000000479986912, 10.000000173093461]\n",
      "6 : [2.0000000000422355, 5.0000000046721773, 5.0000000050876805, 8.0000000479982702, 10.000000173093298]\n",
      "7 : [2.0000000000422351, 5.0000000046724171, 5.0000000050875961, 8.0000000479984603, 10.000000173093245]\n",
      "8 : [2.000000000042236, 5.0000000046723061, 5.0000000050877027, 8.0000000479984816, 10.000000173093355]\n",
      "9 : [2.000000000042236, 5.0000000046723017, 5.000000005087549, 8.0000000479984514, 10.000000173093321]\n",
      "10 : [2.000000000042236, 5.0000000046723061, 5.0000000050877302, 8.000000047998391, 10.000000173093353]\n",
      "11 : [2.000000000042236, 5.0000000046722839, 5.0000000050876849, 8.0000000479983964, 10.00000017309331]\n",
      "12 : [2.000000000042236, 5.0000000046724153, 5.0000000050876432, 8.0000000479984656, 10.000000173093293]\n",
      "13 : [2.000000000042236, 5.0000000046723398, 5.0000000050876912, 8.0000000479984159, 10.000000173093245]\n",
      "14 : [2.000000000042236, 5.0000000046722972, 5.0000000050876556, 8.0000000479984763, 10.00000017309328]\n",
      "15 : [2.0000000000422355, 5.0000000046722395, 5.0000000050876414, 8.0000000479983857, 10.000000173093257]\n",
      "16 : [2.0000000000422351, 5.0000000046721844, 5.0000000050876237, 8.0000000479983822, 10.000000173093294]\n",
      "17 : [2.0000000000422355, 5.0000000046722137, 5.0000000050876361, 8.0000000479984372, 10.000000173093323]\n",
      "18 : [2.0000000000422355, 5.0000000046722697, 5.0000000050875748, 8.0000000479983395, 10.000000173093275]\n",
      "19 : [2.0000000000422355, 5.0000000046722368, 5.0000000050877009, 8.0000000479984337, 10.00000017309331]\n"
     ]
    }
   ],
   "source": [
    "asmall = Matrix(2*num, 2*num)\n",
    "msmall = Matrix(2*num, 2*num)\n",
    "lams = num * [1]\n",
    "\n",
    "for i in range(20):\n",
    "    \n",
    "    for j in range(num):\n",
    "        vecs[j].data = u.vecs[j]\n",
    "        r.data = a.mat * vecs[j] - lams[j] * m.mat * vecs[j]\n",
    "        vecs[num+j].data = pre.mat * r\n",
    "\n",
    "    for j in range(2*num):\n",
    "        Av.data = a.mat * vecs[j]\n",
    "        Mv.data = m.mat * vecs[j]\n",
    "        for k in range(2*num):\n",
    "            asmall[j,k] = InnerProduct(Av, vecs[k])\n",
    "            msmall[j,k] = InnerProduct(Mv, vecs[k])\n",
    "\n",
    "    ev,evec = scipy.linalg.eigh(a=asmall, b=msmall)\n",
    "    lams[:] = ev[0:num]\n",
    "    print (i, \":\", [lam/pi**2 for lam in lams])\n",
    "    \n",
    "    for j in range(num):\n",
    "        u.vecs[j][:] = 0.0\n",
    "        for k in range(2*num):\n",
    "            u.vecs[j].data += float(evec[k,j]) * vecs[k]\n",
    "            \n",
    "Draw (u)"
   ]
  },
  {
   "cell_type": "markdown",
   "metadata": {},
   "source": [
    "The *multidim-component* select in the *Visualization* dialog box allows to switch between the components of the multidim-GridFunction."
   ]
  },
  {
   "cell_type": "code",
   "execution_count": null,
   "metadata": {
    "collapsed": true
   },
   "outputs": [],
   "source": []
  }
 ],
 "metadata": {
  "kernelspec": {
   "display_name": "Python 3",
   "language": "python",
   "name": "python3"
  },
  "language_info": {
   "codemirror_mode": {
    "name": "ipython",
    "version": 3
   },
   "file_extension": ".py",
   "mimetype": "text/x-python",
   "name": "python",
   "nbconvert_exporter": "python",
   "pygments_lexer": "ipython3",
   "version": "3.6.5"
  }
 },
 "nbformat": 4,
 "nbformat_minor": 2
}

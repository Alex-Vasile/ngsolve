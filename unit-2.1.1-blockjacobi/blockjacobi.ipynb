{
 "cells": [
  {
   "cell_type": "markdown",
   "metadata": {},
   "source": [
    "# Buildingblocks for programming preconditioners"
   ]
  },
  {
   "cell_type": "code",
   "execution_count": null,
   "metadata": {},
   "outputs": [],
   "source": [
    "import netgen.gui\n",
    "from netgen.geom2d import unit_square\n",
    "from ngsolve import *\n",
    "%gui tk\n",
    "from ngsolve.la import EigenValues_Preconditioner\n",
    "mesh = Mesh(unit_square.GenerateMesh(maxh=0.1))\n",
    "Draw (mesh)"
   ]
  },
  {
   "cell_type": "code",
   "execution_count": null,
   "metadata": {},
   "outputs": [],
   "source": [
    "fes = H1(mesh, order=3, dirichlet=\"left|bottom\")\n",
    "u,v = fes.TnT()\n",
    "a = BilinearForm(fes)\n",
    "a += SymbolicBFI(grad(u)*grad(v) + u*v)\n",
    "a.Assemble()\n",
    "f = LinearForm(fes)\n",
    "f += SymbolicLFI(1*v)\n",
    "f.Assemble()\n",
    "gfu = GridFunction(fes)"
   ]
  },
  {
   "cell_type": "markdown",
   "metadata": {},
   "source": [
    "### Create a Jacobi-preconditioner"
   ]
  },
  {
   "cell_type": "code",
   "execution_count": null,
   "metadata": {},
   "outputs": [],
   "source": [
    "pre = a.mat.CreateSmoother(fes.FreeDofs())"
   ]
  },
  {
   "cell_type": "code",
   "execution_count": null,
   "metadata": {},
   "outputs": [],
   "source": [
    "EigenValues_Preconditioner(mat=a.mat, pre=pre).NumPy()"
   ]
  },
  {
   "cell_type": "code",
   "execution_count": null,
   "metadata": {
    "scrolled": true
   },
   "outputs": [],
   "source": [
    "solvers.CG(mat=a.mat, pre=pre, rhs=f.vec, sol=gfu.vec)\n",
    "Draw (gfu)"
   ]
  },
  {
   "cell_type": "markdown",
   "metadata": {},
   "source": [
    "### The smoother can also perform Gauss-Seidel smoothing:"
   ]
  },
  {
   "cell_type": "code",
   "execution_count": null,
   "metadata": {
    "scrolled": true
   },
   "outputs": [],
   "source": [
    "gfu.vec[:] = 0\n",
    "res = f.vec.CreateVector()\n",
    "pres = f.vec.CreateVector()\n",
    "proj = Projector(fes.FreeDofs(), True)\n",
    "\n",
    "for i in range(500):\n",
    "    pre.Smooth(gfu.vec, f.vec)\n",
    "    res.data = f.vec - a.mat*gfu.vec\n",
    "    pres.data = proj * res\n",
    "    print (\"it\", i, \", res =\", Norm(pres))\n",
    "Draw (gfu)"
   ]
  },
  {
   "cell_type": "markdown",
   "metadata": {},
   "source": [
    "### Implement a forward-backward GS preconditioner"
   ]
  },
  {
   "cell_type": "code",
   "execution_count": null,
   "metadata": {},
   "outputs": [],
   "source": [
    "class SymmetricGS(BaseMatrix):\n",
    "    def __init__ (self, smoother):\n",
    "        super(SymmetricGS, self).__init__()\n",
    "        self.smoother = smoother\n",
    "    def Mult (self, x, y):\n",
    "        y[:] = 0.0\n",
    "        self.smoother.Smooth(y, x)\n",
    "        self.smoother.SmoothBack(y,x)\n",
    "    def Height (self):\n",
    "        return self.smoother.height\n",
    "    def Width (self):\n",
    "        return self.smoother.height"
   ]
  },
  {
   "cell_type": "code",
   "execution_count": null,
   "metadata": {},
   "outputs": [],
   "source": [
    "gspre = SymmetricGS(pre)\n",
    "solvers.CG(mat=a.mat, pre=gspre, rhs=f.vec, sol=gfu.vec)\n",
    "Draw (gfu)"
   ]
  },
  {
   "cell_type": "code",
   "execution_count": null,
   "metadata": {},
   "outputs": [],
   "source": [
    "EigenValues_Preconditioner(mat=a.mat, pre=gspre).NumPy()"
   ]
  },
  {
   "cell_type": "markdown",
   "metadata": {},
   "source": [
    "## A BlockJacobi"
   ]
  },
  {
   "cell_type": "code",
   "execution_count": null,
   "metadata": {},
   "outputs": [],
   "source": [
    "blocks = []\n",
    "freedofs = fes.FreeDofs()\n",
    "for v in mesh.vertices:\n",
    "    vdofs = set()\n",
    "    for el in mesh[v].elements:\n",
    "        vdofs |= set(d for d in fes.GetDofNrs(el) if freedofs[d])\n",
    "    blocks.append (vdofs)\n",
    "print (blocks)"
   ]
  },
  {
   "cell_type": "code",
   "execution_count": null,
   "metadata": {},
   "outputs": [],
   "source": [
    "blockjac = a.mat.CreateBlockSmoother(blocks)\n",
    "EigenValues_Preconditioner(mat=a.mat, pre=blockjac)"
   ]
  },
  {
   "cell_type": "code",
   "execution_count": null,
   "metadata": {},
   "outputs": [],
   "source": [
    "blockgs = SymmetricGS(blockjac)\n",
    "EigenValues_Preconditioner(mat=a.mat, pre=blockgs)"
   ]
  },
  {
   "cell_type": "markdown",
   "metadata": {},
   "source": [
    "### Add a coarse grid correction"
   ]
  },
  {
   "cell_type": "code",
   "execution_count": null,
   "metadata": {},
   "outputs": [],
   "source": [
    "vertexdofs = BitArray(fes.ndof)\n",
    "vertexdofs[:] = False\n",
    "for v in mesh.vertices:\n",
    "    for d in fes.GetDofNrs(v):\n",
    "        vertexdofs[d] = True\n",
    "vertexdofs &= fes.FreeDofs()\n",
    "print (vertexdofs)"
   ]
  },
  {
   "cell_type": "code",
   "execution_count": null,
   "metadata": {},
   "outputs": [],
   "source": [
    "coarsepre = a.mat.Inverse(vertexdofs)\n",
    "EigenValues_Preconditioner(mat=a.mat, pre=coarsepre)"
   ]
  },
  {
   "cell_type": "code",
   "execution_count": null,
   "metadata": {},
   "outputs": [],
   "source": [
    "twogrid = coarsepre + blockgs \n",
    "EigenValues_Preconditioner(mat=a.mat, pre=twogrid)"
   ]
  },
  {
   "cell_type": "code",
   "execution_count": null,
   "metadata": {},
   "outputs": [],
   "source": []
  }
 ],
 "metadata": {
  "kernelspec": {
   "display_name": "Python 3",
   "language": "python",
   "name": "python3"
  },
  "language_info": {
   "codemirror_mode": {
    "name": "ipython",
    "version": 3
   },
   "file_extension": ".py",
   "mimetype": "text/x-python",
   "name": "python",
   "nbconvert_exporter": "python",
   "pygments_lexer": "ipython3",
   "version": "3.6.5"
  }
 },
 "nbformat": 4,
 "nbformat_minor": 2
}

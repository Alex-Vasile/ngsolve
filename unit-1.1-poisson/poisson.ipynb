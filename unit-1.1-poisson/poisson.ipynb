{
 "cells": [
  {
   "cell_type": "markdown",
   "metadata": {},
   "source": [
    "# First NGS-Py example\n",
    "We are solving the Poisson equation \n",
    "\n",
    "$$\\text{find: } u \\in H_{0,D}^1 \\quad \\int_\\Omega \\nabla u \\nabla v = \\int_\\Omega f v \\quad \\forall v \\in H_{0,D}^1$$"
   ]
  },
  {
   "cell_type": "markdown",
   "metadata": {},
   "source": [
    "import NGSolve and Netgen Python modules:"
   ]
  },
  {
   "cell_type": "code",
   "execution_count": 1,
   "metadata": {
    "collapsed": true
   },
   "outputs": [],
   "source": [
    "import netgen.gui\n",
    "%gui tk\n",
    "from ngsolve import *\n",
    "from netgen.geom2d import unit_square"
   ]
  },
  {
   "cell_type": "markdown",
   "metadata": {},
   "source": [
    "Generate an unstructured mesh of maximal mesh-size 0.2:"
   ]
  },
  {
   "cell_type": "code",
   "execution_count": null,
   "metadata": {},
   "outputs": [],
   "source": [
    "mesh = Mesh(unit_square.GenerateMesh(maxh=0.2))\n",
    "mesh.nv, mesh.ne"
   ]
  },
  {
   "cell_type": "markdown",
   "metadata": {},
   "source": [
    "Declare a finite element space:"
   ]
  },
  {
   "cell_type": "code",
   "execution_count": 3,
   "metadata": {},
   "outputs": [
    {
     "data": {
      "text/plain": [
       "125"
      ]
     },
     "execution_count": 3,
     "metadata": {},
     "output_type": "execute_result"
    }
   ],
   "source": [
    "fes = H1(mesh, order=2, dirichlet=\"bottom|right\")\n",
    "fes.ndof"
   ]
  },
  {
   "cell_type": "markdown",
   "metadata": {},
   "source": [
    "Declare test and trial functions"
   ]
  },
  {
   "cell_type": "code",
   "execution_count": 4,
   "metadata": {
    "collapsed": true
   },
   "outputs": [],
   "source": [
    "u = fes.TrialFunction()\n",
    "v = fes.TestFunction()"
   ]
  },
  {
   "cell_type": "markdown",
   "metadata": {},
   "source": [
    "define and assemble linear and bilinear forms:"
   ]
  },
  {
   "cell_type": "code",
   "execution_count": 5,
   "metadata": {
    "collapsed": true
   },
   "outputs": [],
   "source": [
    "a = BilinearForm(fes, symmetric=True)\n",
    "a += SymbolicBFI (grad(u)*grad(v))\n",
    "a.Assemble()\n",
    "\n",
    "f = LinearForm(fes)\n",
    "f += SymbolicLFI(x*v)\n",
    "f.Assemble()\n",
    "\n",
    "# print (f.vec)\n",
    "# print (a.mat)"
   ]
  },
  {
   "cell_type": "markdown",
   "metadata": {},
   "source": [
    "GridFunction: a finite element function, contains coefficient vector"
   ]
  },
  {
   "cell_type": "code",
   "execution_count": 6,
   "metadata": {
    "collapsed": true
   },
   "outputs": [],
   "source": [
    "gfu = GridFunction(fes)\n",
    "gfu.vec.data = a.mat.Inverse(freedofs=fes.FreeDofs()) * f.vec\n",
    "\n",
    "# print (fes.FreeDofs())\n",
    "# print (gfu.vec)"
   ]
  },
  {
   "cell_type": "code",
   "execution_count": 7,
   "metadata": {},
   "outputs": [
    {
     "name": "stdout",
     "output_type": "stream",
     "text": [
      "Help on FESpace in module ngsolve.comp object:\n",
      "\n",
      "class FESpace(builtins.object)\n",
      " |  Finite Element Space\n",
      " |  \n",
      " |  Provides the functionality for finite element calculations. Use\n",
      " |  the finite element space generator functions to construct the space,\n",
      " |  this can sometimes provide additional functionality (e.g HCurl).\n",
      " |  When createing a FESpace with a generator function the set parameters\n",
      " |  are passed to the FESpace constructor with and the type parameter is\n",
      " |  set. If the space has additional functionality it is added to the space.\n",
      " |  \n",
      " |  Available generator functions\n",
      " |  \n",
      " |  H1\n",
      " |  HCurl\n",
      " |  HDiv\n",
      " |  L2\n",
      " |  FacetFESpace\n",
      " |  HDivDiv\n",
      " |  \n",
      " |  2 __init__ overloads:\n",
      " |    1) To create a registered FESpace\n",
      " |    2) To create a compound FESpace from multiple created FESpaces\n",
      " |  \n",
      " |  1)\n",
      " |  \n",
      " |  Parameters\n",
      " |  \n",
      " |  type : string\n",
      " |    Type of the finite element space. This parameter is automatically\n",
      " |    set if the space is constructed with a generator function.\n",
      " |  \n",
      " |  mesh : ngsolve.Mesh\n",
      " |    Mesh on which the finite element space is defined on.\n",
      " |  \n",
      " |  flags : dict\n",
      " |    Provide additional flags for the finite element space, possible options\n",
      " |    are:\n",
      " |      dgjumps : bool\n",
      " |        Enable DG functionality\n",
      " |      print : bool\n",
      " |        Write additional debug information to testout file. This\n",
      " |        file must be set by ngsolve.SetTestoutFile.\n",
      " |  \n",
      " |  order : int\n",
      " |    Order of the finite element space\n",
      " |  \n",
      " |  is_complex : bool\n",
      " |    Set to true if you want to specify complex (bi-)linearforms on the\n",
      " |    FESpace.\n",
      " |  \n",
      " |  dirichlet : regexpr\n",
      " |    Regular expression string defining the dirichlet boundary.\n",
      " |    More than one boundary can be combined by the | operator,\n",
      " |    Example: dirichlet = \"dirichlet1|dirichlet2\"\n",
      " |  \n",
      " |  definedon : list of bits\n",
      " |    Define FESpace only on the given domain numbers. Must be list of\n",
      " |    0s and 1s, 0 for not defined, 1 for defined.\n",
      " |  \n",
      " |  dim : int\n",
      " |    Create multi dimensional FESpace (i.e. [H1]^3)\n",
      " |  \n",
      " |  2)\n",
      " |  \n",
      " |  Parameters:\n",
      " |  \n",
      " |  spaces : list of ngsolve.FESpace\n",
      " |    List of the spaces for the compound finite element space\n",
      " |  \n",
      " |  flags : dict\n",
      " |      Additional flags for the compound FESpace\n",
      " |  \n",
      " |  Methods defined here:\n",
      " |  \n",
      " |  CouplingType(...) from builtins.PyCapsule\n",
      " |      CouplingType(self: ngsolve.comp.FESpace, dofnr: int) -> ngsolve.comp.COUPLING_TYPE\n",
      " |      \n",
      " |      get coupling type of a degree of freedom\n",
      " |  \n",
      " |  Elements(...) from builtins.PyCapsule\n",
      " |      Elements(*args, **kwargs)\n",
      " |      Overloaded function.\n",
      " |      \n",
      " |      1. Elements(self: ngsolve.comp.FESpace, VOL_or_BND: ngsolve.comp.VorB=VorB.VOL, heapsize: int=10000) -> ngsolve.comp.FESpaceElementRange\n",
      " |      \n",
      " |      2. Elements(self: ngsolve.comp.FESpace, VOL_or_BND: ngsolve.comp.VorB=VorB.VOL, heap: ngsolve.ngstd.LocalHeap) -> ngsolve.comp.FESpaceElementRange\n",
      " |  \n",
      " |  FreeDofs(...) from builtins.PyCapsule\n",
      " |      FreeDofs(self: ngsolve.comp.FESpace, coupling: bool=False) -> ngsolve.ngstd.BitArray\n",
      " |  \n",
      " |  GetDofNrs(...) from builtins.PyCapsule\n",
      " |      GetDofNrs(self: ngsolve.comp.FESpace, arg0: ngsolve.comp.ElementId) -> tuple\n",
      " |  \n",
      " |  GetFE(...) from builtins.PyCapsule\n",
      " |      GetFE(*args, **kwargs)\n",
      " |      Overloaded function.\n",
      " |      \n",
      " |      1. GetFE(self: ngsolve.comp.FESpace, arg0: ngsolve.comp.ElementId) -> object\n",
      " |      \n",
      " |      2. GetFE(self: ngsolve.comp.FESpace, arg0: ngsolve.comp.ElementId, arg1: ngsolve.ngstd.LocalHeap) -> ngsolve.fem.FiniteElement\n",
      " |  \n",
      " |  Range(...) from builtins.PyCapsule\n",
      " |      Range(self: ngsolve.comp.FESpace, arg0: int) -> slice\n",
      " |  \n",
      " |  SetCouplingType(...) from builtins.PyCapsule\n",
      " |      SetCouplingType(self: ngsolve.comp.FESpace, dofnr: int, coupling_type: ngsolve.comp.COUPLING_TYPE) -> None\n",
      " |      \n",
      " |      set coupling type of a degree of freedom\n",
      " |  \n",
      " |  SetOrder(...) from builtins.PyCapsule\n",
      " |      SetOrder(self: ngsolve.comp.FESpace, element_type: ngsolve.fem.ET, order: object=<ngsolve.ngstd.DummyArgument>, order_left: object=<ngsolve.ngstd.DummyArgument>, order_right: object=<ngsolve.ngstd.DummyArgument>) -> None\n",
      " |  \n",
      " |  SolveM(...) from builtins.PyCapsule\n",
      " |      SolveM(self: ngsolve.comp.FESpace, rho: ngsolve.fem.CoefficientFunction, vec: ngsolve.la.BaseVector, heapsize: int=1000000) -> None\n",
      " |  \n",
      " |  TestFunction(...) from builtins.PyCapsule\n",
      " |      TestFunction(self: ngsolve.comp.FESpace) -> object\n",
      " |      \n",
      " |      Gives a proxy to be used as a testfunction for Symbolic Integrators\n",
      " |  \n",
      " |  TrialFunction(...) from builtins.PyCapsule\n",
      " |      TrialFunction(self: ngsolve.comp.FESpace) -> object\n",
      " |      \n",
      " |      Gives a proxy to be used as a trialfunction in Symbolic Integrators\n",
      " |  \n",
      " |  Update(...) from builtins.PyCapsule\n",
      " |      Update(self: ngsolve.comp.FESpace, heapsize: int=1000000) -> None\n",
      " |      \n",
      " |      update space after mesh-refinement\n",
      " |  \n",
      " |  __eq__(...) from builtins.PyCapsule\n",
      " |      __eq__(self: ngsolve.comp.FESpace, arg0: ngsolve.comp.FESpace) -> bool\n",
      " |  \n",
      " |  __getstate__(...) from builtins.PyCapsule\n",
      " |      __getstate__(self: object) -> tuple\n",
      " |  \n",
      " |  __init__(...) from builtins.PyCapsule\n",
      " |      __init__(*args, **kwargs)\n",
      " |      Overloaded function.\n",
      " |      \n",
      " |      1. __init__(self: ngsolve.comp.FESpace, type: str, mesh: ngsolve.comp.Mesh, flags: dict={}, order: int=-1, complex: bool=False, dirichlet: object=<ngsolve.ngstd.DummyArgument>, definedon: object=<ngsolve.ngstd.DummyArgument>, dim: int=-1, order_left: object=<ngsolve.ngstd.DummyArgument>, order_right: object=<ngsolve.ngstd.DummyArgument>) -> None\n",
      " |      \n",
      " |      allowed types are: 'h1ho', 'l2ho', 'hcurlho', 'hdivho' etc.\n",
      " |      \n",
      " |      2. __init__(self: ngsolve.comp.FESpace, spaces: list, flags: dict={}) -> None\n",
      " |      \n",
      " |      construct compound-FESpace from list of component spaces\n",
      " |  \n",
      " |  __new__(*args, **kwargs) from builtins.type\n",
      " |      Create and return a new object.  See help(type) for accurate signature.\n",
      " |  \n",
      " |  __ngsid__(...) from builtins.PyCapsule\n",
      " |      __ngsid__(self: ngsolve.comp.FESpace) -> int\n",
      " |  \n",
      " |  __setstate__(...) from builtins.PyCapsule\n",
      " |      __setstate__(self: ngsolve.comp.FESpace, arg0: tuple) -> None\n",
      " |  \n",
      " |  __str__(...) from builtins.PyCapsule\n",
      " |      __str__(self: ngsolve.comp.FESpace) -> str\n",
      " |  \n",
      " |  __timing__(...) from builtins.PyCapsule\n",
      " |      __timing__(self: ngsolve.comp.FESpace) -> object\n",
      " |  \n",
      " |  ----------------------------------------------------------------------\n",
      " |  Data descriptors defined here:\n",
      " |  \n",
      " |  __dict__\n",
      " |  \n",
      " |  components\n",
      " |      list of gridfunctions for compound gridfunction\n",
      " |  \n",
      " |  globalorder\n",
      " |      query global order of space\n",
      " |  \n",
      " |  mesh\n",
      " |  \n",
      " |  ndof\n",
      " |      number of degrees of freedom\n",
      " |  \n",
      " |  ndofglobal\n",
      " |      global number of dofs on MPI-distributed mesh\n",
      " |  \n",
      " |  order\n",
      " |      proxy to set order for individual nodes\n",
      " |  \n",
      " |  type\n",
      " |      type of finite element space\n",
      "\n"
     ]
    }
   ],
   "source": [
    "help (fes)"
   ]
  },
  {
   "cell_type": "code",
   "execution_count": 8,
   "metadata": {},
   "outputs": [
    {
     "name": "stdout",
     "output_type": "stream",
     "text": [
      "coef binary operation '*', real, dim=1\n",
      "  coef coordinate x, real, dim=1\n",
      "  coef N5ngfem13ProxyFunctionE, real, dim=1\n",
      "\n"
     ]
    }
   ],
   "source": [
    "print (x*v)"
   ]
  },
  {
   "cell_type": "code",
   "execution_count": 9,
   "metadata": {
    "collapsed": true
   },
   "outputs": [],
   "source": [
    "Draw (gfu)"
   ]
  },
  {
   "cell_type": "code",
   "execution_count": null,
   "metadata": {
    "collapsed": true
   },
   "outputs": [],
   "source": []
  }
 ],
 "metadata": {
  "kernelspec": {
   "display_name": "Python 3",
   "language": "python",
   "name": "python3"
  },
  "language_info": {
   "codemirror_mode": {
    "name": "ipython",
    "version": 3
   },
   "file_extension": ".py",
   "mimetype": "text/x-python",
   "name": "python",
   "nbconvert_exporter": "python",
   "pygments_lexer": "ipython3",
   "version": "3.6.1"
  }
 },
 "nbformat": 4,
 "nbformat_minor": 2
}

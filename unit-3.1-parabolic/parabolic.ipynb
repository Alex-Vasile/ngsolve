{
 "cells": [
  {
   "cell_type": "markdown",
   "metadata": {},
   "source": [
    "# Parabolic model problem\n",
    "We are solving the unsteady heat equation \n",
    "\n",
    "$$\\text{find } u:[0,T] \\to H_{0,D}^1 \\quad \\int_{\\Omega} \\partial_t u v + \\int_{\\Omega} \\nabla u \\nabla v + b \\cdot \\nabla u v = \\int f v  \\quad \\forall v \\in H_{0,D}^1, \\quad u(t=0) = u_0$$\n",
    "with a suitable advective field $b$ (the wind)."
   ]
  },
  {
   "cell_type": "code",
   "execution_count": null,
   "metadata": {
    "collapsed": true
   },
   "outputs": [],
   "source": [
    "import netgen.gui\n",
    "%gui tk\n",
    "import tkinter\n",
    "from math import pi\n",
    "from ngsolve import *\n",
    "from netgen.geom2d import SplineGeometry"
   ]
  },
  {
   "cell_type": "markdown",
   "metadata": {},
   "source": [
    "We generate geometry $(-1,1)^2$, mesh (Dirichlet boundaries everywhere):"
   ]
  },
  {
   "cell_type": "code",
   "execution_count": null,
   "metadata": {},
   "outputs": [],
   "source": [
    "geo = SplineGeometry()\n",
    "geo.AddRectangle( (-1, -1), (1, 1), bcs = (\"bottom\", \"right\", \"top\", \"left\"))\n",
    "mesh = Mesh( geo.GenerateMesh(maxh=0.25))\n",
    "fes = H1(mesh, order=3, dirichlet=\"bottom|right|left|top\")\n",
    "u = fes.TrialFunction()\n",
    "v = fes.TestFunction()\n",
    "\n",
    "time = 0.0\n",
    "dt = 0.001"
   ]
  },
  {
   "cell_type": "markdown",
   "metadata": {},
   "source": [
    "We define the field $b$ (the wind) as $b(x,y) = (2y(1-x^2),-2x(1-y^2))$."
   ]
  },
  {
   "cell_type": "code",
   "execution_count": null,
   "metadata": {
    "collapsed": true
   },
   "outputs": [],
   "source": [
    "b = CoefficientFunction((2*y*(1-x*x),-2*x*(1-y*y)))\n",
    "Draw(b,mesh,\"wind\")"
   ]
  },
  {
   "cell_type": "markdown",
   "metadata": {},
   "source": [
    "We define and assemble bilinear forms for convection-diffusion stiffness and mass matrix seperately.\n",
    "\n",
    "Note that we choose a non-symmetric memory layout for the mass matrix so that a and m have the same sparsity pattern."
   ]
  },
  {
   "cell_type": "code",
   "execution_count": null,
   "metadata": {
    "collapsed": true
   },
   "outputs": [],
   "source": [
    "a = BilinearForm(fes, symmetric=False)\n",
    "a += SymbolicBFI (0.01*grad(u)*grad(v) + b*grad(u)*v)\n",
    "a.Assemble()\n",
    "\n",
    "m = BilinearForm(fes, symmetric=False)\n",
    "m += SymbolicBFI (u*v)\n",
    "m.Assemble()"
   ]
  },
  {
   "cell_type": "markdown",
   "metadata": {},
   "source": [
    "We want to use a simple implicit Euler time stepping method, i.e.\n",
    "\n",
    "$$\n",
    "  (M + \\Delta t A) u^{n+1} = M u^n + f^{n+1}\n",
    "$$\n",
    "\n",
    "or in an incremental form:\n",
    "\n",
    "$$\n",
    "  (M + \\Delta t A) (u^{n+1} - u^n) = - \\Delta t A u^n + f^{n+1}.\n",
    "$$\n",
    "\n",
    "The incremental form has the advantage that $u^{n+1} - u^n$ has homogeneous boundary conditions (unless boundary conditions are time-dependent).\n",
    "\n",
    "For the time stepping method we want to set up linear combinations of matrices.\n",
    "\n",
    "(Only) if the sparsity pattern of the matrices agree we can copy the pattern and sum up the entries.\n",
    "\n",
    "First, we create a matrix of the same size and sparsity pattern as m.mat:"
   ]
  },
  {
   "cell_type": "code",
   "execution_count": null,
   "metadata": {},
   "outputs": [],
   "source": [
    "mstar = m.mat.CreateMatrix()\n",
    "print(mstar)"
   ]
  },
  {
   "cell_type": "markdown",
   "metadata": {},
   "source": [
    "To access the entries we use the vector of nonzero-entries:"
   ]
  },
  {
   "cell_type": "code",
   "execution_count": null,
   "metadata": {},
   "outputs": [],
   "source": [
    "print(mstar.AsVector())"
   ]
  },
  {
   "cell_type": "markdown",
   "metadata": {},
   "source": [
    "Using the vector we can build the linear combination of the a and the m matrix:"
   ]
  },
  {
   "cell_type": "code",
   "execution_count": null,
   "metadata": {
    "collapsed": true
   },
   "outputs": [],
   "source": [
    "mstar.AsVector().data = m.mat.AsVector() + dt * a.mat.AsVector()\n",
    "invmstar = mstar.Inverse(freedofs=fes.FreeDofs())"
   ]
  },
  {
   "cell_type": "markdown",
   "metadata": {},
   "source": [
    "We set the r.h.s. $f = exp(-6 ((x+\\frac12)^2+y^2)) - exp(-6 ((x-\\frac12)^2+y^2))$"
   ]
  },
  {
   "cell_type": "code",
   "execution_count": null,
   "metadata": {
    "collapsed": true
   },
   "outputs": [],
   "source": [
    "f = LinearForm(fes)\n",
    "gaussp = exp(-6*((x+0.5)*(x+0.5)+y*y))-exp(-6*((x-0.5)*(x-0.5)+y*y))\n",
    "Draw(gaussp,mesh,\"f\")\n",
    "f += SymbolicLFI(gaussp*v)\n",
    "f.Assemble()"
   ]
  },
  {
   "cell_type": "markdown",
   "metadata": {},
   "source": [
    "and the initial data: $u_0 = (1-y^2)x$"
   ]
  },
  {
   "cell_type": "code",
   "execution_count": null,
   "metadata": {
    "collapsed": true
   },
   "outputs": [],
   "source": [
    "gfu = GridFunction(fes)\n",
    "gfu.Set((1-y*y)*x)\n",
    "Draw(gfu,mesh,\"u\")"
   ]
  },
  {
   "cell_type": "code",
   "execution_count": null,
   "metadata": {},
   "outputs": [],
   "source": [
    "tstep = 10 # time that we want to step over within one block-run\n",
    "t_intermediate=0 # time counter within one block-run\n",
    "res = gfu.vec.CreateVector()\n",
    "while t_intermediate < tstep - 0.5 * dt:\n",
    "    res.data = dt * f.vec - dt * a.mat * gfu.vec\n",
    "    gfu.vec.data += invmstar * res\n",
    "    t_intermediate += dt\n",
    "    print(\"\\r\",time+t_intermediate,end=\"\")\n",
    "    Redraw(blocking=True)\n",
    "    if netgen.gui.win.tk.dooneevent(tkinter._tkinter.DONT_WAIT):\n",
    "        pass    \n",
    "print(\"\")\n",
    "time+=t_intermediate"
   ]
  },
  {
   "cell_type": "markdown",
   "metadata": {},
   "source": [
    "## Supplementary 1: time-dependent r.h.s. data\n",
    "Next, we want to consider time-dependent r.h.s. data $f=f(t)$:\n",
    "\n",
    "To this end, we introduce a parameter t representing the time. \n",
    "\n",
    "A Parameter is a constant CoefficientFunction the value of which can be changed with the Set-function."
   ]
  },
  {
   "cell_type": "code",
   "execution_count": null,
   "metadata": {
    "collapsed": true
   },
   "outputs": [],
   "source": [
    "t = Parameter(0.0)"
   ]
  },
  {
   "cell_type": "markdown",
   "metadata": {},
   "source": [
    "An example of a time-dependent coefficient that we want to use as r.h.s. in the following is"
   ]
  },
  {
   "cell_type": "code",
   "execution_count": null,
   "metadata": {
    "collapsed": true
   },
   "outputs": [],
   "source": [
    "omega=1\n",
    "gausspt = exp(-6*((x+sin(omega*t))*(x+sin(omega*t))+y*y))-exp(-6*((x-sin(omega*t))*(x-sin(omega*t))+y*y))\n",
    "Draw(gausspt,mesh,\"ft\")\n",
    "time = 0.0\n",
    "while time < 10 - 0.5 * dt:\n",
    "    t.Set(time)\n",
    "    Redraw(blocking=True)\n",
    "    if netgen.gui.win.tk.dooneevent(tkinter._tkinter.DONT_WAIT):\n",
    "        pass        \n",
    "    time += 1e-4"
   ]
  },
  {
   "cell_type": "markdown",
   "metadata": {},
   "source": [
    "Accordingly we define a different linear form which then has to be assembled in every time step."
   ]
  },
  {
   "cell_type": "code",
   "execution_count": null,
   "metadata": {
    "collapsed": true
   },
   "outputs": [],
   "source": [
    "ft = LinearForm(fes)\n",
    "ft += SymbolicLFI(gausspt*v)\n",
    "time = 0.0\n",
    "t.Set(0.0)\n",
    "gfu.Set((1-y*y)*x)\n",
    "#gfu.Set(CoefficientFunction(0))\n",
    "Draw(gfu,mesh,\"u\")"
   ]
  },
  {
   "cell_type": "code",
   "execution_count": null,
   "metadata": {},
   "outputs": [],
   "source": [
    "tstep = 20 # time that we want to step over within one block-run\n",
    "t_intermediate=0 # time counter within one block-run\n",
    "res = gfu.vec.CreateVector()\n",
    "while t_intermediate < tstep - 0.5 * dt:\n",
    "    t.Set(time+t_intermediate+dt)\n",
    "    ft.Assemble()\n",
    "    res.data = dt * ft.vec - dt * a.mat * gfu.vec\n",
    "    gfu.vec.data += invmstar * res\n",
    "    t_intermediate += dt\n",
    "    print(\"\\r\",time+t_intermediate,end=\"\")\n",
    "    Redraw(blocking=True)\n",
    "    if netgen.gui.win.tk.dooneevent(tkinter._tkinter.DONT_WAIT):\n",
    "        pass    \n",
    "print(\"\")\n",
    "time+=t_intermediate"
   ]
  },
  {
   "cell_type": "markdown",
   "metadata": {
    "collapsed": true
   },
   "source": [
    "## Supplementary 2: Time dependent boundary conditions"
   ]
  },
  {
   "cell_type": "markdown",
   "metadata": {},
   "source": [
    "Now, we want to consider changing boundary conditions $u|_{\\partial \\Omega} = u_D(t)$ and set $f=0$.\n",
    "\n",
    "We use the simple implicit Euler time stepping method again for this problem. Now, we directly use the non-incremental form:\n",
    "$$\n",
    "  (M + \\Delta t A) u^{n+1} = M u^n\n",
    "$$\n",
    "We homogenize w.r.t. to the boundary conditions, i.e. we split $u^{n+1} = u^{n+1}_0 + u^{n+1}_D$ where $u^{n+1}_D$ is some function in the FESpace with the correct boundary condition and $u^{n+1}_0$ is the sought for function with zero boundary values:\n",
    "\n",
    "$$\n",
    "  \\underbrace{(M + \\Delta t A)}_{M^\\ast} u^{n+1}_0 = M u^n - \\underbrace{(M + \\Delta t A)}_{M^\\ast} u^{n+1}_D\n",
    "$$\n"
   ]
  },
  {
   "cell_type": "code",
   "execution_count": null,
   "metadata": {
    "collapsed": true
   },
   "outputs": [],
   "source": [
    "uD = CoefficientFunction( [(1-x*x)*IfPos(sin(0.3*pi*t),sin(0.3*pi*t),0),0,0,0])\n",
    "time = 0.0\n",
    "t.Set(0.0)\n",
    "gfu.Set(uD,BND)\n",
    "Draw(gfu,mesh,\"u\")\n",
    "# visualization stuff\n",
    "from ngsolve.internal import *\n",
    "visoptions.mminval = 0.0\n",
    "visoptions.mmaxval = 0.2\n",
    "visoptions.deformation = 0\n",
    "visoptions.autoscale = 0"
   ]
  },
  {
   "cell_type": "code",
   "execution_count": null,
   "metadata": {},
   "outputs": [],
   "source": [
    "tstep = 10 # time that we want to step over within one block-run\n",
    "t_intermediate=0 # time counter within one block-run\n",
    "res = gfu.vec.CreateVector()\n",
    "while t_intermediate < tstep - 0.5 * dt:\n",
    "    t.Set(time+t_intermediate+dt)\n",
    "    res.data = m.mat * gfu.vec\n",
    "    gfu.Set(uD,BND)\n",
    "    res.data -= mstar * gfu.vec\n",
    "    gfu.vec.data += invmstar * res\n",
    "    t_intermediate += dt\n",
    "    print(\"\\r\",time+t_intermediate,end=\"\")\n",
    "    Redraw(blocking=True)\n",
    "    if netgen.gui.win.tk.dooneevent(tkinter._tkinter.DONT_WAIT):\n",
    "        pass    \n",
    "print(\"\")\n",
    "time+=t_intermediate"
   ]
  },
  {
   "cell_type": "markdown",
   "metadata": {},
   "source": [
    "## Supplementary 3: Singly diagonally implicit Runge-Kutta methods\n",
    "\n",
    "We consider more sophisticated time integration methods, SDIRK methods. To simplify presentation we set $f=0$.\n",
    "\n",
    "SDIRK methods for the semi-discrete problem $\\frac{d}{dt} u = M^{-1} F(u) = -M^{-1} \\cdot A u$ are of the form:\n",
    "$$\n",
    "  u^{n+1} = u^n + \\Delta t M^{-1} \\sum_{i=0}^{s-1} b_i k_i\n",
    "$$\n",
    "with\n",
    "$$\n",
    "k_i = - A u_i \\quad \\text{ where $u_i$ is the solution to } \\quad \n",
    "(M + a^\\ast \\Delta t A) u_i = M u^n - \\Delta t \\sum_{i=0}^{i-1} a_{ij} k_j, \\quad i=0,..,s-1.\n",
    "$$\n",
    "The coefficients a,b and c are stored in the butcher tableau:\n",
    "$$\n",
    "\\begin{array}{c|cccc}\n",
    "c_0 & a_{00} & 0 & \\ddots& \\\\\n",
    "c_1 & a_{10} & a_{11} & 0 & \\ddots \\\\\n",
    "\\vdots & \\vdots & \\vdots & \\ddots & 0\\\\\n",
    "c_{s-1} & a_{s-1,0} & a_{s-1,1} & \\dots& a_{s-1,s-1} \\\\ \\hline\n",
    " & b_{0} & b_1 & \\dots& b_{s-1} \\\\\n",
    "\\end{array}\n",
    "$$\n",
    "For an SDIRK method we have $a^\\ast = a_{ii},~i=0,..,s-1$."
   ]
  },
  {
   "cell_type": "markdown",
   "metadata": {},
   "source": [
    "We use the 2 stage SDIRK (order 3) method\n",
    "$$\n",
    "\\begin{array}{c|cc}\n",
    "p & p & 0 \\\\\n",
    "1-p & 1-2p & p \\\\ \\hline\n",
    " & 1/2 & 1/2 \\\\\n",
    "\\end{array}\n",
    "$$\n",
    "with $p = \\frac{3 - \\sqrt{3}}{6}$."
   ]
  },
  {
   "cell_type": "code",
   "execution_count": null,
   "metadata": {
    "collapsed": true
   },
   "outputs": [],
   "source": [
    "class sdirk2:\n",
    "    p = (3 - sqrt(3))/6\n",
    "    stages = 2\n",
    "    a = [[p, 0], [1 - 2*p, p]]\n",
    "    b = [1/2, 1/2]\n",
    "    c = [p, 1 - p]\n",
    "    astar = p\n",
    "\n",
    "butchertab = sdirk2()    \n",
    "    \n",
    "rhsi = gfu.vec.CreateVector()\n",
    "Mu0 = gfu.vec.CreateVector()\n",
    "ui = gfu.vec.CreateVector()\n",
    "k = [gfu.vec.CreateVector() for i in range(butchertab.stages)]"
   ]
  },
  {
   "cell_type": "markdown",
   "metadata": {},
   "source": [
    "We have to update the $M^\\ast$ matrix and reset initial data"
   ]
  },
  {
   "cell_type": "code",
   "execution_count": null,
   "metadata": {
    "collapsed": true
   },
   "outputs": [],
   "source": [
    "time = 0.0\n",
    "t.Set(0.0)\n",
    "gfu.Set(uD,BND)\n",
    "Draw(gfu,mesh,\"u\")\n",
    "# visualization stuff\n",
    "from ngsolve.internal import *\n",
    "visoptions.mminval = 0.0\n",
    "visoptions.mmaxval = 0.2\n",
    "visoptions.deformation = 0\n",
    "visoptions.autoscale = 0\n",
    "\n",
    "mstar.AsVector().data = m.mat.AsVector() + butchertab.astar * dt * a.mat.AsVector()\n",
    "invmstar = mstar.Inverse(freedofs=fes.FreeDofs())\n",
    "invmass = m.mat.Inverse(freedofs=fes.FreeDofs())"
   ]
  },
  {
   "cell_type": "code",
   "execution_count": null,
   "metadata": {},
   "outputs": [],
   "source": [
    "tstep = 10 # time that we want to step over within one block-run\n",
    "t_intermediate=0 # time counter within one block-run\n",
    "while t_intermediate < tstep - 0.5 * dt:\n",
    "    Mu0.data = m.mat * gfu.vec\n",
    "    for i in range(butchertab.stages):\n",
    "        # add up the ks as prescribed in the butcher tableau\n",
    "        rhsi.data = Mu0\n",
    "        for j in range(0,i):\n",
    "            rhsi.data += dt * butchertab.a[i][j] * k[j]\n",
    "        \n",
    "        # Solve for ui (with homogenization for the boundary data)\n",
    "        t.Set(time+t_intermediate+butchertab.c[i]*dt)\n",
    "        gfu.Set(uD,BND)\n",
    "        ui.data = gfu.vec\n",
    "        rhsi.data -= mstar * ui\n",
    "        ui.data += invmstar * rhsi\n",
    "        \n",
    "        # compute k[i] from ui\n",
    "        k[i].data = - a.mat * ui\n",
    "        \n",
    "    t_intermediate += dt\n",
    "    t.Set(time+t_intermediate)\n",
    "    \n",
    "    # Adding up the ks:\n",
    "    gfu.Set(uD,BND)\n",
    "    Mu0.data -= m.mat * gfu.vec\n",
    "    for i in range(0,butchertab.stages):\n",
    "        Mu0.data += dt * butchertab.b[i] * k[i]\n",
    "    gfu.vec.data += invmass * Mu0\n",
    "        \n",
    "    print(\"\\r\",time+t_intermediate,end=\"\")\n",
    "    Redraw(blocking=True)\n",
    "    if netgen.gui.win.tk.dooneevent(tkinter._tkinter.DONT_WAIT):\n",
    "        pass  \n",
    "    \n",
    "print(\"\")\n",
    "time+=t_intermediate            "
   ]
  },
  {
   "cell_type": "code",
   "execution_count": null,
   "metadata": {
    "collapsed": true
   },
   "outputs": [],
   "source": []
  }
 ],
 "metadata": {
  "kernelspec": {
   "display_name": "Python 3",
   "language": "python",
   "name": "python3"
  },
  "language_info": {
   "codemirror_mode": {
    "name": "ipython",
    "version": 3
   },
   "file_extension": ".py",
   "mimetype": "text/x-python",
   "name": "python",
   "nbconvert_exporter": "python",
   "pygments_lexer": "ipython3",
   "version": "3.6.1"
  }
 },
 "nbformat": 4,
 "nbformat_minor": 2
}

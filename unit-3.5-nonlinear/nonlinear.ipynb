{
 "cells": [
  {
   "cell_type": "markdown",
   "metadata": {},
   "source": [
    "# Nonlinear problems\n",
    "We want to solve a nonlinear PDE. "
   ]
  },
  {
   "cell_type": "markdown",
   "metadata": {},
   "source": [
    "## A simple scalar PDE\n",
    "We consider the simple PDE \n",
    "$$\n",
    "- \\Delta u + 3 u^3 = 1 \\text{ in } \\Omega\n",
    "$$\n",
    "on the unit square $\\Omega = (0,1)^2$. \n",
    "We note that this PDE can also be formulated as a nonlinear minimization problem (cf. [unit 3.6](unit-3.6-nonlmin/nonlmin.ipynb) )."
   ]
  },
  {
   "cell_type": "code",
   "execution_count": null,
   "metadata": {
    "collapsed": true
   },
   "outputs": [],
   "source": [
    "import netgen.gui\n",
    "%gui tk\n",
    "import tkinter\n",
    "from netgen.geom2d import unit_square\n",
    "from ngsolve import *\n",
    "\n",
    "mesh = Mesh (unit_square.GenerateMesh(maxh=0.3))"
   ]
  },
  {
   "cell_type": "markdown",
   "metadata": {
    "collapsed": true
   },
   "source": [
    "In NGSolve we can solve the PDE conveniently using the linearization feature of SymbolicBFI.\n",
    "\n",
    "The \"BilinearForm\" (which is not bilinear!) needed in the weak formulation is\n",
    "$$\n",
    "  A(u,v) = \\int_{\\Omega} \\nabla u \\nabla v + 3 u^3 v - 1 v ~ dx \\quad ( = 0 ~ \\forall~v \\in H^1_0)\n",
    "$$"
   ]
  },
  {
   "cell_type": "code",
   "execution_count": null,
   "metadata": {},
   "outputs": [],
   "source": [
    "V = H1(mesh, order=3, dirichlet=[1,2,3,4])\n",
    "u = V.TrialFunction()\n",
    "v = V.TestFunction()\n",
    "\n",
    "a = BilinearForm(V)\n",
    "a += SymbolicBFI( grad(u) * grad(v) + 5*u*u*v- 1 * v)"
   ]
  },
  {
   "cell_type": "markdown",
   "metadata": {},
   "source": [
    "We use Newton's method and make the loop:\n",
    "* Given an initial guess $u^0$\n",
    "* loop over $i=0,..$ until convergence:\n",
    "  * Compute linearization: $A u^i + \\delta A(u^i) \\Delta u^{i} = 0 $:\n",
    "    * $f^i = A u^i$ \n",
    "    * $B^i = \\delta A(u^i)$ \n",
    "    * Solve $B^i \\Delta u^i = -f^i$\n",
    "  * Update $u^{i+1} = u^i + \\Delta u^{i}$\n",
    "  * Evaluate stopping criteria\n",
    "* Evaluate $E(u^{i+1})$\n",
    "\n",
    "As a stopping criteria we take $ \\langle A u^i,\\Delta u^i \\rangle = \\langle A u^i, A u^i \\rangle_{(B^i)^{-1}}< \\varepsilon$.  "
   ]
  },
  {
   "cell_type": "code",
   "execution_count": null,
   "metadata": {},
   "outputs": [],
   "source": [
    "u = GridFunction(V)\n",
    "Draw(u,mesh,\"u\")\n",
    "\n",
    "res = u.vec.CreateVector()\n",
    "du = u.vec.CreateVector()\n",
    "\n",
    "for it in range(25):\n",
    "    print (\"Iteration\",it)\n",
    "    a.Apply(u.vec, res)\n",
    "    a.AssembleLinearization(u.vec)\n",
    "    \n",
    "    du.data = a.mat.Inverse(V.FreeDofs()) * res\n",
    "    u.vec.data -= du\n",
    "    \n",
    "    #stopping criteria\n",
    "    stopcritval = sqrt(abs(InnerProduct(du,res)))\n",
    "    print (\"<A u\",it,\", A u\",it,\">_{-1}^0.5 = \", stopcritval)\n",
    "    if stopcritval < 1e-13:\n",
    "        break\n",
    "    \n"
   ]
  },
  {
   "cell_type": "code",
   "execution_count": null,
   "metadata": {
    "collapsed": true
   },
   "outputs": [],
   "source": [
    "## "
   ]
  }
 ],
 "metadata": {
  "kernelspec": {
   "display_name": "Python 3",
   "language": "python",
   "name": "python3"
  },
  "language_info": {
   "codemirror_mode": {
    "name": "ipython",
    "version": 3
   },
   "file_extension": ".py",
   "mimetype": "text/x-python",
   "name": "python",
   "nbconvert_exporter": "python",
   "pygments_lexer": "ipython3",
   "version": "3.6.1"
  }
 },
 "nbformat": 4,
 "nbformat_minor": 2
}

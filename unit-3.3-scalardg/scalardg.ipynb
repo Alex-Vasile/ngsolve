{
 "cells": [
  {
   "cell_type": "markdown",
   "metadata": {},
   "source": [
    "# Discontinuous Galerkin Discretizations\n",
    "We are solving the scalar linear transport problem\n",
    "\n",
    "Find $u: [0,T] \\to V_D := \\{ u \\in L^2(\\Omega), b \\cdot \\nabla u \\in L^2(\\Omega), u|_{\\Gamma_{in}} = u_D\\}$, s.t.\n",
    "\n",
    "\\begin{equation}\n",
    "\\int_{\\Omega} \\partial_t u v +  b \\cdot \\nabla u v = \\int_{\\Omega} f v \\qquad \\forall v \\in V_0 = \\{ u \\in L^2(\\Omega), b \\cdot \\nabla u \\in L^2(\\Omega), u|_{\\Gamma_{in}} = 0\\}\n",
    "\\end{equation}"
   ]
  },
  {
   "cell_type": "code",
   "execution_count": null,
   "metadata": {
    "collapsed": true
   },
   "outputs": [],
   "source": [
    "import netgen.gui\n",
    "%gui tk\n",
    "import tkinter\n",
    "from math import pi\n",
    "from ngsolve import *\n",
    "from netgen.geom2d import SplineGeometry"
   ]
  },
  {
   "cell_type": "markdown",
   "metadata": {},
   "source": [
    "As a first example, we consider the unit square $(0,1)^2$ and the advection velocity $b = (1,2)$. Accordingly the inflow boundary is $\\Gamma_{in} = \\{ x \\cdot y = 0\\}$. "
   ]
  },
  {
   "cell_type": "code",
   "execution_count": null,
   "metadata": {
    "collapsed": true
   },
   "outputs": [],
   "source": [
    "from netgen.geom2d import SplineGeometry\n",
    "geo = SplineGeometry()\n",
    "geo.AddRectangle( (0, 0), (1, 1), \n",
    "                 bcs = (\"bottom\", \"right\", \"top\", \"left\"))\n",
    "mesh = Mesh( geo.GenerateMesh(maxh=0.2))"
   ]
  },
  {
   "cell_type": "markdown",
   "metadata": {},
   "source": [
    "We consider an Upwind DG discretization (in space):\n",
    "\n",
    "Find $u: [0,T] \\to V_h := \\bigoplus_{T\\in\\mathcal{T}_h} \\mathcal{P}^k(T)$ so that\n",
    "$$\n",
    "  \\sum_{T} \\int_T \\partial_t u v + b \\cdot \\nabla u v + \\int_{\\partial T} b_n (\\hat{u}-u) v = \\int_{\\Omega} f v, \\quad \\forall v \\in V_h.\n",
    "$$\n",
    "Here $\\hat{u}$ is the Upwind flux, i.e. $\\hat{u} = u$ on the outflow boundary part $\\partial T_{out} = \\{ x\\in \\partial T \\mid b(x) \\cdot n_T(x) \\geq 0 \\}$ of $T$ and $\\hat{u} = u^{other}$ else, with $u^{other}$ the value from the neighboring element."
   ]
  },
  {
   "cell_type": "markdown",
   "metadata": {},
   "source": [
    "There is quite a difference in the computational costs (compared to a standard DG formulation) depending on the question if the solution of linear systems is involved or only operator evaluations (explicit method). We treat both cases separately:\n",
    "\n",
    "* Solution of the time-dependent problem by explicit time stepping\n",
    "* Solution of the stationary problem "
   ]
  },
  {
   "cell_type": "markdown",
   "metadata": {},
   "source": [
    "## Explicit time stepping with a DG formulation\n",
    "\n",
    "Explicit Euler:\n",
    "\n",
    "\\begin{align}\n",
    "  \\sum_{T} \\int_T u^{n+1} v & = \\sum_{T} \\int_T u^{n} v - \\Delta t \\sum_{T} \\int_T \\left\\{ b \\cdot \\nabla u v + \\int_{\\partial T} b_n (\\hat{u}-u) v - \\int_{\\Omega} f v\\right\\}, \\quad \\forall v \\in V_h, \\\\\n",
    "  M u^{n+1} &= M u^{n} - \\Delta t C u^n + \\Delta t \\ f \n",
    "\\end{align}\n",
    "\n",
    "In our first example we set $u_0 = f = 0$. "
   ]
  },
  {
   "cell_type": "markdown",
   "metadata": {},
   "source": [
    "### Computing convection applications $C u^n$\n",
    "We compute $C u^n$ and define the corresponding bilinear form $C$. Some remarks on that:\n",
    "* We can define the bilinear form without setting up a matrix. The operator application is the only thing we want to use from the bilinear form\n",
    "* We require integrals on element boundaries. We use the keyword \"element_boundary\" to obtain quadrature rules for this. \n",
    "* To distinguish inflow from outflow we take compute $b \\cdot n$. Here the normal $n$ is available as a specialcf which has meaningful values on the skeleton, element boundaries or domain boundaries. \n",
    "* To make cases with coefficient functions we use the IfPos CoefficientFunction which has three arguments:\n",
    "  1. CF argument that decides on the evaluation. If expression is positive evaluate 2. otherwise 3.\n",
    "  2. CF that is evaluated in the positive case\n",
    "  3. CF that is evaluated in the negative case\n",
    "* To access the neighbor variables we can use **u.Other()**\n",
    "* To incorporate boundary conditions ($\\hat{u}$ on inflow boundaries), we set up a BilinearForm which is technically not bilinear, but only affine linear in the first argument. For operator application this behaves as desired, for setting up matrices this does not make sense!"
   ]
  },
  {
   "cell_type": "code",
   "execution_count": null,
   "metadata": {
    "collapsed": true
   },
   "outputs": [],
   "source": [
    "b = CoefficientFunction((1,2))\n",
    "n = specialcf.normal(mesh.dim)\n",
    "ubnd = IfPos(x,1,0)\n",
    "\n",
    "V = L2(mesh,order=2)\n",
    "u,v = V.TrialFunction(), V.TestFunction()\n",
    "\n",
    "c = BilinearForm(V)\n",
    "c += SymbolicBFI( b * grad(u) * v)\n",
    "c += SymbolicBFI( IfPos( (b*n), 0, (b*n) * (u.Other(ubnd)-u)) * v, element_boundary=True)\n",
    "\n",
    "gfu_expl = GridFunction(V)\n",
    "Draw(gfu_expl,mesh,\"u_explicit\")\n",
    "\n",
    "res = gfu_expl.vec.CreateVector()\n",
    "c.Apply(gfu_expl.vec,res)"
   ]
  },
  {
   "cell_type": "markdown",
   "metadata": {},
   "source": [
    "### Solving mass matrix problems\n",
    "\n",
    "To implement the explicit Euler method we now only need to invert the mass matrix. For DG methods the mass matrix is block diagonal, often even diagonal.\n",
    "Instead of setting up a matrix and inverting it, in NGSolve the FESpace provides a routine **SolveM** which realizes the operation $M^{-1} u$. Note that this function might only be implemented for some spaces (e.g. L2)."
   ]
  },
  {
   "cell_type": "code",
   "execution_count": null,
   "metadata": {
    "collapsed": true
   },
   "outputs": [],
   "source": [
    "t = 0\n",
    "dt = 0.001\n",
    "tend = 1\n",
    "\n",
    "while t < tend-0.5*dt:\n",
    "    c.Apply(gfu_expl.vec,res)\n",
    "    V.SolveM(CoefficientFunction(1.0),res)\n",
    "    gfu_expl.vec.data -= dt * res\n",
    "    t += dt\n",
    "    Redraw(blocking=True)"
   ]
  },
  {
   "cell_type": "markdown",
   "metadata": {},
   "source": [
    "## Solving linear systems with a DG formulation\n",
    "\n",
    "(This is partially a repitition of [unit-2.8](../unit-2.8-DG/DG.ipynb). If you are an expert on this already, you may skip the remainder of this unit)\n",
    "\n",
    "When it comes to solving linear systems with a DG formulation we have to change the way the sparsity pattern is typically constructed."
   ]
  },
  {
   "cell_type": "markdown",
   "metadata": {},
   "source": [
    "### Sparsity patterns in NGSolve\n",
    "The sparsity pattern of a standard FEM matrix and the pattern of a DG matrix is different due to the different couplings. We briefly explain how these cases are handled in NGSolve. In NGSolve the sparsity pattern is set up whenever a bilinear form is created, i.e. the sparsity pattern is generated based on the finite element space only (and not the integrators!).\n",
    "\n",
    "There are two cases:\n",
    "\n",
    "#### 1. Standard formulation\n",
    "In a standard formulation dofs (degrees of freedom) only couple (have a nonzero entry) if the support of the corresponding basis functions overlap. In NGSolve this sparsity pattern is achieved by associating all elements to a dof where the basis function is supported. Finally, for all dofs that are on elements associated with a dof a nonzero entry is reserved in the matrix. This work fine for all types of finite element spaces (H1, L2, Hdiv, Hcurl, etc..) and only depends on the 'GetDofNrs' function of a finite element space. \n",
    "\n",
    "The idea is sketched here for one dof:\n",
    "\n",
    "dof $\\to$ elements of dof = [el$_1,\\dots,$el$_n$] $\\to$ dofs of (el$_1$) $\\cup \\dots \\cup$ dofs of (el$_n$).\n",
    "\n",
    "#### 2. DG formulation ('dgjumps')\n",
    "In a DG formulation couplings (nonzero entries) are introduced also for basis functions which do not have overlapping support. Therefore a different mechanism (keyword: 'dgjumps') has been introduced to determine the sparsity pattern. This can be activated by adding the 'dgjumps' flags to the FESpace. Note that we do not need the flag if we do not set up matrices (explicit time stepping).\n",
    "\n",
    "In a dgjumps-formulation additional couplings are introduced by introducing couplings through facets. All dofs of the neighboring elements of a facet are associated with a facet and then for all dofs that are associated to facets associated with a dof a nonzero entry is reserved in a matrix. \n",
    "\n",
    "The idea is sketched here for one dof:\n",
    "\n",
    "dof $\\to$ facets of dof = [fac$_1,\\dots,$fac$_n$] $\\to$ dofs of (fac$_1$) $\\cup \\dots \\cup$ dofs of (fac$_n$).\n",
    "\n",
    "Note that 'dofs of facet $F$' is always larger than 'dofs of element $T$' if $F \\subset \\partial T$.\n"
   ]
  },
  {
   "cell_type": "markdown",
   "metadata": {},
   "source": [
    "We want to demonstrate the difference in the sparsity pattern with a simple comparison in the next block \n",
    "\n",
    "(you need matplotlib/scipy for this block - but can ignore it otherwise)"
   ]
  },
  {
   "cell_type": "code",
   "execution_count": null,
   "metadata": {
    "collapsed": true
   },
   "outputs": [],
   "source": [
    "V1 = L2(mesh,order=0)\n",
    "a1 = BilinearForm(V1)\n",
    "a1.Assemble()\n",
    "\n",
    "V2 = L2(mesh,order=0,flags={\"dgjumps\" : True})\n",
    "a2 = BilinearForm(V2)\n",
    "a2.Assemble()\n",
    "\n",
    "import scipy.sparse as sp\n",
    "import matplotlib.pylab as plt\n",
    "plt.rcParams['figure.figsize'] = (12, 12)\n",
    "\n",
    "a1.mat.AsVector()[:] = 1 # set every entry to 1\n",
    "rows,cols,vals = a1.mat.COO()\n",
    "A1 = sp.csr_matrix((vals,(rows,cols)))\n",
    "a2.mat.AsVector()[:] = 1 # set every entry to 1\n",
    "rows,cols,vals = a2.mat.COO()\n",
    "A2 = sp.csr_matrix((vals,(rows,cols)))\n",
    "fig = plt.figure()\n",
    "ax1 = fig.add_subplot(121)\n",
    "ax2 = fig.add_subplot(122)\n",
    "ax1.spy(A1)\n",
    "ax2.spy(A2)\n",
    "plt.show()"
   ]
  },
  {
   "cell_type": "markdown",
   "metadata": {},
   "source": [
    "Note that now, when setting up the system we require linear and bilinear forms separately to implement the boundary conditions."
   ]
  },
  {
   "cell_type": "code",
   "execution_count": null,
   "metadata": {
    "collapsed": true
   },
   "outputs": [],
   "source": [
    "b = CoefficientFunction((1,2))\n",
    "n = specialcf.normal(mesh.dim)\n",
    "ubnd = IfPos(x,1,0)\n",
    "\n",
    "V = L2(mesh,order=2,flags={\"dgjumps\": True})\n",
    "a = BilinearForm(V)\n",
    "u,v = V.TrialFunction(), V.TestFunction()\n",
    "a += SymbolicBFI( b * grad(u) * v)\n",
    "a += SymbolicBFI( IfPos( (b*n), 0, (b*n) * (u.Other()-u)) * v, element_boundary=True)\n",
    "a.Assemble()\n",
    "\n",
    "f = LinearForm(V)\n",
    "f += SymbolicLFI( (b*n) * IfPos( (b*n), 0, -ubnd) * v, BND, skeleton=True)\n",
    "f.Assemble()"
   ]
  },
  {
   "cell_type": "code",
   "execution_count": null,
   "metadata": {
    "collapsed": true
   },
   "outputs": [],
   "source": [
    "gfu_impl = GridFunction(V)\n",
    "gfu_impl.vec.data = a.mat.Inverse() * f.vec\n",
    "Draw(gfu_impl,mesh,\"u_implicit\")"
   ]
  },
  {
   "cell_type": "markdown",
   "metadata": {},
   "source": [
    "### Remarks on sparsity pattern in NGSolve"
   ]
  },
  {
   "cell_type": "markdown",
   "metadata": {},
   "source": [
    "#### Remark 1: The sparsity pattern is set up a-priorily\n",
    "The sparsity pattern of a sparse matrix in NGSolve is independent of its entries (it's set up a-priorily). It can happen that some of the entries remain zero after matrix assembly.\n",
    "Below we show the reserved memory for the sparse matrix and the (numerically) non-zero entries in this sparse matrix. \n",
    "\n",
    "(you need matplotlib/scipy for this block - but can ignore it otherwise)"
   ]
  },
  {
   "cell_type": "code",
   "execution_count": null,
   "metadata": {
    "collapsed": true
   },
   "outputs": [],
   "source": [
    "import scipy.sparse as sp\n",
    "import matplotlib.pylab as plt\n",
    "plt.rcParams['figure.figsize'] = (12, 12)\n",
    "rows,cols,vals = a.mat.COO()\n",
    "A1 = sp.csr_matrix((vals,(rows,cols)))\n",
    "A2 = A1.copy()\n",
    "A2.data[:] = 1\n",
    "fig = plt.figure()\n",
    "ax1 = fig.add_subplot(121); ax2 = fig.add_subplot(122)\n",
    "ax1.set_xlabel(\"numerically non-zero\")\n",
    "ax1.spy(A1)\n",
    "ax2.set_xlabel(\"reserved entries (potentially non-zero)\")\n",
    "ax2.spy(A2)\n",
    "plt.show()"
   ]
  },
  {
   "cell_type": "markdown",
   "metadata": {},
   "source": [
    "#### Remark 2: Dof numbering of higher order FESpaces "
   ]
  },
  {
   "cell_type": "markdown",
   "metadata": {},
   "source": [
    "In NGSolve FESpaces typically have a numbering where the first block of dofs corresponds to a low order subspace (which is convenient for iterative solvers). \n",
    "For L2 this means that the first dofs correspond to the constants on elements. \n",
    "\n",
    "You can turn this behavior of for some spaces, e.g. for L2 by adding the flag \"all_dofs_together\".\n",
    "\n",
    "We demonstrate this in the next comparison:\n",
    "\n",
    "(you need matplotlib/scipy for this block - but can ignore it otherwise)"
   ]
  },
  {
   "cell_type": "code",
   "execution_count": null,
   "metadata": {
    "collapsed": true
   },
   "outputs": [],
   "source": [
    "V0 = L2(mesh,order=0,flags={\"dgjumps\" : True})\n",
    "a0 = BilinearForm(V0)\n",
    "a0.Assemble()\n",
    "\n",
    "V1 = L2(mesh,order=1,flags={\"dgjumps\" : True})\n",
    "a1 = BilinearForm(V1)\n",
    "a1.Assemble()\n",
    "\n",
    "V2 = L2(mesh,order=1,flags={\"dgjumps\" : True, \"all_dofs_together\" : True})\n",
    "a2 = BilinearForm(V2)\n",
    "a2.Assemble()\n",
    "\n",
    "import scipy.sparse as sp\n",
    "import matplotlib.pylab as plt\n",
    "plt.rcParams['figure.figsize'] = (15, 15)\n",
    "\n",
    "a0.mat.AsVector()[:] = 1 # set every entry to 1\n",
    "rows,cols,vals = a0.mat.COO()\n",
    "A0 = sp.csr_matrix((vals,(rows,cols)))\n",
    "a1.mat.AsVector()[:] = 1 # set every entry to 1\n",
    "rows,cols,vals = a1.mat.COO()\n",
    "A1 = sp.csr_matrix((vals,(rows,cols)))\n",
    "a2.mat.AsVector()[:] = 1 # set every entry to 1\n",
    "rows,cols,vals = a2.mat.COO()\n",
    "A2 = sp.csr_matrix((vals,(rows,cols)))\n",
    "fig = plt.figure()\n",
    "ax1 = fig.add_subplot(131)\n",
    "ax2 = fig.add_subplot(132)\n",
    "ax3 = fig.add_subplot(133)\n",
    "ax1.set_xlabel(\"non-zeros (p=0)\")\n",
    "ax1.spy(A0,markersize=3)\n",
    "ax2.set_xlabel(\"non-zeros (p=1, low order + high order)\")\n",
    "ax2.spy(A1,markersize=1)\n",
    "ax3.set_xlabel(\"non-zeros (p=1, all_dofs_together)\")\n",
    "ax3.spy(A2,markersize=1)\n",
    "plt.show()"
   ]
  },
  {
   "cell_type": "markdown",
   "metadata": {},
   "source": [
    "# Supplementary 1: Skeleton formulation\n",
    "\n",
    "So far we considered the DG formulation with integrals on the boundary of each element. Instead one could formulate the problem in terms of facet integrals where every facet appears only once. \n",
    "\n",
    "Then, the corresponding formulation is:\n",
    "\n",
    "Find $u: [0,T] \\to V_h := \\bigoplus_{T\\in\\mathcal{T}_h} \\mathcal{P}^k(T)$ so that\n",
    "$$\n",
    "  \\sum_{T} \\int_T \\partial_t u v + b \\cdot \\nabla u v + \\sum_{F\\in\\mathcal{F}^{int}} \\int_{F} b_n (u^{neighbor} - u) v^{downwind} + \\sum_{F\\in\\mathcal{F}^{inflow}} \\int_{F} b_n (u^{inflow}-u) v = \\int_{\\Omega} f v , \\quad \\forall v \\in V_h.\n",
    "$$\n",
    "Here $\\mathcal{F}^{int}$ is the set of interior facets and $\\mathcal{F}^{inflow}$ is the set of boundary facets where $b \\cdot n < 0$. $v^{downwind}$ is the function on the downwind side of the facet and $u^{inflow}$ is the inflow boundary condition. \n",
    "\n",
    "In NGSolve these integrals can be assembled with **skeleton=True**. The facet integrals are divided into interior facets and exterior (boundary) facet. Hence, we add BND/VOL:"
   ]
  },
  {
   "cell_type": "code",
   "execution_count": null,
   "metadata": {
    "collapsed": true
   },
   "outputs": [],
   "source": [
    "b = CoefficientFunction((1,2))\n",
    "n = specialcf.normal(mesh.dim)\n",
    "ubnd = IfPos(x,1,0)\n",
    "\n",
    "V = L2(mesh,order=2)\n",
    "u,v = V.TrialFunction(), V.TestFunction()\n",
    "\n",
    "c = BilinearForm(V)\n",
    "c += SymbolicBFI( b * grad(u) * v)\n",
    "\n",
    "bn = b*n\n",
    "vin = IfPos(bn,v.Other(),v)\n",
    "c += SymbolicBFI( bn*(u.Other() - u) * vin, VOL, skeleton=True)\n",
    "c += SymbolicBFI( IfPos(bn, 0, bn) * (u.Other(ubnd) - u) * v, BND, skeleton=True)\n",
    "\n",
    "gfu_expl = GridFunction(V)\n",
    "Draw(gfu_expl,mesh,\"u_explicit\")\n",
    "\n",
    "res = gfu_expl.vec.CreateVector()\n",
    "c.Apply(gfu_expl.vec,res)"
   ]
  },
  {
   "cell_type": "code",
   "execution_count": null,
   "metadata": {
    "collapsed": true
   },
   "outputs": [],
   "source": [
    "t = 0\n",
    "dt = 0.001\n",
    "tend = 1\n",
    "\n",
    "while t < tend-0.5*dt:\n",
    "    c.Apply(gfu_expl.vec,res)\n",
    "    V.SolveM(CoefficientFunction(1.0),res)\n",
    "    gfu_expl.vec.data -= dt * res\n",
    "    t += dt\n",
    "    Redraw(blocking=True)"
   ]
  },
  {
   "cell_type": "markdown",
   "metadata": {},
   "source": [
    "# Supplementary 2: DG for Diffusion  \n",
    "\n",
    "Next, we want to discuss the DG formulation of the diffusion operator. To this end we again consider the Poisson problem\n",
    "$$\\text{find: } u \\in H_{0,D}^1 \\quad \\int_\\Omega \\nabla u \\nabla v = \\int_\\Omega f v \\quad \\forall v \\in H_{0,D}^1$$\n",
    "\n",
    "For the non-conforming discretization we use the $L^2$ space and the (symmetric) interior penalty method:\n",
    "Find $u \\in V_h := \\bigoplus_{T\\in\\mathcal{T}_h} \\mathcal{P}^k(T)$ so that\n",
    "\n",
    "\\begin{align}\n",
    "  & \\sum_{T} \\int_T \\nabla u \\nabla v + \\sum_{F\\in\\mathcal{F}^{int}} \\int_{F} \\{ - \\nabla u \\cdot n \\} [v] +  \\{ - \\nabla v \\cdot n \\} [u] +  \\frac{\\alpha}{h} [u][v] \\\\\n",
    "  & + \\sum_{F\\in\\mathcal{F}^{ext}} \\int_{F} - \\nabla u \\cdot n v - \\nabla v \\cdot n u + \\frac{\\alpha}{h}~ u v = \\sum_{F\\in\\mathcal{F}^{ext}} \\int_{F} - \\nabla v \\cdot n u_{D} + \\alpha/h u_{D} v  + \\int_{\\Omega} f v , \\quad \\forall v \\in V_h.\n",
    "\\end{align}\n",
    "\n",
    "where $\\{\\cdot\\}$ and $[ \\cdot ]$ are the usual average and jump operators across facets."
   ]
  },
  {
   "cell_type": "code",
   "execution_count": null,
   "metadata": {
    "collapsed": true
   },
   "outputs": [],
   "source": [
    "n = specialcf.normal(mesh.dim)\n",
    "h = specialcf.mesh_size\n",
    "\n",
    "ubnd = IfPos(x-y,0,1)\n",
    "source = IfPos(x-y,5,-5)\n",
    "\n",
    "order=2\n",
    "V = L2(mesh,order=order,flags={\"dgjumps\": True})\n",
    "a = BilinearForm(V)\n",
    "u,v = V.TrialFunction(), V.TestFunction()\n",
    "a += SymbolicBFI( grad(u) * grad(v))\n",
    "def avg_flux(u):\n",
    "    return 0.5*(-grad(u)*n-grad(u.Other())*n)\n",
    "def jump(u):\n",
    "    return u-u.Other()\n",
    "alpha = 5 * order * (order+1)\n",
    "a += SymbolicBFI( avg_flux(u) * jump(v) + avg_flux(v) * jump(u) + alpha/h * jump(u) * jump(v), VOL, skeleton=True)\n",
    "a += SymbolicBFI( - grad(u)*n*v - grad(v)*n*u + alpha/h * u * v, BND, skeleton=True)\n",
    "a.Assemble()\n",
    "\n",
    "f = LinearForm(V)\n",
    "f += SymbolicLFI( (- grad(v)*n + alpha/h * v) * ubnd, BND, skeleton=True)\n",
    "f += SymbolicLFI( source * v)\n",
    "f.Assemble()\n",
    "\n",
    "gfu_impl = GridFunction(V)\n",
    "gfu_impl.vec.data = a.mat.Inverse() * f.vec\n",
    "Draw(gfu_impl,mesh,\"u_implicit\")"
   ]
  }
 ],
 "metadata": {
  "kernelspec": {
   "display_name": "Python 3",
   "language": "python",
   "name": "python3"
  },
  "language_info": {
   "codemirror_mode": {
    "name": "ipython",
    "version": 3
   },
   "file_extension": ".py",
   "mimetype": "text/x-python",
   "name": "python",
   "nbconvert_exporter": "python",
   "pygments_lexer": "ipython3",
   "version": "3.6.1"
  }
 },
 "nbformat": 4,
 "nbformat_minor": 2
}

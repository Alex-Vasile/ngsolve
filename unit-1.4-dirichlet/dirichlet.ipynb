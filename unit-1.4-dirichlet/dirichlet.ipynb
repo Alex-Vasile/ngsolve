{
 "cells": [
  {
   "cell_type": "markdown",
   "metadata": {},
   "source": [
    "# Dirichlet boundary conditions\n",
    "We are solving the Poisson equation \n",
    "\n",
    "$$\\text{find: } u \\in H^1 \\cap \\{ u|_{\\Gamma_D} = g_D\\} \\text{ s.t.} \\quad \\int_\\Omega \\nabla u \\nabla v = \\int_\\Omega f v \\quad \\forall v \\in H_{0,D}^1 = H^1 \\cap \\{ u|_{\\Gamma_D} = 0 \\} $$\n",
    "\n",
    "We do this by homogenizing, i.e. we specify a function $u_D \\in H^1$ with $u_D|_{\\Gamma_D} = g_D$ and solve for $u_0 \\in H_{0,D}^1$, so that $u = u_0 + u_D$. So, we ask the questions:\n",
    " * How to define (approximate) a function $u_D$?\n",
    " * How to solve for $u_0$?\n",
    "We have already seen that the geometry has names and indices for different parts in the boundary that we can use to specify **dirichlet**-parts of the boundary for a finite element space:"
   ]
  },
  {
   "cell_type": "code",
   "execution_count": null,
   "metadata": {},
   "outputs": [],
   "source": [
    "import netgen.gui\n",
    "%gui tk\n",
    "from ngsolve import *\n",
    "from netgen.geom2d import unit_square\n",
    "mesh = Mesh(unit_square.GenerateMesh(maxh=0.2))\n",
    "fes = H1(mesh, order=2, dirichlet=\"left|right\")\n",
    "print(H1(mesh, order=2, dirichlet=\"\").ndof)\n",
    "print(fes.ndof)"
   ]
  },
  {
   "cell_type": "markdown",
   "metadata": {},
   "source": [
    "We note: the dirichlet-flag does not change the number of unknowns \n",
    "\n",
    "In NGSolve the unknowns are split into two groups: \n",
    " * dirichlet-dofs and \n",
    " * free dofs\n",
    "First, matrices and vectors are set up w.r.t. all dofs. Based on an additional field (a BitArray with values True or False for every dof) the splitting has to respected when solving the linear systems."
   ]
  },
  {
   "cell_type": "code",
   "execution_count": null,
   "metadata": {},
   "outputs": [],
   "source": [
    "print(\"free dofs of fes without \\\"dirichlet\\\" flag:\\n\", H1(mesh, order=2, dirichlet=\"\").FreeDofs())\n",
    "print(\"free dofs of fes:\\n\", fes.FreeDofs())"
   ]
  },
  {
   "cell_type": "markdown",
   "metadata": {},
   "source": [
    "We observe that the space without dirichlet-flag has only free dofs (no dirichlet dof) while the other space has a few dofs that are marked as non-free dofs. These are the dofs that are located on surface elements which are on the part of the surface that has the corresponding Dirichlet identifier (index or matching regexp-string). \n",
    "\n",
    "Bilinear and linear forms are also defined independent of the dirichlet flag:"
   ]
  },
  {
   "cell_type": "code",
   "execution_count": null,
   "metadata": {
    "collapsed": true
   },
   "outputs": [],
   "source": [
    "u = fes.TrialFunction()\n",
    "v = fes.TestFunction()\n",
    "\n",
    "a = BilinearForm(fes, symmetric=True)\n",
    "a += SymbolicBFI (grad(u)*grad(v))\n",
    "a.Assemble()\n",
    "\n",
    "f = LinearForm(fes)\n",
    "f += SymbolicLFI(1*v)\n",
    "f.Assemble()"
   ]
  },
  {
   "cell_type": "markdown",
   "metadata": {},
   "source": [
    "To define $u_D$ we can use the *Set* method which implements a Oswald-type interpolation ($L^2$-projection on each element + averaging). Set can be used in (parts of) the domain / boundary. Note that when ever you use set the vector is set to zero before."
   ]
  },
  {
   "cell_type": "code",
   "execution_count": null,
   "metadata": {},
   "outputs": [],
   "source": [
    "gfu = GridFunction(fes)\n",
    "gfu.Set(CoefficientFunction(1),definedon = mesh.Boundaries(\"left\"))\n",
    "gfu.Set(CoefficientFunction(1),definedon = mesh.Boundaries(\"right\"))\n",
    "gfu.Set(CoefficientFunction(1),definedon = mesh.Boundaries(\"top\"))\n",
    "gfu.Set(CoefficientFunction(1),definedon = mesh.Boundaries(\"bottom\"))\n",
    "Draw(gfu,mesh,\"u\")"
   ]
  },
  {
   "cell_type": "markdown",
   "metadata": {},
   "source": [
    "Here setting values on one part of the boundary overwrote the others. To set boundary value $1$ on the left and right boundary we use the regular expression \"left|right\":"
   ]
  },
  {
   "cell_type": "code",
   "execution_count": null,
   "metadata": {
    "collapsed": true
   },
   "outputs": [],
   "source": [
    "gfu = GridFunction(fes)\n",
    "gfu.Set(CoefficientFunction(1),definedon = mesh.Boundaries(\"left|right\"))\n",
    "Draw(gfu,mesh,\"u\")"
   ]
  },
  {
   "cell_type": "markdown",
   "metadata": {},
   "source": [
    "We now want to solve \n",
    "$$\n",
    "  A (u_0 + u_D) = f \\quad \\Rightarrow \\quad A u_0 = f - A u_D\n",
    "$$\n",
    "Actually, we want to solve only for the equations of $A u_0 = f - A u_D$ corresponding to free dofs. If we think of free dofs and dirichlet dofs numbered consecutively (which is typically not true), we have\n",
    "$$\n",
    "  \\left( \\begin{array}{cc} A_{FF} & A_{FD} \\\\ A_{DF} & A_{DD} \\end{array} \\right) \\left( \\begin{array}{c} u_{F} \\\\ u_{D} \\end{array} \\right) = \\left( \\begin{array}{c} {f}_F \\\\ {f}_D \\end{array} \\right) \\quad \\begin{array}{l} \\leftarrow \\text{ solved for } u_{F} \\\\ \\leftarrow \\text{ replaced with } u_{D} = g_D\\end{array}\n",
    "$$\n",
    "which becomes\n",
    "$$\n",
    "  \\left( \\begin{array}{cc} A_{FF} & A_{FD} \\\\ A_{DF} & A_{DD} \\end{array} \\right) \\left( \\begin{array}{c} u_{0,F} \\\\ u_{0,D} \\end{array} \\right) = \\left( \\begin{array}{c} {f}_F \\\\ {f}_D \\end{array} \\right)\n",
    "%  \n",
    " - \\left( \\begin{array}{cc} A_{FF} & A_{FD} \\\\ A_{DF} & A_{DD} \\end{array} \\right) \\left( \\begin{array}{c} u_{D,F} \\\\ u_{D,D} \\end{array} \\right)\n",
    "% \\begin{array}{l} \\leftarrow \\text{ solved for } u_{0,F} \\\\ \\leftarrow \\text{ replaced with } u_{0,D}  \n",
    "%  \\quad \\begin{array}{l} \\leftarrow \\text{ solved for } u_{0,F} \\\\ \\leftarrow \\text{ replaced with } u_{0,D} = g_D\\end{array}\n",
    "$$\n",
    "and with $u_{0,D} = 0$ and the second row replaced with the prescribed boundary data:\n",
    "$$\n",
    "  \\left( \\begin{array}{cc} A_{FF} &  \\\\  &  \\end{array} \\right) \\left( \\begin{array}{c} u_{0,F} \\\\ {}  \\end{array} \\right) = \\left( \\begin{array}{c} {f}_F \\\\ {} \\end{array} \\right)\n",
    "%  \n",
    " - \\left( \\begin{array}{cc} A_{FF} & A_{FD} \\\\  &  \\end{array} \\right) \\left( \\begin{array}{c} u_{D,F} \\\\ u_{D,D} \\end{array} \\right) =  \\tilde{f}\n",
    "$$\n",
    "Hence, we need to\n",
    "* set up the right hand side (from a given $f$ and a given $u_D$)\n",
    "* solve a linear system which involves $A_{FF}$ only\n",
    "* add solution: $u = u_0 + u_D$\n"
   ]
  },
  {
   "cell_type": "markdown",
   "metadata": {},
   "source": [
    "Setting up the right hand side (from a given $f$ and a given $u_D$) is easy:"
   ]
  },
  {
   "cell_type": "code",
   "execution_count": null,
   "metadata": {},
   "outputs": [],
   "source": [
    "f.vec.data -= a.mat * gfu.vec"
   ]
  },
  {
   "cell_type": "markdown",
   "metadata": {},
   "source": [
    "Note that this affects all entries of $\\tilde{f}$, although we are only interested in the parts corresponding to free dofs, $\\tilde{f}_F$.\n",
    "\n",
    "To solve for the $A_{FF}$ block we can use sparse direct solvers on $A$ with the freedofs-argument which prescribes the subblock that is to be inverted, i.e. \n",
    "$$\n",
    " A.Inverse(freedofs=...) = \\left( \\begin{array}{cc} A_{FF}^{-1} & 0 \\\\ 0 & 0 \\end{array} \\right)\n",
    "$$\n",
    "With\n",
    "$$\n",
    "  u = u_0 + \\left( \\begin{array}{cc} A_{FF}^{-1} & 0 \\\\ 0 & 0 \\end{array} \\right) \\cdot \\tilde{f}\n",
    "$$\n",
    "we simply have"
   ]
  },
  {
   "cell_type": "code",
   "execution_count": null,
   "metadata": {
    "collapsed": true
   },
   "outputs": [],
   "source": [
    "gfu.vec.data += a.mat.Inverse(freedofs=fes.FreeDofs()) * f.vec\n",
    "Redraw()"
   ]
  },
  {
   "cell_type": "markdown",
   "metadata": {},
   "source": [
    "## Using BVP\n",
    "\n",
    "Using BVP homogenization is taken care of automatically. You provide $A$, $f$, $u$ and a preconditioner and the problem is solved for. Here, the preconditioner only acts on the free dofs:"
   ]
  },
  {
   "cell_type": "code",
   "execution_count": null,
   "metadata": {},
   "outputs": [],
   "source": [
    "c = Preconditioner(a,\"local\")     #<- Jacobi preconditioner\n",
    "#c = Preconditioner(a,\"direct\")   #<- sparse direct solver\n",
    "c.Update()\n",
    "BVP(bf=a,lf=f,gf=gfu,pre=c).Do()\n",
    "Redraw()"
   ]
  }
 ],
 "metadata": {
  "kernelspec": {
   "display_name": "Python 3",
   "language": "python",
   "name": "python3"
  },
  "language_info": {
   "codemirror_mode": {
    "name": "ipython",
    "version": 3
   },
   "file_extension": ".py",
   "mimetype": "text/x-python",
   "name": "python",
   "nbconvert_exporter": "python",
   "pygments_lexer": "ipython3",
   "version": "3.6.1"
  }
 },
 "nbformat": 4,
 "nbformat_minor": 2
}

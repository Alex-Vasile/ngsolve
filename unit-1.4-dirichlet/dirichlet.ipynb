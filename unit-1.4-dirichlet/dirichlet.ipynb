{
 "cells": [
  {
   "cell_type": "markdown",
   "metadata": {},
   "source": [
    "# Dirichlet boundary conditions\n",
    "\n",
    "This section shows how to solve the Dirichlet problem \n",
    "$$\n",
    "-\\Delta u  = f \\quad \\text{ in } \\Omega \n",
    "$$\n",
    "with a *nonzero Dirichlet boundary condition*\n",
    "$\n",
    "u|_{\\Gamma_D} = g\n",
    "$\n",
    "on a boundary part $\\Gamma_D$. "
   ]
  },
  {
   "cell_type": "markdown",
   "metadata": {},
   "source": [
    "#### Extension technique\n",
    "\n",
    "We use the technique of reducing a problem with essential non-homogeneous boundary conditions to one with homogeneous boundary condition by extension. The solution $u$ in $H^1$ satisfies \n",
    "$$\n",
    "u|_{\\Gamma_D} = g$$\n",
    "and \n",
    "$$ \n",
    "\\int_\\Omega \\nabla u \\cdot \\nabla v_0 = \\int_\\Omega f v_0\n",
    "$$\n",
    "for all $v_0$ in $\\in H_{0,D}^1 = \\{ v \\in H^1: v|_{\\Gamma_D} = 0\\}$. Split the solution \n",
    "$$\n",
    "u = u_0 + u_D\n",
    "$$\n",
    "where $u_D$ is an extension of $g$ into $\\Omega$.   Then we only need to find $u_0$ in $H^1_{0,D}$ satisfying the homogeneous Dirichlet problem \n",
    "$$\n",
    "\\int_\\Omega \\nabla u_0 \\cdot \\nabla v_0 = \\int_\\Omega f v_0 - \\int_\\Omega \\nabla u_D \\cdot \\nabla v_0 \n",
    "$$\n",
    "for all $v_0$ in $H_{0,D}^1$.\n",
    "\n",
    "#### Issues considered\n",
    "\n",
    " * How to set homogeneous Dirichlet conditions on spaces?  \n",
    " * How to define an extension $u_D$ in the finite element space?\n",
    " * How to solve for $u_0$?"
   ]
  },
  {
   "cell_type": "markdown",
   "metadata": {},
   "source": [
    "### Finite element spaces with Dirichlet conditions"
   ]
  },
  {
   "cell_type": "code",
   "execution_count": 1,
   "metadata": {},
   "outputs": [
    {
     "data": {
      "text/plain": [
       "['bottom', 'right', 'top', 'left']"
      ]
     },
     "execution_count": 1,
     "metadata": {},
     "output_type": "execute_result"
    }
   ],
   "source": [
    "import netgen.gui\n",
    "%gui tk\n",
    "from ngsolve import *\n",
    "from netgen.geom2d import unit_square\n",
    "\n",
    "mesh = Mesh(unit_square.GenerateMesh(maxh=0.2))\n",
    "mesh.GetBoundaries()"
   ]
  },
  {
   "cell_type": "markdown",
   "metadata": {},
   "source": [
    "The `unit_square` has its boundaries marked as `left`, `right`, `top` and `bottom`. Suppose we want non-homogeneous Dirichlet boundary conditions on \n",
    "$$\n",
    "\\Gamma_D = \\Gamma_{left} \\cup \\Gamma_{right}.\n",
    "$$\n",
    "Then, we set the space as follows:"
   ]
  },
  {
   "cell_type": "code",
   "execution_count": 2,
   "metadata": {
    "collapsed": true
   },
   "outputs": [],
   "source": [
    "fes = H1(mesh, order=2, dirichlet=\"left|right\")"
   ]
  },
  {
   "cell_type": "markdown",
   "metadata": {},
   "source": [
    "Compare this space with the one without the `dirichlet` flag:"
   ]
  },
  {
   "cell_type": "code",
   "execution_count": 3,
   "metadata": {},
   "outputs": [
    {
     "data": {
      "text/plain": [
       "(125, 125)"
      ]
     },
     "execution_count": 3,
     "metadata": {},
     "output_type": "execute_result"
    }
   ],
   "source": [
    "fs2 = H1(mesh, order=2)\n",
    "fes.ndof, fs2.ndof    # total number of unknowns"
   ]
  },
  {
   "cell_type": "markdown",
   "metadata": {},
   "source": [
    "Thus, the `dirichlet` flag did not change `ndof`. In NGSolve the unknowns are split into two groups: \n",
    " * dirichlet dofs (or constrained dofs), \n",
    " * free dofs.\n",
    " \n",
    "The facility `FreeDofs` gives a `BitArray` such that FreeDofs[dof] is True iff dof is a free degree of freedom."
   ]
  },
  {
   "cell_type": "code",
   "execution_count": 4,
   "metadata": {},
   "outputs": [
    {
     "name": "stdout",
     "output_type": "stream",
     "text": [
      "free dofs of fs2 without \"dirichlet\" flag:\n",
      " 0: 11111111111111111111111111111111111111111111111111\n",
      "50: 11111111111111111111111111111111111111111111111111\n",
      "100: 1111111111111111111111111\n",
      "free dofs of fes:\n",
      " 0: 00001111000011110000111111111111111111010101101111\n",
      "50: 11111110101110111111111111111011010111111111111111\n",
      "100: 1111111111111111111111111\n"
     ]
    }
   ],
   "source": [
    "print(\"free dofs of fs2 without \\\"dirichlet\\\" flag:\\n\",\n",
    "      fs2.FreeDofs())\n",
    "print(\"free dofs of fes:\\n\", fes.FreeDofs())"
   ]
  },
  {
   "cell_type": "markdown",
   "metadata": {},
   "source": [
    "* The space `fs2` without `dirichlet` flag has only free dofs (no dirichlet dofs).\n",
    "\n",
    "* The other space `fes` has a few dofs that are marked as *not* free. These are the dofs that are located on boundary regions we marked as `dirichlet`."
   ]
  },
  {
   "cell_type": "markdown",
   "metadata": {},
   "source": [
    "### Forms and assembly"
   ]
  },
  {
   "cell_type": "markdown",
   "metadata": {},
   "source": [
    "In NGSolve, bilinear and linear forms are defined independently of the dirichlet flags. The idea is to set up matrices and vectors with respect to all unknowns (free or constrained) and remove the constrained ones later.\n",
    "\n",
    "Consider the Dirichlet problem with $f=1$ and $g=1$. Then we need to implement the forms in \n",
    "$$\n",
    "\\int_\\Omega \\nabla u_0 \\cdot \\nabla v_0 = \\int_\\Omega f v_0 - \\int_\\Omega \\nabla u_D \\cdot \\nabla v_0.\n",
    "$$"
   ]
  },
  {
   "cell_type": "code",
   "execution_count": 5,
   "metadata": {
    "collapsed": true
   },
   "outputs": [],
   "source": [
    "u = fes.TrialFunction()\n",
    "v = fes.TestFunction()\n",
    "\n",
    "a = BilinearForm(fes, symmetric=True)\n",
    "a += SymbolicBFI (grad(u)*grad(v))\n",
    "a.Assemble()\n",
    "\n",
    "b = LinearForm(fes)\n",
    "b += SymbolicLFI(1*v)\n",
    "b.Assemble()"
   ]
  },
  {
   "cell_type": "markdown",
   "metadata": {},
   "source": [
    "To complete the implementation we need $u_D$, an extension of $g=1$ from the `left` and `right` boundary parts."
   ]
  },
  {
   "cell_type": "markdown",
   "metadata": {},
   "source": [
    "### Extending the boundary values"
   ]
  },
  {
   "cell_type": "code",
   "execution_count": 6,
   "metadata": {
    "collapsed": true
   },
   "outputs": [],
   "source": [
    "g = CoefficientFunction(1)\n",
    "uD = GridFunction(fes)\n",
    "uD.Set(g)"
   ]
  },
  {
   "cell_type": "markdown",
   "metadata": {},
   "source": [
    "* The `Set` method interpolates `g` to obtain the grid function `uD`.\n",
    "\n",
    "* Whenever a grid function calls `Set`, it sets itself to zero everywhere before interpolation (so any of its previous values are lost).\n",
    "\n",
    "* `Set` currently implements an Oswald-type interpolation obtained by projecting `g` in $L^2$ on each element followed by averaging interface dofs.  "
   ]
  },
  {
   "cell_type": "code",
   "execution_count": 7,
   "metadata": {
    "collapsed": true
   },
   "outputs": [],
   "source": [
    "Draw(uD, mesh, 'uD')"
   ]
  },
  {
   "cell_type": "markdown",
   "metadata": {},
   "source": [
    "We see that this extension happens to be constant up to round off. Hence the last term in \n",
    "$$\n",
    "\\int_\\Omega \\nabla u_0 \\cdot \\nabla v_0 = \\int_\\Omega f v_0 - \\int_\\Omega \\nabla u_D \\cdot \\nabla v_0\n",
    "$$\n",
    "is zero! So we may proceed to solve for $u_0$ rightaway."
   ]
  },
  {
   "cell_type": "markdown",
   "metadata": {},
   "source": [
    "### Inverting after removing Dirichlet dofs"
   ]
  },
  {
   "cell_type": "code",
   "execution_count": 9,
   "metadata": {},
   "outputs": [],
   "source": [
    "u0 = GridFunction(fes)\n",
    "u0.vec.data = a.mat.Inverse(freedofs=fes.FreeDofs()) * b.vec"
   ]
  },
  {
   "cell_type": "markdown",
   "metadata": {},
   "source": [
    "When `FreeDofs()` are passed to `a.mat.Inverse`, the inverse is computed after removing the rows and columns corresponding to the Dirichlet degrees of freedom. \n",
    "\n",
    "The final solution is obtained by adding back in the extension $u_D$."
   ]
  },
  {
   "cell_type": "code",
   "execution_count": 10,
   "metadata": {
    "collapsed": true
   },
   "outputs": [],
   "source": [
    "u = GridFunction(fes)\n",
    "u.vec.data = u0.vec + uD.vec\n",
    "Draw(u)"
   ]
  },
  {
   "cell_type": "markdown",
   "metadata": {},
   "source": [
    "### Extending using `BND`"
   ]
  },
  {
   "cell_type": "markdown",
   "metadata": {},
   "source": [
    "By some fortuitous coincidence we obtained $u_D \\equiv 1$ above which allowed us to omit the last term in \n",
    "$$\n",
    "\\int_\\Omega \\nabla u_0 \\cdot \\nabla v_0 = \\int_\\Omega f v_0 - \\int_\\Omega \\nabla u_D \\cdot \\nabla v_0.\n",
    "$$\n",
    "However this coincidence will not arise in general Dirichlet problems. \n",
    "\n",
    "We now create another extension $u_D$ by a better and more general way to extend boundary values. Note that the final solution $u = u_D + u_0$ must be independent of the extension!"
   ]
  },
  {
   "cell_type": "code",
   "execution_count": 11,
   "metadata": {
    "collapsed": true
   },
   "outputs": [],
   "source": [
    "g = CoefficientFunction(1)\n",
    "uD = GridFunction(fes)\n",
    "uD.Set(g, BND)\n",
    "Draw(uD, mesh, 'uD')"
   ]
  },
  {
   "cell_type": "markdown",
   "metadata": {},
   "source": [
    "The keyword `BND` tells `Set` that `g` need only be interpolated on those parts of the boundary that are marked `dirichlet`."
   ]
  },
  {
   "cell_type": "markdown",
   "metadata": {},
   "source": [
    "Now, we must add the term $-\\int_\\Omega \\nabla u_D \\cdot \\nabla v_0$ to the right hand side. Since the matrix $A=$`a.mat` was assembled without boundary conditions, this amounts to adding \n",
    "$$\n",
    "-A u_D\n",
    "$$\n",
    "to the right hand side vector `b`."
   ]
  },
  {
   "cell_type": "code",
   "execution_count": 12,
   "metadata": {},
   "outputs": [],
   "source": [
    "b.vec.data -= a.mat * uD.vec"
   ]
  },
  {
   "cell_type": "markdown",
   "metadata": {},
   "source": [
    "Now we are ready to solve again."
   ]
  },
  {
   "cell_type": "code",
   "execution_count": 13,
   "metadata": {},
   "outputs": [],
   "source": [
    "u2 = GridFunction(fes)\n",
    "u2.vec.data = a.mat.Inverse(freedofs=fes.FreeDofs()) * b.vec\n",
    "u2.vec.data +=  uD.vec\n",
    "Draw(u2)"
   ]
  },
  {
   "cell_type": "code",
   "execution_count": 14,
   "metadata": {},
   "outputs": [
    {
     "data": {
      "text/plain": [
       "8.017366516892621e-16"
      ]
     },
     "execution_count": 14,
     "metadata": {},
     "output_type": "execute_result"
    }
   ],
   "source": [
    "sqrt(Integrate( (u2-u)*(u2-u), mesh))  "
   ]
  },
  {
   "cell_type": "markdown",
   "metadata": {},
   "source": [
    "Thus we see that the computed solution is indeed independent of the method of extension used. "
   ]
  },
  {
   "cell_type": "markdown",
   "metadata": {},
   "source": [
    "We now want to solve \n",
    "$$\n",
    "  A (u_0 + u_D) = f \\quad \\Rightarrow \\quad A u_0 = f - A u_D\n",
    "$$\n",
    "Actually, we want to solve only for the equations of $A u_0 = f - A u_D$ corresponding to free dofs. If we think of free dofs and dirichlet dofs numbered consecutively (which is typically not true), we have\n",
    "$$\n",
    "  \\left( \\begin{array}{cc} A_{FF} & A_{FD} \\\\ A_{DF} & A_{DD} \\end{array} \\right) \\left( \\begin{array}{c} u_{F} \\\\ u_{D} \\end{array} \\right) = \\left( \\begin{array}{c} {f}_F \\\\ {f}_D \\end{array} \\right) \\quad \\begin{array}{l} \\leftarrow \\text{ solved for } u_{F} \\\\ \\leftarrow \\text{ replaced with } u_{D} = g_D\\end{array}\n",
    "$$\n",
    "which becomes\n",
    "$$\n",
    "  \\left( \\begin{array}{cc} A_{FF} & A_{FD} \\\\ A_{DF} & A_{DD} \\end{array} \\right) \\left( \\begin{array}{c} u_{0,F} \\\\ u_{0,D} \\end{array} \\right) = \\left( \\begin{array}{c} {f}_F \\\\ {f}_D \\end{array} \\right)\n",
    "%  \n",
    " - \\left( \\begin{array}{cc} A_{FF} & A_{FD} \\\\ A_{DF} & A_{DD} \\end{array} \\right) \\left( \\begin{array}{c} u_{D,F} \\\\ u_{D,D} \\end{array} \\right)\n",
    "% \\begin{array}{l} \\leftarrow \\text{ solved for } u_{0,F} \\\\ \\leftarrow \\text{ replaced with } u_{0,D}  \n",
    "%  \\quad \\begin{array}{l} \\leftarrow \\text{ solved for } u_{0,F} \\\\ \\leftarrow \\text{ replaced with } u_{0,D} = g_D\\end{array}\n",
    "$$\n",
    "and with $u_{0,D} = 0$ and the second row replaced with the prescribed boundary data:\n",
    "$$\n",
    "  \\left( \\begin{array}{cc} A_{FF} &  \\\\  &  \\end{array} \\right) \\left( \\begin{array}{c} u_{0,F} \\\\ {}  \\end{array} \\right) = \\left( \\begin{array}{c} {f}_F \\\\ {} \\end{array} \\right)\n",
    "%  \n",
    " - \\left( \\begin{array}{cc} A_{FF} & A_{FD} \\\\  &  \\end{array} \\right) \\left( \\begin{array}{c} u_{D,F} \\\\ u_{D,D} \\end{array} \\right) =  \\tilde{f}\n",
    "$$\n",
    "Hence, we need to\n",
    "* set up the right hand side (from a given $f$ and a given $u_D$)\n",
    "* solve a linear system which involves $A_{FF}$ only\n",
    "* add solution: $u = u_0 + u_D$\n"
   ]
  },
  {
   "cell_type": "markdown",
   "metadata": {},
   "source": [
    "Setting up the right hand side (from a given $f$ and a given $u_D$) is easy:"
   ]
  },
  {
   "cell_type": "code",
   "execution_count": 15,
   "metadata": {
    "collapsed": true
   },
   "outputs": [],
   "source": [
    "f.vec.data -= a.mat * gfu.vec"
   ]
  },
  {
   "cell_type": "markdown",
   "metadata": {},
   "source": [
    "Note that this affects all entries of $\\tilde{f}$, although we are only interested in the parts corresponding to free dofs, $\\tilde{f}_F$.\n",
    "\n",
    "To solve for the $A_{FF}$ block we can use sparse direct solvers on $A$ with the freedofs-argument which prescribes the subblock that is to be inverted, i.e. \n",
    "$$\n",
    " A.Inverse(freedofs=...) = \\left( \\begin{array}{cc} A_{FF}^{-1} & 0 \\\\ 0 & 0 \\end{array} \\right)\n",
    "$$\n",
    "With\n",
    "$$\n",
    "  u = u_0 + \\left( \\begin{array}{cc} A_{FF}^{-1} & 0 \\\\ 0 & 0 \\end{array} \\right) \\cdot \\tilde{f}\n",
    "$$\n",
    "we simply have"
   ]
  },
  {
   "cell_type": "code",
   "execution_count": 16,
   "metadata": {
    "collapsed": true
   },
   "outputs": [],
   "source": [
    "gfu.vec.data += a.mat.Inverse(freedofs=fes.FreeDofs()) * f.vec\n",
    "Redraw()"
   ]
  },
  {
   "cell_type": "markdown",
   "metadata": {},
   "source": [
    "## Using BVP\n",
    "\n",
    "Using BVP homogenization is taken care of automatically. You provide $A$, $f$, $u$ and a preconditioner and the problem is solved for. Here, the preconditioner only acts on the free dofs:"
   ]
  },
  {
   "cell_type": "code",
   "execution_count": 9,
   "metadata": {
    "collapsed": true
   },
   "outputs": [],
   "source": [
    "c = Preconditioner(a,\"local\")     #<- Jacobi preconditioner\n",
    "#c = Preconditioner(a,\"direct\")   #<- sparse direct solver\n",
    "c.Update()\n",
    "BVP(bf=a,lf=f,gf=gfu,pre=c).Do()\n",
    "Redraw()"
   ]
  },
  {
   "cell_type": "code",
   "execution_count": null,
   "metadata": {
    "collapsed": true
   },
   "outputs": [],
   "source": []
  }
 ],
 "metadata": {
  "kernelspec": {
   "display_name": "Python 3",
   "language": "python",
   "name": "python3"
  },
  "language_info": {
   "codemirror_mode": {
    "name": "ipython",
    "version": 3
   },
   "file_extension": ".py",
   "mimetype": "text/x-python",
   "name": "python",
   "nbconvert_exporter": "python",
   "pygments_lexer": "ipython3",
   "version": "3.6.0"
  }
 },
 "nbformat": 4,
 "nbformat_minor": 2
}

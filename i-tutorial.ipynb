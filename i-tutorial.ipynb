{
 "cells": [
  {
   "cell_type": "markdown",
   "metadata": {},
   "source": [
    "Interactive Tutorial to NGSolve\n",
    "===="
   ]
  },
  {
   "cell_type": "markdown",
   "metadata": {
    "collapsed": true
   },
   "source": [
    "Getting started\n",
    "----\n",
    "* [1.1](unit-1.1-poisson/poisson.ipynb) Poisson equation\n",
    "* [1.2](unit-1.2-coefficient/coefficientfunction.ipynb) CoefficientFunctions\n",
    "* [1.3] Error estimation and refinement\n",
    "* [1.4](unit-1.4-dirichlet/dirichlet.ipynb) Dirichlet boundary conditions\n",
    "* [1.5](unit-1.5-staticcond/staticcond.ipynb) Static condensation\n",
    "* [1.6] Spaces and forms on sub-domains\n",
    "* [1.7] Helmholtz equation"
   ]
  },
  {
   "cell_type": "markdown",
   "metadata": {
    "collapsed": true
   },
   "source": [
    "Advanced topics\n",
    "----\n",
    "* [2.1](unit-2.1-preconditioners/preconditioner.ipynb) Available preconditioners and solvers\n",
    "* [2.2](unit-2.2-eigenvalues/pinvit.ipynb) Eigen-value solver\n",
    "* [2.3](unit-2.3-hcurlhdiv/hcurlhdiv.ipynb) $H(curl)$ and $H(div)$ finite element spaces\n",
    "* Solving Maxwell equations\n",
    "* Mixed formulations\n",
    "* Stokes problem\n",
    "* Facet-spaces and hybrid methods\n",
    "* (Hybrid) Discontinuous Galerkin methods "
   ]
  },
  {
   "cell_type": "markdown",
   "metadata": {},
   "source": [
    "Time-dependent and non-linear problems\n",
    "----\n",
    "* [3.1](unit-3.1-parabolic/parabolic.ipynb) Time-stepping methods for parabolic equations\n",
    "* [3.2](unit-3.2-navierstokes/navierstokes.ipynb) Time-dependent Navier-Stokes equation\n",
    "* [3.3](unit-3.3-scalardg/scalardg.ipynb) DG-method for convection \n",
    "* [3.4](unit-3.4-opsplit/opsplit.ipynb)  DG/HDG splitting methods\n",
    "* [3.5](unit-3.5-nonlinear/nonlinear.ipynb) Non-linear equations\n",
    "* [3.6](unit-3.6-nonlmin/nonlmin.ipynb) Non-linear minimization problems"
   ]
  },
  {
   "cell_type": "markdown",
   "metadata": {},
   "source": [
    "Geometric modeling and mesh generation\n",
    "---\n",
    "\n",
    "* Spline geometries in 2D\n",
    "* CSG geometries in 3D\n",
    "* Working with meshes"
   ]
  }
 ],
 "metadata": {
  "kernelspec": {
   "display_name": "Python 3",
   "language": "python",
   "name": "python3"
  },
  "language_info": {
   "codemirror_mode": {
    "name": "ipython",
    "version": 3
   },
   "file_extension": ".py",
   "mimetype": "text/x-python",
   "name": "python",
   "nbconvert_exporter": "python",
   "pygments_lexer": "ipython3",
   "version": "3.6.1"
  }
 },
 "nbformat": 4,
 "nbformat_minor": 2
}

{
 "cells": [
  {
   "cell_type": "markdown",
   "metadata": {},
   "source": [
    "Interactive Tutorial to NGSolve\n",
    "===="
   ]
  },
  {
   "cell_type": "markdown",
   "metadata": {
    "collapsed": true
   },
   "source": [
    "Getting started\n",
    "----\n",
    "* [1.1](unit-1.1-poisson/poisson.ipynb) Poisson equation\n",
    "* [1.2](unit-1.2-coefficient/coefficientfunction.ipynb) CoefficientFunctions\n",
    "* [1.3] Error estimation and refinement\n",
    "* [1.4] Dirichlet boundary conditions\n",
    "* [1.5] Static condensation\n",
    "* [1.6] Spaces and forms on sub-domains\n",
    "* [1.7] Helmholtz equation"
   ]
  },
  {
   "cell_type": "markdown",
   "metadata": {
    "collapsed": true
   },
   "source": [
    "List Advanced topics\n",
    "----\n",
    "* Available preconditioners and solvers\n",
    "* Linear algebra \n",
    "* H(curl) and H(div) finite element spaces\n",
    "* Solving Maxwell equations\n",
    "* Mixed formulations\n",
    "* Stokes problem\n",
    "* Facet-spaces and hybrid methods\n",
    "* (Hybrid) Discontinuous Galerkin methods "
   ]
  },
  {
   "cell_type": "markdown",
   "metadata": {},
   "source": [
    "Time-dependent and non-linear problems\n",
    "----\n",
    "* Time-stepping methods for parabolic equations\n",
    "* Time-dependent Navier-Stokes equation\n",
    "* DG-method for convection \n",
    "* DG/HDG splitting methods\n",
    "* Non-linear equations\n",
    "* Non-linear minimization problems"
   ]
  },
  {
   "cell_type": "markdown",
   "metadata": {},
   "source": [
    "Geometric modeling and mesh generation\n",
    "---\n",
    "\n",
    "* Spline geometries in 2D\n",
    "* CSG geometries in 3D\n",
    "* Working with meshes"
   ]
  }
 ],
 "metadata": {
  "kernelspec": {
   "display_name": "Python 3",
   "language": "python",
   "name": "python3"
  },
  "language_info": {
   "codemirror_mode": {
    "name": "ipython",
    "version": 3
   },
   "file_extension": ".py",
   "mimetype": "text/x-python",
   "name": "python",
   "nbconvert_exporter": "python",
   "pygments_lexer": "ipython3",
   "version": "3.6.1"
  }
 },
 "nbformat": 4,
 "nbformat_minor": 2
}

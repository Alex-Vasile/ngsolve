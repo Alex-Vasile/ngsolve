{
 "cells": [
  {
   "cell_type": "markdown",
   "metadata": {
    "slideshow": {
     "slide_type": "slide"
    }
   },
   "source": [
    "# 3.3 Discontinuous Galerkin Discretizations\n",
    "We are solving the scalar linear transport problem\n",
    "\n",
    "Find $u: [0,T] \\to V_D := \\{ u \\in L^2(\\Omega), b \\cdot \\nabla u \\in L^2(\\Omega), u|_{\\Gamma_{in}} = u_D\\}$, s.t.\n",
    "\\begin{equation}\n",
    "\\int_{\\Omega} \\partial_t u v +  b \\cdot \\nabla u v = \\int_{\\Omega} f v \\qquad \\forall v \\in V_0 = \\{ u \\in L^2(\\Omega), b \\cdot \\nabla u \\in L^2(\\Omega), u|_{\\Gamma_{in}} = 0\\}\n",
    "\\end{equation}"
   ]
  },
  {
   "cell_type": "code",
   "execution_count": 1,
   "metadata": {
    "slideshow": {
     "slide_type": "subslide"
    }
   },
   "outputs": [],
   "source": [
    "from netgen import gui\n",
    "from math import pi\n",
    "from ngsolve import *"
   ]
  },
  {
   "cell_type": "markdown",
   "metadata": {
    "slideshow": {
     "slide_type": "subslide"
    }
   },
   "source": [
    "As a first example, we consider the unit square $(0,1)^2$ and the advection velocity $b = (1,2)$. Accordingly the inflow boundary is $\\Gamma_{in} = \\{ x \\cdot y = 0\\}$. "
   ]
  },
  {
   "cell_type": "code",
   "execution_count": 2,
   "metadata": {
    "slideshow": {
     "slide_type": "-"
    }
   },
   "outputs": [],
   "source": [
    "from netgen.geom2d import SplineGeometry\n",
    "geo = SplineGeometry()\n",
    "geo.AddRectangle( (0, 0), (1, 1), \n",
    "                 bcs = (\"bottom\", \"right\", \"top\", \"left\"))\n",
    "mesh = Mesh( geo.GenerateMesh(maxh=0.2))"
   ]
  },
  {
   "cell_type": "markdown",
   "metadata": {
    "slideshow": {
     "slide_type": "subslide"
    }
   },
   "source": [
    "We consider an Upwind DG discretization (in space):\n",
    "\n",
    "Find $u: [0,T] \\to V_h := \\bigoplus_{T\\in\\mathcal{T}_h} \\mathcal{P}^k(T)$ so that\n",
    "\n",
    "$$\n",
    "  \\sum_{T} \\int_T \\partial_t u v + b \\cdot \\nabla u v + \\int_{\\partial T} b_n (\\hat{u}-u) v = \\int_{\\Omega} f v, \\quad \\forall v \\in V_h.\n",
    "$$\n",
    "\n",
    "Here $\\hat{u}$ is the Upwind flux, i.e. $\\hat{u} = u$ on the outflow boundary part $\\partial T_{out} = \\{ x\\in \\partial T \\mid b(x) \\cdot n_T(x) \\geq 0 \\}$ of $T$ and $\\hat{u} = u^{other}$ else, with $u^{other}$ the value from the neighboring element."
   ]
  },
  {
   "cell_type": "markdown",
   "metadata": {
    "slideshow": {
     "slide_type": "-"
    }
   },
   "source": [
    "There is quite a difference in the computational costs (compared to a standard DG formulation) depending on the question if the solution of linear systems is involved or only operator evaluations (explicit method). We treat both cases separately:\n",
    "\n",
    "* Case 1: Solution of the time-dependent problem by explicit time stepping\n",
    "* Case 2: Solution of the stationary problem "
   ]
  },
  {
   "cell_type": "markdown",
   "metadata": {
    "slideshow": {
     "slide_type": "slide"
    }
   },
   "source": [
    "## Case 1: Explicit time stepping with a DG formulation\n",
    "\n",
    "Explicit Euler:\n",
    "$$\n",
    "\\sum_{T} \\int_T u^{n+1} v = \\sum_{T} \\int_T u^{n} v - \\Delta t \\sum_{T} \\left\\{ \\int_T  b \\cdot \\nabla u v \n",
    "+ \\int_{\\partial T} b_n (\\hat{u}-u) v \\right\\} - \\Delta t \\int_{\\Omega} f v, \\quad \\forall v \\in V_h,\n",
    "$$\n",
    "$$\n",
    "  M u^{n+1} = M u^{n} - \\Delta t C u^n + \\Delta t f\n",
    "$$\n",
    "\n",
    "In our first example we set $u_0 = f = 0$.\n"
   ]
  },
  {
   "cell_type": "markdown",
   "metadata": {
    "slideshow": {
     "slide_type": "subslide"
    }
   },
   "source": [
    "### Computing convection applications $C u^n$\n",
    "* We can define the bilinear form **without setting up a matrix** with storage. (`nonassemble=True`)\n",
    "* A `BilinearForm` is allowed to be **nonlinear in the 1st argument** (for operator applications)\n",
    "* For the DG formulation we require integrals on element boundaries, keyword: **`element_boundary`**\n",
    "* To distinguish inflow from outflow we evaluate $b \\cdot \\mathbf{n}$. Here the normal $\\mathbf{n}$ is available as a `specialcf`\n",
    "* To make cases with `CoefficientFunctions` we use the `IfPos`-`CoefficientFunction`. **`IfPos(a,b,c)`**. `a` decides on the evaluation. If `a` is positive `b` is evaluated, otherwise `c`.\n",
    "* To access the **neighbor** function we can use `u.Other()`\n",
    "* To incorporate **boundary conditions** ($\\hat{u}$ on inflow boundaries), we can use the argument `bnd` of `.Other(bnd)`. If there is no neighbor element (boundary!) the `CoefficientFunction` `bnd` is evaluated. "
   ]
  },
  {
   "cell_type": "code",
   "execution_count": 3,
   "metadata": {
    "slideshow": {
     "slide_type": "subslide"
    }
   },
   "outputs": [],
   "source": [
    "b = CoefficientFunction((1,2))\n",
    "n = specialcf.normal(mesh.dim)\n",
    "ubnd = IfPos(x,1,0)\n",
    "\n",
    "V = L2(mesh,order=2)\n",
    "u,v = V.TrialFunction(), V.TestFunction()\n",
    "\n",
    "c = BilinearForm(V, nonassemble=True)\n",
    "c += b * grad(u) * v * dx\n",
    "c += IfPos( (b*n), 0, (b*n) * (u.Other(ubnd)-u)) * v * dx(element_boundary=True)\n",
    "\n",
    "gfu_expl = GridFunction(V)\n",
    "Draw(gfu_expl,mesh,\"u_explicit\")\n",
    "\n",
    "res = gfu_expl.vec.CreateVector()\n",
    "#Operator application (equivalent to assemble and mult but faster)\n",
    "res.data = c.mat * gfu_expl.vec "
   ]
  },
  {
   "cell_type": "markdown",
   "metadata": {
    "slideshow": {
     "slide_type": "subslide"
    }
   },
   "source": [
    "### Solving mass matrix problems\n",
    "\n",
    "* Need to invert the mass matrix\n",
    "* For DG methods the mass matrix is block diagonal, often even diagonal.\n",
    "* FESpace offers (if available):\n",
    "  * `Mass(rho)`: mass matrix as an operator  (not a sparse matrix)\n",
    "  * `Mass(rho).Inverse()`: inverse mass matrix as an operator (not a sparse matrix)"
   ]
  },
  {
   "cell_type": "code",
   "execution_count": 4,
   "metadata": {
    "slideshow": {
     "slide_type": "-"
    }
   },
   "outputs": [],
   "source": [
    "t = 0\n",
    "dt = 0.001\n",
    "tend = 1\n",
    "\n",
    "invm = V.Mass(1).Inverse()\n",
    "\n",
    "while t < tend-0.5*dt:\n",
    "    res.data = invm @ c.mat * gfu_expl.vec     \n",
    "    gfu_expl.vec.data -= dt * res\n",
    "    t += dt\n",
    "    Redraw(blocking=True)"
   ]
  },
  {
   "cell_type": "markdown",
   "metadata": {
    "slideshow": {
     "slide_type": "slide"
    }
   },
   "source": [
    "## Case 2: Solving linear systems with a DG formulation\n",
    "\n",
    "When it comes to solving linear systems with a DG formulation we have to change the way the sparsity pattern is typically constructed."
   ]
  },
  {
   "cell_type": "markdown",
   "metadata": {
    "slideshow": {
     "slide_type": "subslide"
    }
   },
   "source": [
    "### Sparsity patterns in NGSolve\n",
    "* sparsity pattern of a standard FEM and DG matrix is different\n",
    "* In `NGSolve` the sparsity pattern is set up whenever a `BilinearForm` is assembled\n",
    "* the sparsity pattern is based on the finite element space only (and not the integrators!).\n",
    "\n",
    "Two cases:\n",
    " * standard FEM formulation (element-based couplings only)\n",
    " * DG formulations (element- and facet-based couplings) (`dgjumps=True`)"
   ]
  },
  {
   "cell_type": "markdown",
   "metadata": {
    "slideshow": {
     "slide_type": "subslide"
    }
   },
   "source": [
    "#### 1. Standard formulation\n",
    "* In a standard formulation unknowns only have a nonzero entry if the support of corresponding basis functions overlap\n",
    "* In `NGSolve` this sparsity pattern is obtained by allocating nonzero entries whenever two unknowns have an association with the same element.\n",
    "\n",
    "The idea is sketched here for one dof:\n",
    "\n",
    "dof $\\to$ elements of dof = [el$_1,\\dots,$el$_n$] $\\to$ dofs of (el$_1$) $\\cup \\dots \\cup$ dofs of (el$_n$)."
   ]
  },
  {
   "cell_type": "markdown",
   "metadata": {
    "slideshow": {
     "slide_type": "subslide"
    }
   },
   "source": [
    "#### 2. DG formulation ('dgjumps')\n",
    "* In a DG formulation couplings (nonzero entries) are introduced also for basis functions which do not have overlapping support.\n",
    "* An additional mechanism (keyword: `dgjumps`) has been introduced to determine the sparsity pattern. \n",
    "* This can be activated by adding the `dgjumps` flags to the `FESpace`. \n",
    "* We do not need the flag if we do not set up matrices (explicit time ste\n",
    "pping).\n",
    "* A `dgjumps`-formulation introduced additional couplings through facets, i.e. for all dofs that associate to the same facet a nonzero entry is reserved.\n",
    "\n",
    "The idea is sketched here for one dof:\n",
    "\n",
    "dof $\\to$ facets of dof = [fac$_1,\\dots,$fac$_n$] $\\to$ dofs of (fac$_1$) $\\cup \\dots \\cup$ dofs of (fac$_n$).\n",
    "\n",
    "Note that 'dofs of facet $F$' is always larger than 'dofs of element $T$' if $F \\subset \\partial T$."
   ]
  },
  {
   "cell_type": "markdown",
   "metadata": {
    "slideshow": {
     "slide_type": "subslide"
    }
   },
   "source": [
    "We want to demonstrate the difference in the sparsity pattern with a simple comparison in the next block"
   ]
  },
  {
   "cell_type": "code",
   "execution_count": 5,
   "metadata": {
    "slideshow": {
     "slide_type": "-"
    }
   },
   "outputs": [],
   "source": [
    "try:\n",
    "    V1 = L2(mesh,order=0)\n",
    "    a1 = BilinearForm(V1)\n",
    "    a1.Assemble()\n",
    "\n",
    "    V2 = L2(mesh,order=0, dgjumps=True)\n",
    "    a2 = BilinearForm(V2)\n",
    "    a2.Assemble()\n",
    "\n",
    "    import scipy.sparse as sp\n",
    "    import matplotlib.pylab as plt\n",
    "    plt.rcParams['figure.figsize'] = (12, 12)\n",
    "\n",
    "    a1.mat.AsVector()[:] = 1 # set every entry to 1\n",
    "    rows,cols,vals = a1.mat.COO()\n",
    "    A1 = sp.csr_matrix((vals,(rows,cols)))\n",
    "    a2.mat.AsVector()[:] = 1 # set every entry to 1\n",
    "    rows,cols,vals = a2.mat.COO()\n",
    "    A2 = sp.csr_matrix((vals,(rows,cols)))\n",
    "    fig = plt.figure()\n",
    "    ax1 = fig.add_subplot(121)\n",
    "    ax2 = fig.add_subplot(122)\n",
    "    ax1.spy(A1)\n",
    "    ax2.spy(A2)\n",
    "except ImportError:\n",
    "    pass"
   ]
  },
  {
   "cell_type": "markdown",
   "metadata": {
    "slideshow": {
     "slide_type": "subslide"
    }
   },
   "source": [
    "#### non-`dgjumps` vs `dgjumps`"
   ]
  },
  {
   "cell_type": "code",
   "execution_count": 6,
   "metadata": {
    "slideshow": {
     "slide_type": "-"
    }
   },
   "outputs": [],
   "source": [
    "try:\n",
    "    plt.show()\n",
    "except ImportError:\n",
    "    pass    "
   ]
  },
  {
   "cell_type": "markdown",
   "metadata": {
    "slideshow": {
     "slide_type": "subslide"
    }
   },
   "source": [
    "* when assembling a `BilinearForm` the bilinear form has to be **linear** in both arguments again (Linearizations will be addressed later)\n",
    "* `...Other(bnd=..)` does not make sense any more\n",
    "* when setting up the system we require `LinearForm` and `BilinearForm`s separately to implement boundary conditions."
   ]
  },
  {
   "cell_type": "code",
   "execution_count": 7,
   "metadata": {
    "slideshow": {
     "slide_type": "-"
    }
   },
   "outputs": [],
   "source": [
    "b = CoefficientFunction((1,2))\n",
    "n = specialcf.normal(mesh.dim)\n",
    "ubnd = IfPos(x,1,0)\n",
    "\n",
    "V = L2(mesh,order=2, dgjumps=True)\n",
    "a = BilinearForm(V)\n",
    "u,v = V.TrialFunction(), V.TestFunction()\n",
    "a += b * grad(u) * v * dx\n",
    "a += IfPos( (b*n), 0, (b*n) * (u.Other()-u)) * v * dx(element_vb=BND)\n",
    "a.Assemble()\n",
    "\n",
    "f = LinearForm(V)\n",
    "f += (b*n) * IfPos( (b*n), 0, -ubnd) * v * ds(skeleton=True,definedon=mesh.Boundaries(\"bottom\"))\n",
    "f.Assemble()"
   ]
  },
  {
   "cell_type": "code",
   "execution_count": 8,
   "metadata": {
    "slideshow": {
     "slide_type": "subslide"
    }
   },
   "outputs": [],
   "source": [
    "gfu_impl = GridFunction(V)\n",
    "gfu_impl.vec.data = a.mat.Inverse() * f.vec\n",
    "Draw(gfu_impl,mesh,\"u_implicit\")"
   ]
  },
  {
   "cell_type": "markdown",
   "metadata": {
    "slideshow": {
     "slide_type": "slide"
    }
   },
   "source": [
    "### Remarks on sparsity pattern in NGSolve"
   ]
  },
  {
   "cell_type": "markdown",
   "metadata": {
    "slideshow": {
     "slide_type": "fragment"
    }
   },
   "source": [
    "#### Remark 1: The sparsity pattern is set up a-priorily\n",
    "* The sparsity pattern of a sparse matrix in NGSolve is independent of its entries (it's set up a-priorily). \n",
    "* We can have \"nonzero\" entries that have the value\n",
    "\n",
    "Below we show the reserved memory for the sparse matrix and the (numerically) non-zero entries in this sparse matrix. \n",
    "\n",
    "(you need matplotlib/scipy for this block - but can ignore it otherwise)"
   ]
  },
  {
   "cell_type": "code",
   "execution_count": 9,
   "metadata": {
    "slideshow": {
     "slide_type": "subslide"
    }
   },
   "outputs": [
    {
     "data": {
      "image/png": "[encoded data removed]",
      "text/plain": [
       "<Figure size 864x864 with 2 Axes>"
      ]
     },
     "metadata": {
      "needs_background": "light"
     },
     "output_type": "display_data"
    }
   ],
   "source": [
    "try:\n",
    "    import scipy.sparse as sp\n",
    "    import matplotlib.pylab as plt\n",
    "    plt.rcParams['figure.figsize'] = (12, 12)\n",
    "    rows,cols,vals = a.mat.COO()\n",
    "    A1 = sp.csr_matrix((vals,(rows,cols)))\n",
    "    A2 = A1.copy()\n",
    "    A2.data[:] = 1\n",
    "    fig = plt.figure()\n",
    "    ax1 = fig.add_subplot(121); ax2 = fig.add_subplot(122)\n",
    "    ax1.set_xlabel(\"numerically non-zero\")\n",
    "    ax1.spy(A1)\n",
    "    ax2.set_xlabel(\"reserved entries (potentially non-zero)\")\n",
    "    ax2.spy(A2)\n",
    "    plt.show()\n",
    "except ImportError:\n",
    "    pass"
   ]
  },
  {
   "cell_type": "markdown",
   "metadata": {
    "slideshow": {
     "slide_type": "subslide"
    }
   },
   "source": [
    "#### Remark 2: Dof numbering of higher order FESpaces "
   ]
  },
  {
   "cell_type": "markdown",
   "metadata": {
    "slideshow": {
     "slide_type": "-"
    }
   },
   "source": [
    "* In `NGSolve` `FESpace`s typically have a numbering where the first block of dofs corresponds to a low order subspace (which is convenient for iterative solvers). \n",
    "* For L2 this means that the first dofs correspond to the constants on elements. \n",
    "\n",
    "* You can turn this behavior off for some spaces, e.g. for L2 by adding the flag `all_dofs_together`.\n",
    "\n",
    "We demonstrate this in the next comparison:\n",
    "\n",
    "\n",
    "(you need matplotlib/scipy for this block - but can ignore it otherwise)"
   ]
  },
  {
   "cell_type": "code",
   "execution_count": 10,
   "metadata": {
    "slideshow": {
     "slide_type": "subslide"
    }
   },
   "outputs": [
    {
     "data": {
      "image/png": "[encoded data removed]",
      "text/plain": [
       "<Figure size 1080x1080 with 3 Axes>"
      ]
     },
     "metadata": {
      "needs_background": "light"
     },
     "output_type": "display_data"
    }
   ],
   "source": [
    "try:\n",
    "    V0 = L2(mesh,order=0,dgjumps=True)\n",
    "    a0 = BilinearForm(V0)\n",
    "    a0.Assemble()\n",
    "\n",
    "    V1 = L2(mesh,order=1,dgjumps=True)\n",
    "    a1 = BilinearForm(V1)\n",
    "    a1.Assemble()\n",
    "\n",
    "    V2 = L2(mesh,order=1,dgjumps=True, all_dofs_together=True)\n",
    "    a2 = BilinearForm(V2)\n",
    "    a2.Assemble()\n",
    "\n",
    "    import scipy.sparse as sp\n",
    "    import matplotlib.pylab as plt\n",
    "    plt.rcParams['figure.figsize'] = (15, 15)\n",
    "\n",
    "    a0.mat.AsVector()[:] = 1 # set every entry to 1\n",
    "    rows,cols,vals = a0.mat.COO()\n",
    "    A0 = sp.csr_matrix((vals,(rows,cols)))\n",
    "    a1.mat.AsVector()[:] = 1 # set every entry to 1\n",
    "    rows,cols,vals = a1.mat.COO()\n",
    "    A1 = sp.csr_matrix((vals,(rows,cols)))\n",
    "    a2.mat.AsVector()[:] = 1 # set every entry to 1\n",
    "    rows,cols,vals = a2.mat.COO()\n",
    "    A2 = sp.csr_matrix((vals,(rows,cols)))\n",
    "    fig = plt.figure()\n",
    "    ax1 = fig.add_subplot(131)\n",
    "    ax2 = fig.add_subplot(132)\n",
    "    ax3 = fig.add_subplot(133)\n",
    "    ax1.set_xlabel(\"non-zeros (p=0)\")\n",
    "    ax1.spy(A0,markersize=3)\n",
    "    ax2.set_xlabel(\"non-zeros (p=1, low order + high order)\")\n",
    "    ax2.spy(A1,markersize=1)\n",
    "    ax3.set_xlabel(\"non-zeros (p=1, all_dofs_together)\")\n",
    "    ax3.spy(A2,markersize=1)\n",
    "except ImportError:\n",
    "    pass"
   ]
  },
  {
   "cell_type": "code",
   "execution_count": 11,
   "metadata": {
    "slideshow": {
     "slide_type": "subslide"
    }
   },
   "outputs": [],
   "source": [
    "try:\n",
    "    plt.show()\n",
    "except ImportError:\n",
    "    pass"
   ]
  },
  {
   "cell_type": "markdown",
   "metadata": {
    "slideshow": {
     "slide_type": "slide"
    }
   },
   "source": [
    "## Supplementary 1: Skeleton formulation\n",
    "\n",
    "So far we considered the DG formulation with integrals on the boundary of each element. Instead one could formulate the problem in terms of facet integrals where every facet appears only once. \n",
    "\n",
    "Then, the corresponding formulation is:\n",
    "\n",
    "Find $u: [0,T] \\to V_h := \\bigoplus_{T\\in\\mathcal{T}_h} \\mathcal{P}^k(T)$ so that\n",
    "$$\n",
    "  \\sum_{T} \\int_T \\partial_t u v + b \\cdot \\nabla u v + \\sum_{F\\in\\mathcal{F}^{int}} \\int_{F} b_n (u^{neighbor} - u) v^{downwind} + \\\\\n",
    "  \\sum_{F\\in\\mathcal{F}^{inflow}} \\int_{F} b_n (u^{inflow}-u) v = \\int_{\\Omega} f v , \\quad \\forall v \\in V_h.\n",
    "$$\n",
    "\n",
    "Here $\\mathcal{F}^{int}$ is the set of interior facets and $\\mathcal{F}^{inflow}$ is the set of boundary facets where $b \\cdot \\mathbf{n} < 0$. $v^{downwind}$ is the function on the downwind side of the facet and $u^{inflow}$ is the inflow boundary condition. "
   ]
  },
  {
   "cell_type": "markdown",
   "metadata": {
    "slideshow": {
     "slide_type": "subslide"
    }
   },
   "source": [
    "The facet integrals are divided into interior facets and exterior (boundary) facets.\n",
    "To obtain these integrals we combine the `DifferentialSymbol` `dx` or `ds` with `skeleton=True`."
   ]
  },
  {
   "cell_type": "code",
   "execution_count": 12,
   "metadata": {
    "slideshow": {
     "slide_type": "fragment"
    }
   },
   "outputs": [],
   "source": [
    "dskel_inner  = dx(skeleton=True)\n",
    "dskel_bound  = ds(skeleton=True)\n",
    "# or:\n",
    "dskel_inflow = ds(skeleton=True, definedon=mesh.Boundaries(\"left|bottom\"))"
   ]
  },
  {
   "cell_type": "code",
   "execution_count": 13,
   "metadata": {
    "slideshow": {
     "slide_type": "subslide"
    }
   },
   "outputs": [],
   "source": [
    "b = CoefficientFunction((1,2))\n",
    "n = specialcf.normal(mesh.dim)\n",
    "ubnd = IfPos(x,1,0)\n",
    "\n",
    "V = L2(mesh,order=2)\n",
    "u,v = V.TrialFunction(), V.TestFunction()\n",
    "\n",
    "c = BilinearForm(V)\n",
    "c += b * grad(u) * v * dx\n",
    "\n",
    "\n",
    "bn = b*n\n",
    "vin = IfPos(bn,v.Other(),v)\n",
    "c += bn*(u.Other() - u) * vin * dskel_inner\n",
    "#c += IfPos(bn, 0, bn) * (u.Other(ubnd) - u) * v * dskel_bound\n",
    "#alternatively:\n",
    "c += bn * (u.Other(ubnd) - u) * v * dskel_inflow\n",
    "\n",
    "gfu_expl = GridFunction(V)\n",
    "Draw(gfu_expl,mesh,\"u_explicit\")\n",
    "\n",
    "res = gfu_expl.vec.CreateVector()\n",
    "c.Apply(gfu_expl.vec,res)"
   ]
  },
  {
   "cell_type": "code",
   "execution_count": 14,
   "metadata": {
    "slideshow": {
     "slide_type": "subslide"
    }
   },
   "outputs": [],
   "source": [
    "t = 0\n",
    "dt = 0.001\n",
    "tend = 1\n",
    "\n",
    "while t < tend-0.5*dt:\n",
    "    c.Apply(gfu_expl.vec,res)\n",
    "    V.SolveM(res,rho=CoefficientFunction(1.0))\n",
    "    gfu_expl.vec.data -= dt * res\n",
    "    t += dt\n",
    "    Redraw(blocking=True)"
   ]
  },
  {
   "cell_type": "markdown",
   "metadata": {
    "slideshow": {
     "slide_type": "slide"
    }
   },
   "source": [
    "## Supplementary 2: DG for Diffusion  \n",
    "\n",
    "DG formulation for the Poisson problem\n",
    "$$\\text{find: } u \\in H_{0,D}^1 \\quad \\int_\\Omega \\nabla u \\nabla v = \\int_\\Omega f v \\quad \\forall v \\in H_{0,D}^1$$\n",
    "\n",
    "For the non-conforming discretization we use the $L^2$ space and the (symmetric) interior penalty method:\n",
    "Find $u \\in V_h := \\bigoplus_{T\\in\\mathcal{T}_h} \\mathcal{P}^k(T)$ so that\n",
    "\\begin{align}\n",
    "  & \\sum_{T} \\int_T \\nabla u \\nabla v + \\sum_{F\\in\\mathcal{F}^{int}} \\int_{F} \\{\\!\\!\\{ - \\nabla u \\cdot n \\}\\!\\!\\} [\\![v]\\!] +  \\{\\!\\!\\{ - \\nabla v \\cdot n \\}\\!\\!\\} [\\![u]\\!] +  \\frac{\\alpha}{h} [\\![u]\\!][\\![v]\\!] \\\\\n",
    "  & + \\sum_{F\\in\\mathcal{F}^{ext}} \\int_{F} - \\nabla u \\cdot n v - \\nabla v \\cdot n u + \\frac{\\alpha}{h}~ u v = \\sum_{F\\in\\mathcal{F}^{ext}} \\int_{F} - \\nabla v \\cdot n u_{D} + \\frac{\\alpha}{h} u_{D} v  + \\int_{\\Omega} f v , \\quad \\forall v \\in V_h.\n",
    "\\end{align}\n",
    "where $\\{\\!\\!\\{\\cdot\\}\\!\\!\\}$ and $[\\![ \\cdot ]\\!]$ are the usual average and jump operators across facets."
   ]
  },
  {
   "cell_type": "code",
   "execution_count": 15,
   "metadata": {
    "slideshow": {
     "slide_type": "subslide"
    }
   },
   "outputs": [],
   "source": [
    "n = specialcf.normal(mesh.dim)\n",
    "h = specialcf.mesh_size\n",
    "IfPos(x-y,0,1)\n",
    "source = IfPos(x-y,5,-5)\n",
    "\n",
    "order=2\n",
    "V = L2(mesh,order=order,dgjumps=True)\n",
    "a = BilinearForm(V)\n",
    "u,v = V.TrialFunction(), V.TestFunction()\n",
    "a += grad(u) * grad(v) * dx\n",
    "def avg_flux(u):\n",
    "    return 0.5*(-grad(u)*n-grad(u.Other())*n)\n",
    "def jump(u):\n",
    "    return u-u.Other()\n",
    "alpha = 5 * order * (order+1)\n",
    "a += (avg_flux(u) * jump(v) + avg_flux(v) * jump(u) + alpha/h * jump(u) * jump(v)) * dskel_inner\n",
    "a += (- grad(u)*n*v - grad(v)*n*u + alpha/h * u * v) * dskel_bound\n",
    "a.Assemble()\n",
    "\n",
    "f = LinearForm(V)\n",
    "f += (- grad(v)*n + alpha/h * v) * ubnd * dskel_bound\n",
    "f += source * v * dx\n",
    "f.Assemble()\n",
    "\n",
    "gfu_impl = GridFunction(V)\n",
    "gfu_impl.vec.data = a.mat.Inverse() * f.vec\n",
    "Draw(gfu_impl,mesh,\"u_implicit\")"
   ]
  }
 ],
 "metadata": {
  "celltoolbar": "Slideshow",
  "kernelspec": {
   "display_name": "Python 3",
   "language": "python",
   "name": "python3"
  },
  "language_info": {
   "codemirror_mode": {
    "name": "ipython",
    "version": 3
   },
   "file_extension": ".py",
   "mimetype": "text/x-python",
   "name": "python",
   "nbconvert_exporter": "python",
   "pygments_lexer": "ipython3",
   "version": "3.7.3"
  }
 },
 "nbformat": 4,
 "nbformat_minor": 2
}

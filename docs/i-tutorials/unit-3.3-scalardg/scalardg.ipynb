{
 "cells": [
  {
   "cell_type": "markdown",
   "metadata": {
    "slideshow": {
     "slide_type": "slide"
    }
   },
   "source": [
    "# 3.3 Discontinuous Galerkin Discretizations for linear transport\n",
    "We are solving the scalar linear transport problem\n",
    "\n",
    "Find $u: [0,T] \\to V_D := \\{ u \\in L^2(\\Omega), b \\cdot \\nabla u \\in L^2(\\Omega), u|_{\\Gamma_{in}} = u_D\\}$, s.t.\n",
    "\\begin{equation}\n",
    "\\int_{\\Omega} \\partial_t u v +  b \\cdot \\nabla u v = \\int_{\\Omega} f v \\qquad \\forall v \\in V_0 = \\{ u \\in L^2(\\Omega), b \\cdot \\nabla u \\in L^2(\\Omega), u|_{\\Gamma_{in}} = 0\\}\n",
    "\\end{equation}"
   ]
  },
  {
   "cell_type": "code",
   "execution_count": null,
   "metadata": {
    "slideshow": {
     "slide_type": "subslide"
    }
   },
   "outputs": [],
   "source": [
    "from netgen import gui\n",
    "from math import pi\n",
    "from ngsolve import *"
   ]
  },
  {
   "cell_type": "markdown",
   "metadata": {
    "slideshow": {
     "slide_type": "subslide"
    }
   },
   "source": [
    "As a first example, we consider the unit square $(0,1)^2$ and the advection velocity $b = (1,2)$. Accordingly the inflow boundary is $\\Gamma_{in} = \\{ x \\cdot y = 0\\}$. "
   ]
  },
  {
   "cell_type": "code",
   "execution_count": null,
   "metadata": {
    "slideshow": {
     "slide_type": "-"
    }
   },
   "outputs": [],
   "source": [
    "from netgen.geom2d import SplineGeometry\n",
    "geo = SplineGeometry()\n",
    "geo.AddRectangle( (0, 0), (1, 1), \n",
    "                 bcs = (\"bottom\", \"right\", \"top\", \"left\"))\n",
    "mesh = Mesh( geo.GenerateMesh(maxh=0.2))"
   ]
  },
  {
   "cell_type": "markdown",
   "metadata": {
    "slideshow": {
     "slide_type": "subslide"
    }
   },
   "source": [
    "We consider an Upwind DG discretization (in space):\n",
    "\n",
    "Find $u: [0,T] \\to V_h := \\bigoplus_{T\\in\\mathcal{T}_h} \\mathcal{P}^k(T)$ so that\n",
    "\n",
    "$$\n",
    "  \\sum_{T} \\int_T \\partial_t u v + b \\cdot \\nabla u v + \\int_{\\partial T} b_n (\\hat{u}-u) v = \\int_{\\Omega} f v, \\quad \\forall v \\in V_h.\n",
    "$$\n",
    "\n",
    "Here $\\hat{u}$ is the Upwind flux, i.e. $\\hat{u} = u$ on the outflow boundary part $\\partial T_{out} = \\{ x\\in \\partial T \\mid b(x) \\cdot n_T(x) \\geq 0 \\}$ of $T$ and $\\hat{u} = u^{other}$ else, with $u^{other}$ the value from the neighboring element."
   ]
  },
  {
   "cell_type": "markdown",
   "metadata": {
    "slideshow": {
     "slide_type": "-"
    }
   },
   "source": [
    "There is quite a difference in the computational costs (compared to a standard DG formulation) depending on the question if the solution of linear systems is involved or only operator evaluations (explicit method). \n",
    "\n",
    " * We treat the explicit case here separately \n",
    " * and refer to [unit 2.8](../unit-2.8-DG/DG.ipynb) for solving linear systems with DG formulations."
   ]
  },
  {
   "cell_type": "markdown",
   "metadata": {
    "slideshow": {
     "slide_type": "slide"
    }
   },
   "source": [
    "## Explicit time stepping with a DG formulation\n",
    "\n",
    "Explicit Euler:\n",
    "$$\n",
    "\\sum_{T} \\int_T u^{n+1} v = \\sum_{T} \\int_T u^{n} v - \\Delta t \\sum_{T} \\left\\{ \\int_T  b \\cdot \\nabla u v \n",
    "+ \\int_{\\partial T} b_n (\\hat{u}-u) v \\right\\} - \\Delta t \\int_{\\Omega} f v, \\quad \\forall v \\in V_h,\n",
    "$$\n",
    "$$\n",
    "  M u^{n+1} = M u^{n} - \\Delta t C u^n + \\Delta t f\n",
    "$$\n",
    "\n",
    "In our first example we set $u_0 = f = 0$.\n"
   ]
  },
  {
   "cell_type": "markdown",
   "metadata": {
    "slideshow": {
     "slide_type": "subslide"
    }
   },
   "source": [
    "### Computing convection applications $C u^n$\n",
    "* We can define the bilinear form **without setting up a matrix** with storage. (`nonassemble=True`)\n",
    "* A `BilinearForm` is allowed to be **nonlinear in the 1st argument** (for operator applications)\n",
    "* For the DG formulation we require integrals on element boundaries, keyword: **`element_boundary`**\n",
    "* To distinguish inflow from outflow we evaluate $b \\cdot \\mathbf{n}$. Here the normal $\\mathbf{n}$ is available as a `specialcf`\n",
    "* To make cases with `CoefficientFunctions` we use the `IfPos`-`CoefficientFunction`. **`IfPos(a,b,c)`**. `a` decides on the evaluation. If `a` is positive `b` is evaluated, otherwise `c`.\n",
    "* To access the **neighbor** function we can use `u.Other()`\n",
    "* To incorporate **boundary conditions** ($\\hat{u}$ on inflow boundaries), we can use the argument `bnd` of `.Other(bnd)`. If there is no neighbor element (boundary!) the `CoefficientFunction` `bnd` is evaluated. "
   ]
  },
  {
   "cell_type": "code",
   "execution_count": null,
   "metadata": {
    "slideshow": {
     "slide_type": "subslide"
    }
   },
   "outputs": [],
   "source": [
    "b = CoefficientFunction((1,2))\n",
    "n = specialcf.normal(mesh.dim)\n",
    "ubnd = IfPos(x,1,0)\n",
    "\n",
    "V = L2(mesh,order=2)\n",
    "u,v = V.TrialFunction(), V.TestFunction()\n",
    "\n",
    "c = BilinearForm(V, nonassemble=True)\n",
    "c += b * grad(u) * v * dx\n",
    "c += IfPos( (b*n), 0, (b*n) * (u.Other(ubnd)-u)) * v * dx(element_boundary=True)\n",
    "\n",
    "gfu_expl = GridFunction(V)\n",
    "Draw(gfu_expl,mesh,\"u_explicit\")"
   ]
  },
  {
   "cell_type": "markdown",
   "metadata": {
    "slideshow": {
     "slide_type": "subslide"
    }
   },
   "source": [
    "# Bilinearform for operator applications\n",
    "Due to the `nonassemble=True` in the constructor of the `BilinearForm` we can use `c.mat * x` to realize the operator application with assembling a matrix first:"
   ]
  },
  {
   "cell_type": "code",
   "execution_count": null,
   "metadata": {
    "slideshow": {
     "slide_type": "-"
    }
   },
   "outputs": [],
   "source": [
    "res = gfu_expl.vec.CreateVector()\n",
    "#Operator application (equivalent to assemble and mult but faster)\n",
    "res.data = c.mat * gfu_expl.vec "
   ]
  },
  {
   "cell_type": "markdown",
   "metadata": {
    "slideshow": {
     "slide_type": "subslide"
    }
   },
   "source": [
    "### Solving mass matrix problems\n",
    "\n",
    "* Need to invert the mass matrix\n",
    "* For DG methods the mass matrix is block diagonal, often even diagonal.\n",
    "* FESpace offers (if available):\n",
    "  * `Mass(rho)`: mass matrix as an operator  (not a sparse matrix)\n",
    "  * `Mass(rho).Inverse()`: inverse mass matrix as an operator (not a sparse matrix)"
   ]
  },
  {
   "cell_type": "code",
   "execution_count": null,
   "metadata": {
    "slideshow": {
     "slide_type": "-"
    }
   },
   "outputs": [],
   "source": [
    "invm = V.Mass(1).Inverse()"
   ]
  },
  {
   "cell_type": "code",
   "execution_count": null,
   "metadata": {
    "slideshow": {
     "slide_type": "subslide"
    }
   },
   "outputs": [],
   "source": [
    "t = 0\n",
    "dt = 0.001\n",
    "tend = 1\n",
    "\n",
    "while t < tend-0.5*dt:\n",
    "    res.data = invm @ c.mat * gfu_expl.vec     \n",
    "    gfu_expl.vec.data -= dt * res\n",
    "    t += dt\n",
    "    Redraw(blocking=True)"
   ]
  },
  {
   "cell_type": "markdown",
   "metadata": {
    "slideshow": {
     "slide_type": "slide"
    }
   },
   "source": [
    "## Supplementary: Skeleton formulation\n",
    "\n",
    "So far we considered the DG formulation with integrals on the boundary of each element. Instead one could formulate the problem in terms of facet integrals where every facet appears only once. \n",
    "\n",
    "Then, the corresponding formulation is:\n",
    "\n",
    "Find $u: [0,T] \\to V_h := \\bigoplus_{T\\in\\mathcal{T}_h} \\mathcal{P}^k(T)$ so that\n",
    "$$\n",
    "  \\sum_{T} \\int_T \\partial_t u v + b \\cdot \\nabla u v + \\sum_{F\\in\\mathcal{F}^{int}} \\int_{F} b_n (u^{neighbor} - u) v^{downwind} + \\\\\n",
    "  \\sum_{F\\in\\mathcal{F}^{inflow}} \\int_{F} b_n (u^{inflow}-u) v = \\int_{\\Omega} f v , \\quad \\forall v \\in V_h.\n",
    "$$\n",
    "\n",
    "Here $\\mathcal{F}^{int}$ is the set of interior facets and $\\mathcal{F}^{inflow}$ is the set of boundary facets where $b \\cdot \\mathbf{n} < 0$. $v^{downwind}$ is the function on the downwind side of the facet and $u^{inflow}$ is the inflow boundary condition. "
   ]
  },
  {
   "cell_type": "markdown",
   "metadata": {
    "slideshow": {
     "slide_type": "subslide"
    }
   },
   "source": [
    "The facet integrals are divided into interior facets and exterior (boundary) facets.\n",
    "To obtain these integrals we combine the `DifferentialSymbol` `dx` or `ds` with `skeleton=True`."
   ]
  },
  {
   "cell_type": "code",
   "execution_count": null,
   "metadata": {
    "slideshow": {
     "slide_type": "fragment"
    }
   },
   "outputs": [],
   "source": [
    "dskel_inner  = dx(skeleton=True)\n",
    "dskel_bound  = ds(skeleton=True)\n",
    "# or:\n",
    "dskel_inflow = ds(skeleton=True, definedon=mesh.Boundaries(\"left|bottom\"))"
   ]
  },
  {
   "cell_type": "code",
   "execution_count": null,
   "metadata": {
    "slideshow": {
     "slide_type": "subslide"
    }
   },
   "outputs": [],
   "source": [
    "b = CoefficientFunction((1,2))\n",
    "n = specialcf.normal(mesh.dim)\n",
    "ubnd = IfPos(x,1,0)\n",
    "\n",
    "V = L2(mesh,order=2)\n",
    "u,v = V.TrialFunction(), V.TestFunction()\n",
    "\n",
    "c = BilinearForm(V)\n",
    "c += b * grad(u) * v * dx\n",
    "\n",
    "\n",
    "bn = b*n\n",
    "vin = IfPos(bn,v.Other(),v)\n",
    "c += bn*(u.Other() - u) * vin * dskel_inner\n",
    "#c += IfPos(bn, 0, bn) * (u.Other(ubnd) - u) * v * dskel_bound\n",
    "#alternatively:\n",
    "c += bn * (u.Other(ubnd) - u) * v * dskel_inflow\n",
    "\n",
    "gfu_expl = GridFunction(V)\n",
    "Draw(gfu_expl,mesh,\"u_explicit\")\n",
    "\n",
    "res = gfu_expl.vec.CreateVector()\n",
    "c.Apply(gfu_expl.vec,res)"
   ]
  },
  {
   "cell_type": "code",
   "execution_count": null,
   "metadata": {
    "slideshow": {
     "slide_type": "subslide"
    }
   },
   "outputs": [],
   "source": [
    "t = 0\n",
    "dt = 0.001\n",
    "tend = 1\n",
    "\n",
    "while t < tend-0.5*dt:\n",
    "    c.Apply(gfu_expl.vec,res)\n",
    "    V.SolveM(res,rho=CoefficientFunction(1.0))\n",
    "    gfu_expl.vec.data -= dt * res\n",
    "    t += dt\n",
    "    Redraw(blocking=True)"
   ]
  },
  {
   "cell_type": "markdown",
   "metadata": {
    "slideshow": {
     "slide_type": "slide"
    }
   },
   "source": [
    "DG for Diffusion has been introduced in [unit 2.8 (Hybrid) Discontinuous Galerkin methods](../unit-2.8-DG/DG.ipynb)."
   ]
  }
 ],
 "metadata": {
  "celltoolbar": "Slideshow",
  "kernelspec": {
   "display_name": "Python 3",
   "language": "python",
   "name": "python3"
  },
  "language_info": {
   "codemirror_mode": {
    "name": "ipython",
    "version": 3
   },
   "file_extension": ".py",
   "mimetype": "text/x-python",
   "name": "python",
   "nbconvert_exporter": "python",
   "pygments_lexer": "ipython3",
   "version": "3.7.3"
  }
 },
 "nbformat": 4,
 "nbformat_minor": 2
}

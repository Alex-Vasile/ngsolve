{
 "cells": [
  {
   "cell_type": "markdown",
   "metadata": {},
   "source": [
    "# Poisson Equation in Parallel\n",
    "\n",
    "NGSolve can be executed on a cluster using the MPI message passing interface.\n",
    "You can download [poisson_mpi.py](poisson_mpi.py) and run it as\n",
    "\n",
    "> mpirun -np 4 poisson_mpi.py \n",
    "\n",
    "The solution is saved such that we can visualize it with [drawsolution.py](drawsolution.py)\n",
    "> netgen drawsolution.py\n",
    "\n",
    "For proper parallel execution, Netgen/NGSolve must be configured with '-DUSE_MPI=ON'. Recent binaries for Linux and Mac are built with MPI support (?). If you are unsure if your Netgen/NGSolve supports MPI, look output like \"Including MPI version 3.1\" douring Netgen startup."
   ]
  },
  {
   "cell_type": "markdown",
   "metadata": {},
   "source": [
    "## MPI-parallel execution using ipyparallel\n",
    "\n",
    "In the jupyter-tutorials we use ipyparallel. Please consult https://ipyparallel.readthedocs.io for installation.\n",
    "\n",
    "On my notebook I have created the profile once by the command\n",
    ">ipython profile create --parallel --profile=mpi\n",
    "\n",
    "Since I have only two physical cores, I edited the file\n",
    ".ipython/profile_mpi/ipcluster_config.py to allow for oversubscribtion:\n",
    "\n",
    "> c.MPILauncher.mpi_args = ['--oversubscribe']\n",
    "\n",
    "\n",
    "\n",
    "I start the cluster via\n",
    "> ipcluster start --engines=MPI -n 4 --profile=mpi\n",
    "\n",
    "\n",
    "\n",
    "\n",
    "In jupyter, we can then connect to the cluster via"
   ]
  },
  {
   "cell_type": "code",
   "execution_count": null,
   "metadata": {},
   "outputs": [],
   "source": [
    "from ipyparallel import Client\n",
    "c = Client(profile='mpi')\n",
    "c.ids"
   ]
  },
  {
   "cell_type": "markdown",
   "metadata": {},
   "source": [
    "We use mpi4py https://mpi4py.readthedocs.io/ for issuing MPI calls from Python. The %%px syntax magic causes parallel execution of that cell:"
   ]
  },
  {
   "cell_type": "code",
   "execution_count": null,
   "metadata": {},
   "outputs": [],
   "source": [
    "%%px \n",
    "from mpi4py import MPI\n",
    "comm = MPI.COMM_WORLD\n",
    "print (comm.rank, comm.size)"
   ]
  },
  {
   "cell_type": "markdown",
   "metadata": {},
   "source": [
    "The master process (rank==0) generates the mesh, and distributes it within the group of processes defined by the communicator. All other ranks receive a part of the mesh. The function mesh.GetNE(VOL) returns the local number of elements:"
   ]
  },
  {
   "cell_type": "code",
   "execution_count": null,
   "metadata": {},
   "outputs": [],
   "source": [
    "%%px\n",
    "from ngsolve import *\n",
    "from netgen.geom2d import unit_square\n",
    "\n",
    "if comm.rank == 0:\n",
    "    ngmesh = unit_square.GenerateMesh(maxh=0.02)\n",
    "    ngmesh.Save(\"square.vol\")\n",
    "    ngmesh.Distribute(comm)\n",
    "else:\n",
    "    ngmesh = netgen.meshing.Mesh.Receive(comm)\n",
    "mesh = Mesh(ngmesh)\n",
    "print (mesh.GetNE(VOL))"
   ]
  },
  {
   "cell_type": "markdown",
   "metadata": {},
   "source": [
    "We can define spaces, bilinear and linear forms, gridfunctions the same way as in sequential mode. But now, the degrees of freedom are distributed on the cluster following the distribution of the mesh. The finite element spaces defines how the dofs match together."
   ]
  },
  {
   "cell_type": "code",
   "execution_count": null,
   "metadata": {},
   "outputs": [],
   "source": [
    "%%px\n",
    "fes = H1(mesh, order=3, dirichlet=\".*\")\n",
    "u,v = fes.TnT()\n",
    "\n",
    "a = BilinearForm(grad(u)*grad(v)*dx)\n",
    "pre = Preconditioner(a, \"local\")\n",
    "a.Assemble()\n",
    "\n",
    "f = LinearForm(1*v*dx).Assemble()\n",
    "gfu = GridFunction(fes)\n",
    "\n",
    "from ngsolve.krylovspace import CGSolver\n",
    "inv = CGSolver(a.mat, pre.mat, printing=comm.rank==0)\n",
    "gfu.vec.data = inv*f.vec\n",
    "\n",
    "print (InnerProduct(gfu.vec, f.vec))"
   ]
  },
  {
   "cell_type": "markdown",
   "metadata": {},
   "source": [
    "We can save the solution to one file. By the 'parallel=True' flag the distributed solution vector will be merged together:"
   ]
  },
  {
   "cell_type": "code",
   "execution_count": null,
   "metadata": {},
   "outputs": [],
   "source": [
    "%%px\n",
    "gfu.Save(\"solution.sol\", parallel=True)"
   ]
  },
  {
   "cell_type": "markdown",
   "metadata": {},
   "source": [
    "To visualize the parallel solution, we setup the same space on the same mesh, and load the coefficient vector of the gridfunction. The flag 'parallel=True' ensures that the ordering of variables is the same as in the parallel run."
   ]
  },
  {
   "cell_type": "code",
   "execution_count": null,
   "metadata": {
    "scrolled": true
   },
   "outputs": [],
   "source": [
    "# the generated files are in the directory where ipcluster was started\n",
    "\n",
    "from ngsolve import *\n",
    "from ngsolve.webgui import Draw\n",
    "\n",
    "mesh = Mesh(\"square.vol\")\n",
    "fes = H1(mesh, order=3)\n",
    "gfu = GridFunction(fes)\n",
    "gfu.Load(\"solution.sol\", parallel=True)\n",
    "\n",
    "Draw (gfu)"
   ]
  },
  {
   "cell_type": "markdown",
   "metadata": {},
   "source": [
    "Parallel pickling allows to serialize the distributed mesh and transfer it to the client. Solution is coming soon ...."
   ]
  },
  {
   "cell_type": "code",
   "execution_count": null,
   "metadata": {},
   "outputs": [],
   "source": [
    "%%px\n",
    "netgen.meshing.SetParallelPickling(True)"
   ]
  },
  {
   "cell_type": "code",
   "execution_count": null,
   "metadata": {
    "scrolled": true
   },
   "outputs": [],
   "source": [
    "m = c[:][\"mesh\"]\n",
    "Draw (m[0])"
   ]
  },
  {
   "cell_type": "code",
   "execution_count": null,
   "metadata": {},
   "outputs": [],
   "source": []
  }
 ],
 "metadata": {
  "kernelspec": {
   "display_name": "Python 3",
   "language": "python",
   "name": "python3"
  },
  "language_info": {
   "codemirror_mode": {
    "name": "ipython",
    "version": 3
   },
   "file_extension": ".py",
   "mimetype": "text/x-python",
   "name": "python",
   "nbconvert_exporter": "python",
   "pygments_lexer": "ipython3",
   "version": "3.8.5"
  }
 },
 "nbformat": 4,
 "nbformat_minor": 2
}

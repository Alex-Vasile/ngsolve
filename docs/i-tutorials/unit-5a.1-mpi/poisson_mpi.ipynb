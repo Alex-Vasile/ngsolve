{
 "cells": [
  {
   "cell_type": "markdown",
   "metadata": {},
   "source": [
    "# Poisson Equation in Parallel\n",
    "\n",
    "NGSolve can be executed on a cluster using the MPI message passing interface.\n",
    "You can download [poisson_mpi.py](poisson_mpi.py) and run it as\n",
    "\n",
    "> mpirun -np 4 python3 poisson_mpi.py \n",
    "\n",
    "The solution is saved such that we can visualize it with [drawsolution.py](drawsolution.py)\n",
    "\n",
    "> netgen drawsolution.py\n",
    "\n",
    "For proper parallel execution, Netgen/NGSolve must be configured with '-DUSE_MPI=ON'. Recent binaries for Linux and Mac are built with MPI support (?). If you are unsure if your Netgen/NGSolve supports MPI, look for output like \"Including MPI version 3.1\" douring Netgen startup."
   ]
  },
  {
   "cell_type": "markdown",
   "metadata": {},
   "source": [
    "## MPI-parallel execution using ipyparallel\n",
    "\n",
    "In the jupyter-tutorials we use ipyparallel. Please consult https://ipyparallel.readthedocs.io for installation.\n",
    "\n",
    "On my notebook I have created the profile once by the command\n",
    "\n",
    ">ipython profile create --parallel --profile=mpi\n",
    "\n",
    "Since I have only two physical cores, I edited the file\n",
    ".ipython/profile_mpi/ipcluster_config.py to allow for oversubscribtion:\n",
    "\n",
    "> c.MPILauncher.mpi_args = ['--oversubscribe']\n",
    "\n",
    "\n",
    "\n",
    "I start the cluster via\n",
    "\n",
    "> ipcluster start --engines=MPI -n 4 --profile=mpi\n",
    "\n",
    "\n",
    "\n",
    "\n",
    "In jupyter, we can then connect to the cluster via"
   ]
  },
  {
   "cell_type": "code",
   "execution_count": 1,
   "metadata": {},
   "outputs": [
    {
     "data": {
      "text/plain": [
       "[0, 1, 2, 3]"
      ]
     },
     "execution_count": 1,
     "metadata": {},
     "output_type": "execute_result"
    }
   ],
   "source": [
    "from ipyparallel import Client\n",
    "c = Client(profile='mpi')\n",
    "c.ids"
   ]
  },
  {
   "cell_type": "markdown",
   "metadata": {},
   "source": [
    "We use mpi4py https://mpi4py.readthedocs.io/ for issuing MPI calls from Python. The %%px syntax magic causes parallel execution of that cell:"
   ]
  },
  {
   "cell_type": "code",
   "execution_count": 2,
   "metadata": {},
   "outputs": [
    {
     "name": "stdout",
     "output_type": "stream",
     "text": [
      "[stdout:0] 0 4\n",
      "[stdout:1] 1 4\n",
      "[stdout:2] 2 4\n",
      "[stdout:3] 3 4\n"
     ]
    }
   ],
   "source": [
    "%%px \n",
    "from mpi4py import MPI\n",
    "comm = MPI.COMM_WORLD\n",
    "print (comm.rank, comm.size)"
   ]
  },
  {
   "cell_type": "markdown",
   "metadata": {},
   "source": [
    "The master process (rank==0) generates the mesh, and distributes it within the group of processes defined by the communicator. All other ranks receive a part of the mesh. The function mesh.GetNE(VOL) returns the local number of elements:"
   ]
  },
  {
   "cell_type": "code",
   "execution_count": 3,
   "metadata": {},
   "outputs": [
    {
     "name": "stdout",
     "output_type": "stream",
     "text": [
      "[stdout:0] 0\n",
      "[stdout:1] 75\n",
      "[stdout:2] 76\n",
      "[stdout:3] 79\n"
     ]
    }
   ],
   "source": [
    "%%px\n",
    "from ngsolve import *\n",
    "from netgen.geom2d import unit_square\n",
    "\n",
    "if comm.rank == 0:\n",
    "    mesh = Mesh(unit_square.GenerateMesh(maxh=0.1).Distribute(comm))\n",
    "else:\n",
    "    mesh = Mesh(netgen.meshing.Mesh.Receive(comm))\n",
    "print (mesh.GetNE(VOL))"
   ]
  },
  {
   "cell_type": "markdown",
   "metadata": {},
   "source": [
    "We can define spaces, bilinear and linear forms, gridfunctions the same way as in sequential mode. But now, the degrees of freedom are distributed on the cluster following the distribution of the mesh. The finite element spaces defines how the dofs match together."
   ]
  },
  {
   "cell_type": "code",
   "execution_count": 4,
   "metadata": {
    "scrolled": true
   },
   "outputs": [
    {
     "name": "stdout",
     "output_type": "stream",
     "text": [
      "[stdout:0] \n",
      "iteration 0 error = 0.05333923409291168\n",
      "iteration 1 error = 0.07404604143104701\n",
      "iteration 2 error = 0.06370425458795258\n",
      "iteration 3 error = 0.04919124251788337\n",
      "iteration 4 error = 0.0482965254214221\n",
      "iteration 5 error = 0.0311069125544914\n",
      "iteration 6 error = 0.024935643398100362\n",
      "iteration 7 error = 0.01784194991245131\n",
      "iteration 8 error = 0.013817492065755404\n",
      "iteration 9 error = 0.01142376931907761\n",
      "iteration 10 error = 0.008393867618520493\n",
      "iteration 11 error = 0.004233406891736331\n",
      "iteration 12 error = 0.0019377308491299833\n",
      "iteration 13 error = 0.0014085555318202965\n",
      "iteration 14 error = 0.0009913437971717843\n",
      "iteration 15 error = 0.000641221732154126\n",
      "iteration 16 error = 0.00044876370080339906\n",
      "iteration 17 error = 0.00029026903025157816\n",
      "iteration 18 error = 0.00017121515214383356\n",
      "iteration 19 error = 0.00013131363792643478\n",
      "iteration 20 error = 0.0001018063078127641\n",
      "iteration 21 error = 6.493748016473814e-05\n",
      "iteration 22 error = 3.7473288652453216e-05\n",
      "iteration 23 error = 2.4894442492438543e-05\n",
      "iteration 24 error = 1.8668022673771367e-05\n",
      "iteration 25 error = 1.465607830611231e-05\n",
      "iteration 26 error = 1.003128077662009e-05\n",
      "iteration 27 error = 6.1954894689255535e-06\n",
      "iteration 28 error = 3.839495377409272e-06\n",
      "iteration 29 error = 2.9619818216397197e-06\n",
      "iteration 30 error = 2.191076333882796e-06\n",
      "iteration 31 error = 1.5147554899847002e-06\n",
      "iteration 32 error = 9.456591809733732e-07\n",
      "iteration 33 error = 6.934293022267526e-07\n",
      "iteration 34 error = 5.419825539015882e-07\n",
      "iteration 35 error = 3.807388569238285e-07\n",
      "iteration 36 error = 2.6108407148032867e-07\n",
      "iteration 37 error = 1.6150747478403433e-07\n",
      "iteration 38 error = 1.0843607023800091e-07\n",
      "iteration 39 error = 8.266347488194324e-08\n",
      "iteration 40 error = 6.401498304181562e-08\n",
      "iteration 41 error = 4.08980138052581e-08\n",
      "iteration 42 error = 2.518568909359591e-08\n",
      "iteration 43 error = 1.7451968530291766e-08\n",
      "iteration 44 error = 1.2422309974412228e-08\n",
      "iteration 45 error = 8.990884037271548e-09\n",
      "iteration 46 error = 5.810160916403202e-09\n",
      "iteration 47 error = 3.2981638779943923e-09\n",
      "iteration 48 error = 2.128582495635991e-09\n",
      "iteration 49 error = 1.5456064017184186e-09\n",
      "iteration 50 error = 1.0303209026040315e-09\n",
      "iteration 51 error = 6.846274435536757e-10\n",
      "iteration 52 error = 4.5512272688861424e-10\n"
     ]
    }
   ],
   "source": [
    "%%px\n",
    "fes = H1(mesh, order=3, dirichlet=\".*\")\n",
    "u,v = fes.TnT()\n",
    "\n",
    "a = BilinearForm(grad(u)*grad(v)*dx)\n",
    "pre = Preconditioner(a, \"local\")\n",
    "a.Assemble()\n",
    "\n",
    "f = LinearForm(1*v*dx).Assemble()\n",
    "gfu = GridFunction(fes)\n",
    "\n",
    "from ngsolve.krylovspace import CGSolver\n",
    "inv = CGSolver(a.mat, pre.mat, printing=comm.rank==0, maxsteps=200, tol=1e-8)\n",
    "gfu.vec.data = inv*f.vec"
   ]
  },
  {
   "cell_type": "markdown",
   "metadata": {},
   "source": [
    "Parallel pickling allows to serialize the distributed solution and transfer it to the client:"
   ]
  },
  {
   "cell_type": "code",
   "execution_count": 5,
   "metadata": {},
   "outputs": [],
   "source": [
    "%%px\n",
    "netgen.meshing.SetParallelPickling(True)"
   ]
  },
  {
   "cell_type": "code",
   "execution_count": 7,
   "metadata": {},
   "outputs": [
    {
     "data": {
      "application/vnd.jupyter.widget-view+json": {
       "model_id": "5a2d2bd780c1402fa9edcb5c1d59f8af",
       "version_major": 2,
       "version_minor": 0
      },
      "text/plain": [
       "NGSWebGuiWidget(value={'ngsolve_version': '6.2.2007-133-g65ffe4820', 'mesh_dim': 2, 'order2d': 2, 'order3d': 2…"
      ]
     },
     "metadata": {},
     "output_type": "display_data"
    },
    {
     "data": {
      "text/plain": []
     },
     "execution_count": 7,
     "metadata": {},
     "output_type": "execute_result"
    }
   ],
   "source": [
    "gfu = c[:][\"gfu\"]\n",
    "from ngsolve.webgui import Draw\n",
    "Draw (gfu[0])"
   ]
  },
  {
   "cell_type": "markdown",
   "metadata": {},
   "source": [
    "We can also visualize the sub-domains obtained by the automatic partitioning:"
   ]
  },
  {
   "cell_type": "code",
   "execution_count": 8,
   "metadata": {},
   "outputs": [],
   "source": [
    "%%px\n",
    "fesL2 = L2(mesh, order=0)\n",
    "gfL2 = GridFunction(fesL2)\n",
    "gfL2.vec.local_vec[:] = comm.rank"
   ]
  },
  {
   "cell_type": "code",
   "execution_count": 9,
   "metadata": {
    "scrolled": false
   },
   "outputs": [
    {
     "data": {
      "application/vnd.jupyter.widget-view+json": {
       "model_id": "2cc1b87b9fd2413b8f6c75a6f12cb8ed",
       "version_major": 2,
       "version_minor": 0
      },
      "text/plain": [
       "NGSWebGuiWidget(value={'ngsolve_version': '6.2.2007-133-g65ffe4820', 'mesh_dim': 2, 'order2d': 2, 'order3d': 2…"
      ]
     },
     "metadata": {},
     "output_type": "display_data"
    },
    {
     "data": {
      "text/plain": []
     },
     "execution_count": 9,
     "metadata": {},
     "output_type": "execute_result"
    }
   ],
   "source": [
    "gfL2 = c[:][\"gfL2\"]\n",
    "Draw (gfL2[0])"
   ]
  },
  {
   "cell_type": "code",
   "execution_count": null,
   "metadata": {},
   "outputs": [],
   "source": []
  }
 ],
 "metadata": {
  "kernelspec": {
   "display_name": "Python 3",
   "language": "python",
   "name": "python3"
  },
  "language_info": {
   "codemirror_mode": {
    "name": "ipython",
    "version": 3
   },
   "file_extension": ".py",
   "mimetype": "text/x-python",
   "name": "python",
   "nbconvert_exporter": "python",
   "pygments_lexer": "ipython3",
   "version": "3.8.5"
  }
 },
 "nbformat": 4,
 "nbformat_minor": 2
}

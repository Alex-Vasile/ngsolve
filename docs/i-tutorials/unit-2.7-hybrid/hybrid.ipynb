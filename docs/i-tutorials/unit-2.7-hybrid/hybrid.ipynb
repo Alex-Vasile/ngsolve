{
 "cells": [
  {
   "cell_type": "markdown",
   "metadata": {},
   "source": [
    "# 2.7 Facet spaces and hybrid methods\n",
    "\n",
    "Mixed methods for second order problems lead to saddle point problems, and indefinite matrices. By hybridization one obtains a positive definite system again. It's structure is similar to the non-conforming $P^1$ method, but hybridization works for any order. See text-book by Brezzi and Fortin.\n",
    "\n",
    "One skips the normal-continuity of the $H(div)$ variable, and reinforces it by a Lagrange parameter. This leads to the following discrete system:"
   ]
  },
  {
   "cell_type": "markdown",
   "metadata": {},
   "source": [
    "Find $\\sigma, u, \\widehat u \\in \\Sigma_h \\times V_h \\times F_h$:\n",
    "\n",
    "$$\n",
    "\\DeclareMathOperator{\\Div}{div}\n",
    "\\begin{array}{ccccccll}\n",
    "\\int \\lambda^{-1} \\sigma \\tau & + & \\sum_T \\int_T \\Div \\tau \\, u & + & \\sum_F \\int_F [\\tau_n] \\widehat u & = & 0 & \\forall \\, \\tau \\in \\Sigma \\\\\n",
    "\\int \\Div \\sigma \\, v &&&&& = & \\int f v & \\forall \\, v \\in V_h \\\\\n",
    "\\int [ \\sigma_n ] \\, \\widehat v &&&&& = & \\int_{\\Gamma_n} g \\widehat v & \\forall \\, \\widehat v \\in F_h\n",
    "\\end{array}\n",
    "$$\n",
    "\n",
    "where $\\Sigma_h$ is an discontinuous $H(div)$ finite element space, $V_h$ a sub-space of $L_2$, and $F_h$ consists of polynomials on every edge."
   ]
  },
  {
   "cell_type": "code",
   "execution_count": 1,
   "metadata": {},
   "outputs": [],
   "source": [
    "from netgen.geom2d import unit_square\n",
    "from ngsolve import *\n",
    "import netgen.gui\n",
    "%gui tk\n",
    "mesh = Mesh(unit_square.GenerateMesh(maxh=0.2))"
   ]
  },
  {
   "cell_type": "markdown",
   "metadata": {},
   "source": [
    "same example as in 'mixed':"
   ]
  },
  {
   "cell_type": "code",
   "execution_count": 2,
   "metadata": {},
   "outputs": [],
   "source": [
    "source = sin(3.14*x)\n",
    "ud = CoefficientFunction(5)\n",
    "g = CoefficientFunction([y*(1-y) if bc==\"left\" else 0 for bc in mesh.GetBoundaries()])\n",
    "lam = 10"
   ]
  },
  {
   "cell_type": "markdown",
   "metadata": {},
   "source": [
    "define spaces: \n",
    "\n",
    "* The *discontinuous* flag generates an element-wise $H(Div)$-space\n",
    "* FacetFESpace lives only on facets (i.e. faces in 3D, edges in 2D, points in 1D)\n",
    "\n",
    "Boundary conditions are now posed for the facet-space"
   ]
  },
  {
   "cell_type": "code",
   "execution_count": 3,
   "metadata": {},
   "outputs": [
    {
     "name": "stdout",
     "output_type": "stream",
     "text": [
      "sigmadofs: slice(0, 1120, 1)\n",
      "udofs:     slice(1120, 1456, 1)\n",
      "uhatdofs:  slice(1456, 1832, 1)\n"
     ]
    }
   ],
   "source": [
    "order = 3\n",
    "V = HDiv(mesh, order=order, discontinuous=True)\n",
    "Q = L2(mesh, order=order-1)\n",
    "F = FacetFESpace(mesh, order=order, dirichlet=\"bottom\")\n",
    "X = FESpace([V,Q,F])\n",
    "print (\"sigmadofs:\", X.Range(0))\n",
    "print (\"udofs:    \", X.Range(1))\n",
    "print (\"uhatdofs: \", X.Range(2))"
   ]
  },
  {
   "cell_type": "markdown",
   "metadata": {},
   "source": [
    "Assemble forms. The jump-term is rewritten as\n",
    "$$\n",
    "\\sum_F \\int_F [\\sigma_n] v = \\sum_T \\int_{\\partial T} \\sigma_n v\n",
    "$$"
   ]
  },
  {
   "cell_type": "code",
   "execution_count": 4,
   "metadata": {},
   "outputs": [
    {
     "name": "stdout",
     "output_type": "stream",
     "text": [
      "A non-zero 6880\n"
     ]
    }
   ],
   "source": [
    "sigma,u,uhat = X.TrialFunction()\n",
    "tau,v,vhat = X.TestFunction()\n",
    "\n",
    "condense=True\n",
    "\n",
    "a = BilinearForm(X, eliminate_internal=condense)\n",
    "a += SymbolicBFI(1/lam * sigma*tau + div(sigma)*v + div(tau)*u)\n",
    "n = specialcf.normal(mesh.dim)\n",
    "a += SymbolicBFI(-sigma*n*vhat-tau*n*uhat, element_boundary=True)\n",
    "\n",
    "c = Preconditioner(a, \"bddc\")\n",
    "\n",
    "f = LinearForm(X)\n",
    "f += SymbolicLFI(-source*v)\n",
    "f += SymbolicLFI(-g*vhat.Trace(), BND)\n",
    "\n",
    "a.Assemble()\n",
    "print (\"A non-zero\", a.mat.nze)\n",
    "\n",
    "gfu = GridFunction(X)"
   ]
  },
  {
   "cell_type": "markdown",
   "metadata": {},
   "source": [
    "Solve system. Either we leave everything to the sparse direct solver, or use CG"
   ]
  },
  {
   "cell_type": "code",
   "execution_count": 5,
   "metadata": {},
   "outputs": [
    {
     "name": "stdout",
     "output_type": "stream",
     "text": [
      "it =  0  err =  136.8703468856364\n",
      "it =  1  err =  60.58702491012707\n",
      "it =  2  err =  24.172480309852325\n",
      "it =  3  err =  12.551902691915576\n",
      "it =  4  err =  4.6561221507187\n",
      "it =  5  err =  1.6707046939551382\n",
      "it =  6  err =  0.6483905966924745\n",
      "it =  7  err =  0.25370556589294635\n",
      "it =  8  err =  0.10118909278378112\n",
      "it =  9  err =  0.0362644711098403\n",
      "it =  10  err =  0.021422651202624675\n",
      "it =  11  err =  0.007698393630516215\n",
      "it =  12  err =  0.003262626544392722\n",
      "it =  13  err =  0.0012157696030631927\n",
      "it =  14  err =  0.0005171305441789332\n",
      "it =  15  err =  0.00018478710262344629\n",
      "it =  16  err =  6.140422208014876e-05\n",
      "it =  17  err =  2.3634731562752536e-05\n",
      "it =  18  err =  8.96567905629904e-06\n",
      "it =  19  err =  4.210915291606238e-06\n",
      "it =  20  err =  1.09563838139071e-06\n",
      "it =  21  err =  5.00341691606555e-07\n",
      "it =  22  err =  1.917170519922857e-07\n",
      "it =  23  err =  8.852599023217076e-08\n",
      "it =  24  err =  3.7509955514489134e-08\n",
      "it =  25  err =  1.2734631340019504e-08\n",
      "it =  26  err =  3.9327806777442605e-09\n",
      "it =  27  err =  1.5953738573307435e-09\n",
      "it =  28  err =  7.259436128069845e-10\n",
      "it =  29  err =  2.6189206224604935e-10\n"
     ]
    }
   ],
   "source": [
    "f.Assemble()\n",
    "gfu.components[2].Set(ud, BND)\n",
    "\n",
    "if condense:\n",
    "\n",
    "    f.vec.data += a.harmonic_extension_trans * f.vec \n",
    "    \n",
    "    solvers.CG(mat=a.mat, pre=c.mat, rhs=f.vec, sol=gfu.vec, initialize=False)\n",
    "    \n",
    "    gfu.vec.data += a.harmonic_extension * gfu.vec\n",
    "    gfu.vec.data += a.inner_solve * f.vec\n",
    "\n",
    "else:\n",
    "    \n",
    "    r = f.vec.CreateVector()\n",
    "    r.data = f.vec - a.mat * gfu.vec\n",
    "    inv = a.mat.Inverse(freedofs=X.FreeDofs())\n",
    "    gfu.vec.data += inv * r"
   ]
  },
  {
   "cell_type": "code",
   "execution_count": 6,
   "metadata": {},
   "outputs": [],
   "source": [
    "Draw (gfu.components[0], mesh, \"sigma\")\n",
    "Draw (gfu.components[1], mesh, \"u\")"
   ]
  },
  {
   "cell_type": "code",
   "execution_count": null,
   "metadata": {},
   "outputs": [],
   "source": []
  }
 ],
 "metadata": {
  "kernelspec": {
   "display_name": "Python 3",
   "language": "python",
   "name": "python3"
  },
  "language_info": {
   "codemirror_mode": {
    "name": "ipython",
    "version": 3
   },
   "file_extension": ".py",
   "mimetype": "text/x-python",
   "name": "python",
   "nbconvert_exporter": "python",
   "pygments_lexer": "ipython3",
   "version": "3.7.0"
  }
 },
 "nbformat": 4,
 "nbformat_minor": 2
}

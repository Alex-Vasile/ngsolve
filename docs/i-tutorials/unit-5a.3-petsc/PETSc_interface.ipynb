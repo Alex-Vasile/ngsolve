{
 "cells": [
  {
   "cell_type": "markdown",
   "metadata": {},
   "source": [
    "# 5.3.2 NGSolve - PETSc interface\n",
    "We use the ngs2petsc interface to map vectors and matrices between NGSolve and PETSc"
   ]
  },
  {
   "cell_type": "code",
   "execution_count": null,
   "metadata": {},
   "outputs": [],
   "source": [
    "from ipyparallel import Client\n",
    "c = Client(profile='mpi')\n",
    "c.ids"
   ]
  },
  {
   "cell_type": "code",
   "execution_count": null,
   "metadata": {},
   "outputs": [],
   "source": [
    "%%px\n",
    "from ngsolve import *\n",
    "from netgen.geom2d import unit_square\n",
    "comm = MPI.COMM_WORLD\n",
    "if comm.rank == 0:\n",
    "    ngmesh = unit_square.GenerateMesh(maxh=0.1).Distribute(comm)\n",
    "else:\n",
    "    ngmesh = netgen.meshing.Mesh.Receive(comm)\n",
    "    \n",
    "# for l in range(4):\n",
    "#    ngmesh.Refine()\n",
    "mesh = Mesh(ngmesh)"
   ]
  },
  {
   "cell_type": "markdown",
   "metadata": {},
   "source": [
    "The Python-module [ngs2petsc.py](ngs2petsc.py) provides functionality to transfer vectors and matrices between NGSolve and Python. \n",
    "\n",
    "Make sure that the ipyparallel server can import the module, e.g. by starting the cluster in the current directory."
   ]
  },
  {
   "cell_type": "code",
   "execution_count": null,
   "metadata": {},
   "outputs": [],
   "source": [
    "%%px\n",
    "import ngs2petsc as n2p\n",
    "import petsc4py.PETSc as psc"
   ]
  },
  {
   "cell_type": "code",
   "execution_count": null,
   "metadata": {},
   "outputs": [],
   "source": [
    "%%px\n",
    "fes = H1(mesh, order=1)\n",
    "u,v = fes.TnT()\n",
    "a = BilinearForm(grad(u)*grad(v)*dx+u*v*ds).Assemble()\n",
    "f = LinearForm(x*v*dx).Assemble()\n",
    "gfu = GridFunction(fes)"
   ]
  },
  {
   "cell_type": "markdown",
   "metadata": {},
   "source": [
    "The function CreatePETScMatrix takes an NGSolve matrix, and creates a PETSc matrix from it. A VectorMapping object can map vectors between NGSolve and PETSc. "
   ]
  },
  {
   "cell_type": "code",
   "execution_count": null,
   "metadata": {},
   "outputs": [],
   "source": [
    "%%px\n",
    "psc_mat = n2p.CreatePETScMatrix(a.mat)\n",
    "vecmap = n2p.VectorMapping (a.mat.row_pardofs)"
   ]
  },
  {
   "cell_type": "code",
   "execution_count": null,
   "metadata": {},
   "outputs": [],
   "source": [
    "%%px\n",
    "psc_f = vecmap.N2P(f.vec)\n",
    "psc_u = vecmap.CreatePETScVector()\n",
    "\n",
    "ksp = psc.KSP()\n",
    "ksp.create()\n",
    "ksp.setOperators(psc_mat)\n",
    "ksp.setType(psc.KSP.Type.CG)\n",
    "ksp.setNormType(psc.KSP.NormType.NORM_NATURAL)\n",
    "ksp.getPC().setType(\"gamg\")\n",
    "ksp.setTolerances(rtol=1e-6, atol=0, divtol=1e16, max_it=400)\n",
    "\n",
    "ksp.solve(psc_f, psc_u)   \n",
    "\n",
    "vecmap.P2N(psc_u, gfu.vec)\n",
    "pass"
   ]
  },
  {
   "cell_type": "code",
   "execution_count": null,
   "metadata": {},
   "outputs": [],
   "source": [
    "gfu = c[:][\"gfu\"]\n",
    "from ngsolve.webgui import Draw"
   ]
  },
  {
   "cell_type": "code",
   "execution_count": null,
   "metadata": {},
   "outputs": [],
   "source": [
    "Draw (gfu[0])"
   ]
  },
  {
   "cell_type": "code",
   "execution_count": null,
   "metadata": {},
   "outputs": [],
   "source": []
  }
 ],
 "metadata": {
  "kernelspec": {
   "display_name": "Python 3",
   "language": "python",
   "name": "python3"
  },
  "language_info": {
   "codemirror_mode": {
    "name": "ipython",
    "version": 3
   },
   "file_extension": ".py",
   "mimetype": "text/x-python",
   "name": "python",
   "nbconvert_exporter": "python",
   "pygments_lexer": "ipython3",
   "version": "3.8.5"
  }
 },
 "nbformat": 4,
 "nbformat_minor": 2
}

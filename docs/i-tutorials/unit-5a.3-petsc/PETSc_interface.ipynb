{
 "cells": [
  {
   "cell_type": "markdown",
   "metadata": {},
   "source": [
    "# 5.3.2 NGSolve - PETSc interface\n",
    "We use the ngs2petsc interface to map vectors and matrices between NGSolve and PETSc"
   ]
  },
  {
   "cell_type": "code",
   "execution_count": 9,
   "metadata": {},
   "outputs": [
    {
     "data": {
      "text/plain": [
       "'/Users/joachim/gitlab/ngsolve/docs/i-tutorials/unit-5a.3-petsc'"
      ]
     },
     "execution_count": 9,
     "metadata": {},
     "output_type": "execute_result"
    }
   ],
   "source": []
  },
  {
   "cell_type": "code",
   "execution_count": null,
   "metadata": {},
   "outputs": [],
   "source": []
  },
  {
   "cell_type": "code",
   "execution_count": 31,
   "metadata": {},
   "outputs": [
    {
     "data": {
      "text/plain": [
       "<module 'ngs2petsc' from '/Users/joachim/gitlab/ngsolve/docs/i-tutorials/unit-5a.3-petsc/ngs2petsc.py'>"
      ]
     },
     "execution_count": 31,
     "metadata": {},
     "output_type": "execute_result"
    }
   ],
   "source": [
    "from os import getcwd\n",
    "import imp\n",
    "imp.load_source(\"ngs2petsc\", getcwd()+\"/ngs2petsc.py\")"
   ]
  },
  {
   "cell_type": "code",
   "execution_count": 18,
   "metadata": {},
   "outputs": [
    {
     "data": {
      "text/plain": [
       "[0, 1, 2, 3]"
      ]
     },
     "execution_count": 18,
     "metadata": {},
     "output_type": "execute_result"
    }
   ],
   "source": [
    "from ipyparallel import Client\n",
    "c = Client(profile='mpi')\n",
    "c.ids"
   ]
  },
  {
   "cell_type": "code",
   "execution_count": 19,
   "metadata": {},
   "outputs": [
    {
     "data": {
      "text/plain": [
       "\u001b[0;31mOut[0:2]: \u001b[0m'/Users/joachim'"
      ]
     },
     "metadata": {
      "after": [],
      "completed": "2020-08-26T19:50:08.894849",
      "data": {},
      "engine_id": 0,
      "engine_uuid": "7e0a1583-75adca202c287f222b589136",
      "error": null,
      "execute_input": "from ngsolve import *\nfrom netgen.geom2d import unit_square\ncomm = MPI.COMM_WORLD\nif comm.rank == 0:\n    ngmesh = unit_square.GenerateMesh(maxh=0.1).Distribute(comm)\nelse:\n    ngmesh = netgen.meshing.Mesh.Receive(comm)\n    \n# for l in range(4):\n#    ngmesh.Refine()\nmesh = Mesh(ngmesh)\nfrom os import getcwd\ngetcwd()\n",
      "execute_result": {
       "data": {
        "text/plain": "'/Users/joachim'"
       },
       "execution_count": 2,
       "metadata": {}
      },
      "follow": [],
      "msg_id": "e364bcad-635c65358c13d9b3eb3e3d3a",
      "outputs": [],
      "received": "2020-08-26T19:50:08.923442",
      "started": "2020-08-26T19:50:08.841526",
      "status": "ok",
      "stderr": "",
      "stdout": "",
      "submitted": "2020-08-26T19:50:08.826829"
     },
     "output_type": "display_data"
    },
    {
     "data": {
      "text/plain": [
       "\u001b[0;31mOut[1:2]: \u001b[0m'/Users/joachim'"
      ]
     },
     "metadata": {
      "after": [],
      "completed": "2020-08-26T19:50:08.892595",
      "data": {},
      "engine_id": 1,
      "engine_uuid": "2d1280c0-a23c413631910d5bbb7adefa",
      "error": null,
      "execute_input": "from ngsolve import *\nfrom netgen.geom2d import unit_square\ncomm = MPI.COMM_WORLD\nif comm.rank == 0:\n    ngmesh = unit_square.GenerateMesh(maxh=0.1).Distribute(comm)\nelse:\n    ngmesh = netgen.meshing.Mesh.Receive(comm)\n    \n# for l in range(4):\n#    ngmesh.Refine()\nmesh = Mesh(ngmesh)\nfrom os import getcwd\ngetcwd()\n",
      "execute_result": {
       "data": {
        "text/plain": "'/Users/joachim'"
       },
       "execution_count": 2,
       "metadata": {}
      },
      "follow": [],
      "msg_id": "b025cf7a-bba86a516e12833ecaaf4c08",
      "outputs": [],
      "received": "2020-08-26T19:50:08.913457",
      "started": "2020-08-26T19:50:08.842259",
      "status": "ok",
      "stderr": "",
      "stdout": "",
      "submitted": "2020-08-26T19:50:08.827481"
     },
     "output_type": "display_data"
    },
    {
     "data": {
      "text/plain": [
       "\u001b[0;31mOut[2:2]: \u001b[0m'/Users/joachim'"
      ]
     },
     "metadata": {
      "after": [],
      "completed": "2020-08-26T19:50:08.895514",
      "data": {},
      "engine_id": 2,
      "engine_uuid": "03be6d97-539cd3d52c0fc96c3b86ddc0",
      "error": null,
      "execute_input": "from ngsolve import *\nfrom netgen.geom2d import unit_square\ncomm = MPI.COMM_WORLD\nif comm.rank == 0:\n    ngmesh = unit_square.GenerateMesh(maxh=0.1).Distribute(comm)\nelse:\n    ngmesh = netgen.meshing.Mesh.Receive(comm)\n    \n# for l in range(4):\n#    ngmesh.Refine()\nmesh = Mesh(ngmesh)\nfrom os import getcwd\ngetcwd()\n",
      "execute_result": {
       "data": {
        "text/plain": "'/Users/joachim'"
       },
       "execution_count": 2,
       "metadata": {}
      },
      "follow": [],
      "msg_id": "b316a508-848125d8c6491b5c57462390",
      "outputs": [],
      "received": "2020-08-26T19:50:08.925382",
      "started": "2020-08-26T19:50:08.845477",
      "status": "ok",
      "stderr": "",
      "stdout": "",
      "submitted": "2020-08-26T19:50:08.829972"
     },
     "output_type": "display_data"
    },
    {
     "data": {
      "text/plain": [
       "\u001b[0;31mOut[3:2]: \u001b[0m'/Users/joachim'"
      ]
     },
     "metadata": {
      "after": [],
      "completed": "2020-08-26T19:50:08.894006",
      "data": {},
      "engine_id": 3,
      "engine_uuid": "f29c4d80-890daac7762f2ecee1c71cf9",
      "error": null,
      "execute_input": "from ngsolve import *\nfrom netgen.geom2d import unit_square\ncomm = MPI.COMM_WORLD\nif comm.rank == 0:\n    ngmesh = unit_square.GenerateMesh(maxh=0.1).Distribute(comm)\nelse:\n    ngmesh = netgen.meshing.Mesh.Receive(comm)\n    \n# for l in range(4):\n#    ngmesh.Refine()\nmesh = Mesh(ngmesh)\nfrom os import getcwd\ngetcwd()\n",
      "execute_result": {
       "data": {
        "text/plain": "'/Users/joachim'"
       },
       "execution_count": 2,
       "metadata": {}
      },
      "follow": [],
      "msg_id": "53e6a882-d0770cf55c8dd4e4331e3d8d",
      "outputs": [],
      "received": "2020-08-26T19:50:08.920989",
      "started": "2020-08-26T19:50:08.849467",
      "status": "ok",
      "stderr": "",
      "stdout": "",
      "submitted": "2020-08-26T19:50:08.830317"
     },
     "output_type": "display_data"
    }
   ],
   "source": [
    "%%px\n",
    "from ngsolve import *\n",
    "from netgen.geom2d import unit_square\n",
    "comm = MPI.COMM_WORLD\n",
    "if comm.rank == 0:\n",
    "    ngmesh = unit_square.GenerateMesh(maxh=0.1).Distribute(comm)\n",
    "else:\n",
    "    ngmesh = netgen.meshing.Mesh.Receive(comm)\n",
    "    \n",
    "# for l in range(4):\n",
    "#    ngmesh.Refine()\n",
    "mesh = Mesh(ngmesh)\n",
    "from os import getcwd\n",
    "getcwd()"
   ]
  },
  {
   "cell_type": "markdown",
   "metadata": {},
   "source": [
    "The Python-module [ngs2petsc.py](ngs2petsc.py) provides functionality to transfer vectors and matrices between NGSolve and Python. \n",
    "\n",
    "Make sure that the ipyparallel server can import the module, e.g. by starting the cluster in the current directory."
   ]
  },
  {
   "cell_type": "code",
   "execution_count": null,
   "metadata": {},
   "outputs": [],
   "source": [
    "%%px\n",
    "import ngs2petsc as n2p\n",
    "import petsc4py.PETSc as psc"
   ]
  },
  {
   "cell_type": "code",
   "execution_count": null,
   "metadata": {},
   "outputs": [],
   "source": [
    "%%px\n",
    "fes = H1(mesh, order=1)\n",
    "u,v = fes.TnT()\n",
    "a = BilinearForm(grad(u)*grad(v)*dx+u*v*ds).Assemble()\n",
    "f = LinearForm(x*v*dx).Assemble()\n",
    "gfu = GridFunction(fes)"
   ]
  },
  {
   "cell_type": "markdown",
   "metadata": {},
   "source": [
    "The function CreatePETScMatrix takes an NGSolve matrix, and creates a PETSc matrix from it. A VectorMapping object can map vectors between NGSolve and PETSc. "
   ]
  },
  {
   "cell_type": "code",
   "execution_count": null,
   "metadata": {},
   "outputs": [],
   "source": [
    "%%px\n",
    "psc_mat = n2p.CreatePETScMatrix(a.mat)\n",
    "vecmap = n2p.VectorMapping (a.mat.row_pardofs)"
   ]
  },
  {
   "cell_type": "code",
   "execution_count": null,
   "metadata": {},
   "outputs": [],
   "source": [
    "%%px\n",
    "psc_f = vecmap.N2P(f.vec)\n",
    "psc_u = vecmap.CreatePETScVector()\n",
    "\n",
    "ksp = psc.KSP()\n",
    "ksp.create()\n",
    "ksp.setOperators(psc_mat)\n",
    "ksp.setType(psc.KSP.Type.CG)\n",
    "ksp.setNormType(psc.KSP.NormType.NORM_NATURAL)\n",
    "ksp.getPC().setType(\"gamg\")\n",
    "ksp.setTolerances(rtol=1e-6, atol=0, divtol=1e16, max_it=400)\n",
    "\n",
    "ksp.solve(psc_f, psc_u)   \n",
    "\n",
    "vecmap.P2N(psc_u, gfu.vec)\n",
    "pass"
   ]
  },
  {
   "cell_type": "code",
   "execution_count": null,
   "metadata": {},
   "outputs": [],
   "source": [
    "gfu = c[:][\"gfu\"]\n",
    "from ngsolve.webgui import Draw"
   ]
  },
  {
   "cell_type": "code",
   "execution_count": null,
   "metadata": {},
   "outputs": [],
   "source": [
    "Draw (gfu[0])"
   ]
  },
  {
   "cell_type": "code",
   "execution_count": null,
   "metadata": {},
   "outputs": [],
   "source": []
  }
 ],
 "metadata": {
  "kernelspec": {
   "display_name": "Python 3",
   "language": "python",
   "name": "python3"
  },
  "language_info": {
   "codemirror_mode": {
    "name": "ipython",
    "version": 3
   },
   "file_extension": ".py",
   "mimetype": "text/x-python",
   "name": "python",
   "nbconvert_exporter": "python",
   "pygments_lexer": "ipython3",
   "version": "3.8.5"
  }
 },
 "nbformat": 4,
 "nbformat_minor": 2
}

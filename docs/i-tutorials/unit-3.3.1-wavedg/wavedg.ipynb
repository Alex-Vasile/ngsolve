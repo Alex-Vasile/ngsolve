{
 "cells": [
  {
   "cell_type": "markdown",
   "metadata": {
    "slideshow": {
     "slide_type": "slide"
    }
   },
   "source": [
    "# 3.3.1 DG for the acoustic wave equation\n",
    "We consider the acoustic problem\n",
    "\\begin{align} \n",
    "      \\partial_{t} p  +  c \\operatorname{div}(\\mathbf{u}) &= 0 \\quad \\text{ in } \\Omega \\times I, \\\\\n",
    "      \\partial_{t} \\mathbf{u}  +  c \\nabla p &= 0 \\quad \\text{ in } \\Omega \\times I, \\\\\n",
    "%      p (0,\\cdot) &= p(1,\\cdot), \\quad\n",
    "%      p (\\cdot,0) = p(\\cdot,1), \\label{eq:per2b}\\\\\n",
    "%      \\mathbf{q} (0,\\cdot) &= \\mathbf{q}(1,\\cdot), \\quad\n",
    "%      \\mathbf{q} (\\cdot,0) = \\mathbf{q}(\\cdot,1), \\label{eq:per2bb}\\\\\n",
    "      p &= p_0 \\!\\!\\! \\quad \\text{ on } \\Omega \\times \\{0\\},\\\\\n",
    "      u &= 0 \\quad \\text{ on } \\Omega \\times \\{0\\}.\n",
    "\\end{align}\n",
    "Here $p$ is the acoustic pressure (the local deviation from the ambient pressure) and $\\mathbf{u}$ is the local velocity."
   ]
  },
  {
   "cell_type": "markdown",
   "metadata": {
    "slideshow": {
     "slide_type": "subslide"
    }
   },
   "source": [
    "A simple grid:"
   ]
  },
  {
   "cell_type": "code",
   "execution_count": null,
   "metadata": {
    "slideshow": {
     "slide_type": "-"
    }
   },
   "outputs": [],
   "source": [
    "from netgen import gui\n",
    "from ngsolve import *\n",
    "from netgen.geom2d import SplineGeometry\n",
    "geo = SplineGeometry()\n",
    "geo.AddRectangle( (-1, -1), (1, 1), bcs = (\"bottom\", \"right\", \"top\", \"left\"))\n",
    "mesh = Mesh( geo.GenerateMesh(maxh=0.1))\n",
    "Draw(mesh)"
   ]
  },
  {
   "cell_type": "markdown",
   "metadata": {
    "slideshow": {
     "slide_type": "subslide"
    }
   },
   "source": [
    "Find $p: [0,T] \\to \\bigoplus_{T\\in\\mathcal{T}_h} \\mathcal{P}^{k+1}(T)$ and $\\mathbf{u}: [0,T] \\to \\bigoplus_{T\\in\\mathcal{T}_h} [\\mathcal{P}^k(T)]^d$ so that \n",
    "\n",
    "\n",
    "\\begin{align*}\n",
    "    (\\partial_t \\mathbf{u}, v) &= b_h(p,v) & &&& \\forall v,\\\\\n",
    "    (\\partial_t p, q) &= & - b_h(q,\\mathbf{u}) &&& \\forall q\\\\    \n",
    "\\end{align*}\n",
    "\n",
    "with the centered flux approximation:\n",
    "$$\n",
    "  b_h(p,v) = \\sum_{T} \\int_T \\nabla p \\cdot v + \\int_{\\partial T} ( \\hat{p} - p) v_n \n",
    "$$\n",
    "\n",
    "Here $\\hat{p}$ is the centered approximation i.e. $\\hat{p} = \\{\\!\\!\\{p\\}\\!\\!\\}$.\n"
   ]
  },
  {
   "cell_type": "code",
   "execution_count": null,
   "metadata": {
    "slideshow": {
     "slide_type": "-"
    }
   },
   "outputs": [],
   "source": [
    "order = 4\n",
    "fes_p = L2(mesh, order=order+1, all_dofs_together=True, order_policy=ORDER_POLICY.CONSTANT)\n",
    "fes_u = VectorL2(mesh, order=order, piola=True, all_dofs_together=True, order_policy=ORDER_POLICY.CONSTANT)\n",
    "fes = FESpace( [fes_p,fes_u] )\n",
    "gfu = GridFunction(fes)\n",
    "Draw(gfu.components[1], mesh, \"u\")\n",
    "Draw(gfu.components[0], mesh, \"p\", min=-0.1, max=0.1, autoscale=False, sd=3) "
   ]
  },
  {
   "cell_type": "markdown",
   "metadata": {
    "slideshow": {
     "slide_type": "subslide"
    }
   },
   "source": [
    "#### What is the flag `piola` doing?\n",
    "\n",
    "The `VectorL2` space uses the following definition of basis functions on the mesh. \n",
    "\n",
    "Let $\\hat{\\varphi}(\\hat{x})$ be a (vectorial) basis function on the reference element $\\hat{T}$, $\\Phi: \\hat{T} \\to T$ with $x = \\Phi(\\hat{x})$ and $F= D\\Phi$, then\n",
    "\n",
    "$$\n",
    "  \\varphi(x) = \\left\\{ \\begin{array}{rlll} \n",
    "  \\hat{\\varphi}(\\hat{x}), & \\texttt{piola=False}, & \\texttt{covariant=False}, & \\text{(default)} \\\\\n",
    "  \\frac{1}{|\\operatorname{det} F|} \\cdot F \\cdot \\hat{\\varphi}(\\hat{x}), & \\texttt{piola=True},  & \\texttt{covariant=False}, \\\\\n",
    "  F^{-T} \\cdot \\hat{\\varphi}(\\hat{x}), & \\texttt{piola=False}, & \\texttt{covariant=True}. \\\\\n",
    "  \\end{array}\n",
    "  \\right.\n",
    "$$\n",
    "\n",
    "If you want to inspect the basis functions for the three different cases take a look at [l2trafo.ipynb](l2trafo.ipynb)"
   ]
  },
  {
   "cell_type": "markdown",
   "metadata": {
    "slideshow": {
     "slide_type": "slide"
    }
   },
   "source": [
    "### Inverse mass matrix operations:\n",
    "Combining `Embedding` and the inverse mass matrix operation for `fes_p` allows to realize the following block inverse operations acting on `fes`:"
   ]
  },
  {
   "cell_type": "markdown",
   "metadata": {
    "slideshow": {
     "slide_type": "fragment"
    }
   },
   "source": [
    "$$\n",
    "\\underbrace{\\left( \\begin{array}{cc} M_{p}^{-1} & 0 \\\\ 0 & 0 \\end{array} \\right)}_{\\texttt{invp}} = \n",
    "\\underbrace{\\left( \\begin{array}{c} I \\\\ 0 \\end{array} \\right)}_{\\texttt{emb_p}} \\cdot \\underbrace{M_{u}^{-1}}_{\\texttt{invmassp}} \\cdot \\underbrace{\\left( \\begin{array}{cc} I & 0 \\end{array} \\right)}_{\\texttt{emb_p.T}}\n",
    "$$"
   ]
  },
  {
   "cell_type": "code",
   "execution_count": null,
   "metadata": {
    "slideshow": {
     "slide_type": "-"
    }
   },
   "outputs": [],
   "source": [
    "pdofs = fes.Range(0);\n",
    "emb_p = Embedding(fes.ndof, pdofs)\n",
    "invmassp = fes_p.Mass(1).Inverse()\n",
    "invp = emb_p @ invmassp @ emb_p.T"
   ]
  },
  {
   "cell_type": "markdown",
   "metadata": {
    "slideshow": {
     "slide_type": "subslide"
    }
   },
   "source": [
    "Anaogous, combining `Embedding` and the inverse mass matrix operation for `fes_u` allows to realize the following block inverse operations on `fes`:"
   ]
  },
  {
   "cell_type": "markdown",
   "metadata": {
    "slideshow": {
     "slide_type": "-"
    }
   },
   "source": [
    "$$\n",
    "\\underbrace{\\left( \\begin{array}{cc} 0 & 0 \\\\ 0 & M_{\\mathbf{u}}^{-1} \\end{array} \\right)}_{\\texttt{invu}} = \n",
    "\\underbrace{\\left( \\begin{array}{c} I \\\\ 0 \\end{array} \\right)}_{\\texttt{emb_u}} \\cdot \\underbrace{M_{\\mathbf{u}}^{-1}}_{\\texttt{invmassu}} \\cdot \\underbrace{\\left( \\begin{array}{cc} I & 0 \\end{array} \\right)}_{\\texttt{emb_u.T}}\n",
    "$$"
   ]
  },
  {
   "cell_type": "code",
   "execution_count": null,
   "metadata": {
    "slideshow": {
     "slide_type": "-"
    }
   },
   "outputs": [],
   "source": [
    "udofs = fes.Range(1)\n",
    "emb_u = Embedding(fes.ndof, udofs)\n",
    "invmassu = fes_u.Mass(Id(mesh.dim)).Inverse()\n",
    "invu = emb_u @ invmassu @ emb_u.T"
   ]
  },
  {
   "cell_type": "markdown",
   "metadata": {
    "slideshow": {
     "slide_type": "subslide"
    }
   },
   "source": [
    "### Time loop \n",
    "Assuming the operators `B` and `BT` corresponding to $b_h(\\cdot,\\cdot)$ are given:"
   ]
  },
  {
   "cell_type": "code",
   "execution_count": null,
   "metadata": {
    "slideshow": {
     "slide_type": "-"
    }
   },
   "outputs": [],
   "source": [
    "# For the time stepping\n",
    "def Run(B, BT, t0 = 0, tend = 2, tau = 2e-3, backward = False):\n",
    "    t = 0\n",
    "    with TaskManager():\n",
    "        while t < (tend-t0) - tau/2:\n",
    "            t += tau\n",
    "            if not backward:\n",
    "                gfu.vec.data += -tau * invp @ BT * gfu.vec\n",
    "                gfu.vec.data += tau * invu @ B * gfu.vec\n",
    "                print(\"\\r t = {:}\".format(t0 + t),end=\"\")\n",
    "            else:\n",
    "                gfu.vec.data += -tau * invu @ B * gfu.vec\n",
    "                gfu.vec.data += tau * invp @ BT * gfu.vec\n",
    "                print(\"\\r t = {:}\".format(tend - t),end=\"\")\n",
    "            Redraw(blocking=False)\n",
    "        print(\"\")"
   ]
  },
  {
   "cell_type": "markdown",
   "metadata": {
    "slideshow": {
     "slide_type": "subslide"
    }
   },
   "source": [
    "Initial values:"
   ]
  },
  {
   "cell_type": "code",
   "execution_count": null,
   "metadata": {
    "slideshow": {
     "slide_type": "-"
    }
   },
   "outputs": [],
   "source": [
    "gfu.components[0].Set (exp(-100*((x-0.5)**2+y**2))+exp(-100*((x+0.5)**2+y**2)))\n",
    "gfu.components[1].vec[:] = 0\n",
    "Redraw()"
   ]
  },
  {
   "cell_type": "markdown",
   "metadata": {
    "slideshow": {
     "slide_type": "subslide"
    }
   },
   "source": [
    "## Version 1: The bilinear form for application on the full space `fes`"
   ]
  },
  {
   "cell_type": "code",
   "execution_count": null,
   "metadata": {
    "slideshow": {
     "slide_type": "-"
    }
   },
   "outputs": [],
   "source": [
    "n = specialcf.normal(mesh.dim) \n",
    "(p,u),(q,v) = fes.TnT()\n",
    "B = BilinearForm(fes, nonassemble=True)\n",
    "B += grad(p)*v * dx + 0.5*(p.Other()-p)*(v*n) * dx(element_boundary=True)\n",
    "BT = BilinearForm(fes, nonassemble=True)\n",
    "BT += grad(q)*u * dx + 0.5*(q.Other()-q)*(u*n) * dx(element_boundary=True)"
   ]
  },
  {
   "cell_type": "code",
   "execution_count": null,
   "metadata": {},
   "outputs": [],
   "source": [
    "%%time \n",
    "Run(B.mat, BT.mat, backward=False)\n",
    "Run(B.mat, BT.mat, backward=True)"
   ]
  },
  {
   "cell_type": "markdown",
   "metadata": {
    "slideshow": {
     "slide_type": "subslide"
    }
   },
   "source": [
    "## Version 1: The bilinear form for application on the full space `fes`"
   ]
  },
  {
   "cell_type": "code",
   "execution_count": null,
   "metadata": {
    "scrolled": true
   },
   "outputs": [],
   "source": [
    "B = BilinearForm(fes, nonassemble=True)\n",
    "B += grad(p)*v * dx +  0.5*(p.Other()-p)*(v+v.Other())*n * dx(skeleton=True) - p * v*n * ds(skeleton=True)\n",
    "BT = BilinearForm(fes, nonassemble=True)\n",
    "BT += grad(q)*u * dx +  0.5*(q.Other()-q)*(u+u.Other())*n * dx(skeleton=True) - q * u*n * ds(skeleton=True)"
   ]
  },
  {
   "cell_type": "code",
   "execution_count": null,
   "metadata": {},
   "outputs": [],
   "source": [
    "%%time \n",
    "Run(B.mat, BT.mat, backward=False)\n",
    "Run(B.mat, BT.mat, backward=True)"
   ]
  },
  {
   "cell_type": "code",
   "execution_count": null,
   "metadata": {},
   "outputs": [],
   "source": [
    "#gfu.components[0].Set (exp(-100*(x**2+y**2)))\n",
    "#gfu.components[1].vec[:] = 0\n",
    "#Redraw()"
   ]
  },
  {
   "cell_type": "markdown",
   "metadata": {},
   "source": [
    "Using TraceOps:"
   ]
  },
  {
   "cell_type": "code",
   "execution_count": null,
   "metadata": {},
   "outputs": [],
   "source": [
    "order = 1\n",
    "fes_p = L2(mesh, order=order, all_dofs_together=True, order_policy=ORDER_POLICY.CONSTANT)\n",
    "\n",
    "fes_tr = FacetFESpace(mesh, order=order)\n",
    "\n",
    "traceop = fes_p.TraceOperator(fes_tr, False)\n"
   ]
  },
  {
   "cell_type": "code",
   "execution_count": null,
   "metadata": {},
   "outputs": [],
   "source": [
    "f1 = FacetFESpace(mesh,order=0)\n",
    "f2 = L2(mesh,order=0,all_dofs_together=True, order_policy=ORDER_POLICY.CONSTANT)"
   ]
  },
  {
   "cell_type": "code",
   "execution_count": null,
   "metadata": {},
   "outputs": [],
   "source": [
    "traceop12 = f2.TraceOperator(f1, False)"
   ]
  },
  {
   "cell_type": "code",
   "execution_count": null,
   "metadata": {},
   "outputs": [],
   "source": [
    "gf1 = GridFunction(f1)\n",
    "gf2 = GridFunction(f2)"
   ]
  },
  {
   "cell_type": "code",
   "execution_count": null,
   "metadata": {},
   "outputs": [],
   "source": [
    "gf2.Set(1)\n",
    "print(gf2.vec)"
   ]
  },
  {
   "cell_type": "code",
   "execution_count": null,
   "metadata": {},
   "outputs": [],
   "source": [
    "gf1.vec.data = traceop12 * gf2.vec\n",
    "print(gf1.vec)"
   ]
  },
  {
   "cell_type": "code",
   "execution_count": null,
   "metadata": {},
   "outputs": [],
   "source": [
    "fes_tr = FacetFESpace(mesh, order=order+1)\n",
    "\n",
    "p = fes_p.TrialFunction()\n",
    "v = fes_u.TestFunction()\n",
    "phat = fes_tr.TrialFunction()\n",
    "\n",
    "traceop = fes_p.TraceOperator(fes_tr, False)\n",
    "\n",
    "\n",
    "  \n",
    "Bel = BilinearForm(trialspace=fes_p, testspace=fes_u)\n",
    "Bel += grad(p)*v * dx -p*(v*n) * dx(element_boundary=True) + 0.5 * p * (v*n) *ds(skeleton=True)\n",
    "Bel.Assemble()\n",
    "\n",
    "Btr = BilinearForm(trialspace=fes_tr, testspace=fes_u)\n",
    "Btr += 0.5 * phat * (v*n) * dx(element_boundary=True) \n",
    "Btr.Assemble()\n",
    "\n",
    "B = emb_u @ (Bel.mat + Btr.mat @ traceop) @ emb_p.T\n",
    "%time Run(B, B.T, backward=False)\n"
   ]
  },
  {
   "cell_type": "code",
   "execution_count": null,
   "metadata": {},
   "outputs": [],
   "source": []
  },
  {
   "cell_type": "code",
   "execution_count": null,
   "metadata": {},
   "outputs": [],
   "source": [
    "Bel = BilinearForm(trialspace=fes_p, testspace=fes_u, geom_free = True)\n",
    "Bel += grad(p)*v * dx -p*(v*n) * dx(element_boundary=True)\n",
    "Bel.Assemble()\n",
    "\n",
    "Btr = BilinearForm(trialspace=fes_tr, testspace=fes_u, geom_free = True)\n",
    "Btr += 0.5 * phat * (v*n) *dx(element_boundary=True)\n",
    "Btr.Assemble()\n",
    "\n",
    "traceop = fes_p.TraceOperator(fes_tr, False)\n",
    "fullB = emb_u @ (Bel.mat + Btr.mat @ traceop) @ emb_p.T\n",
    "\n",
    "Run(fullB, fullB.T, backward=True)\n"
   ]
  },
  {
   "cell_type": "code",
   "execution_count": null,
   "metadata": {},
   "outputs": [],
   "source": []
  },
  {
   "cell_type": "code",
   "execution_count": null,
   "metadata": {},
   "outputs": [],
   "source": []
  }
 ],
 "metadata": {
  "celltoolbar": "Slideshow",
  "kernelspec": {
   "display_name": "Python 3",
   "language": "python",
   "name": "python3"
  },
  "language_info": {
   "codemirror_mode": {
    "name": "ipython",
    "version": 3
   },
   "file_extension": ".py",
   "mimetype": "text/x-python",
   "name": "python",
   "nbconvert_exporter": "python",
   "pygments_lexer": "ipython3",
   "version": "3.7.3"
  }
 },
 "nbformat": 4,
 "nbformat_minor": 2
}

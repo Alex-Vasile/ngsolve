{
 "cells": [
  {
   "cell_type": "markdown",
   "metadata": {},
   "source": [
    "# What are the i-tutorials ? \n",
    "The i-tutorials are interactive tutorials to NGS-Py, the Python frontent to NGSolve. The i-tutorials are Jupyter notebooks which allow you to explore the features of NGS-Py."
   ]
  },
  {
   "cell_type": "markdown",
   "metadata": {},
   "source": [
    "The i-tutorials have been setup for the 2017 NGSolve user meeting. The authors of the sections are Jay Gopalakrishnan (Getting Started), Joachim Schöberl (Advaned Topics), Christoph Lehrenfeld (Time-dependent and non-linear problmes), Christoph Wintersteiger (Geometric modeling and mesh generation). Big thanks to Matthias Hochsteger for integrating the Netgen-GUI into Jupyter."
   ]
  },
  {
   "cell_type": "markdown",
   "metadata": {},
   "source": [
    "Copyright: The i-tutorials are a part of NGSolve and are covered by the LGPL open source license. You may extend and modify them for your use, but you have to refer to the original source."
   ]
  },
  {
   "cell_type": "markdown",
   "metadata": {},
   "source": [
    "### Installation\n",
    "\n",
    "To work through the i-tutorials, you first have to install\n",
    "* Netgen/NGSolve, see http://www.ngsolve.org/downloads \n",
    "* Jupyter from http://www.jupyter.org. You can use the pip package manager: \"pip3 install jupyter\"\n",
    "* download and unpack the i-tutorials from [here](i-tutorials.zip).\n",
    "\n",
    "Some of the tutorials require packages from scipy and matplotlib, so it is a good idea to install them as well:\n",
    "\n",
    "* pip3 install scipy\n",
    "* pip3 install matplotlib\n",
    "\n",
    "### Starting\n",
    "You start with the interactive tutorial by opening a terminal, go to the main folder containing the i-tutorials, and start\n",
    "* \"jupyter-notebook index.ipynb\" "
   ]
  },
  {
   "cell_type": "code",
   "execution_count": null,
   "metadata": {
    "collapsed": true
   },
   "outputs": [],
   "source": []
  }
 ],
 "metadata": {
  "kernelspec": {
   "display_name": "Python 3",
   "language": "python",
   "name": "python3"
  },
  "language_info": {
   "codemirror_mode": {
    "name": "ipython",
    "version": 3
   },
   "file_extension": ".py",
   "mimetype": "text/x-python",
   "name": "python",
   "nbconvert_exporter": "python",
   "pygments_lexer": "ipython3",
   "version": "3.6.1"
  }
 },
 "nbformat": 4,
 "nbformat_minor": 2
}

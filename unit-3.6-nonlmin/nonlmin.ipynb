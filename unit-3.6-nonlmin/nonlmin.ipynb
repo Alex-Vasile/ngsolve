{
 "cells": [
  {
   "cell_type": "markdown",
   "metadata": {},
   "source": [
    "# Nonlinear minimization problems\n",
    "We consider problems of the form\n",
    "\n",
    "$$\\text{find } u \\in V \\text{ s.t. } E(u) \\leq E(v) \\quad \\forall~  v \\in V.$$"
   ]
  },
  {
   "cell_type": "code",
   "execution_count": null,
   "metadata": {},
   "outputs": [],
   "source": [
    "import netgen.gui\n",
    "%gui tk\n",
    "import tkinter\n",
    "from ngsolve import *"
   ]
  },
  {
   "cell_type": "markdown",
   "metadata": {},
   "source": [
    "## Scalar minimization problems\n",
    "As a first example we take $V = H^1_0$ and \n",
    "$$\n",
    "E(u) = \\int_{\\Omega} \\vert \\nabla u \\vert^2 + u^4 - fu ~dx.\n",
    "$$\n",
    "The minimization is equivalent to solving the nonlinear PDE:\n",
    "$$\n",
    " - \\Delta u + 4 u^3 = f \\text{ in } \\Omega\n",
    "$$\n",
    "We solve the PDE with a Newton iteration."
   ]
  },
  {
   "cell_type": "code",
   "execution_count": null,
   "metadata": {
    "collapsed": true
   },
   "outputs": [],
   "source": [
    "from netgen.geom2d import unit_square\n",
    "\n",
    "mesh = Mesh (unit_square.GenerateMesh(maxh=0.2))\n",
    "V = H1(mesh, order=4, dirichlet=[1,2,3,4])\n",
    "u = V.TrialFunction()"
   ]
  },
  {
   "cell_type": "markdown",
   "metadata": {},
   "source": [
    "To solve the problem we use the \"SymbolicEnergy\" integrator. Based on the symbolic description of the energy functional, it is able to \n",
    "* evaluate the energy functional (\"Energy\")\n",
    "$$E(u) \\qquad (E:V \\to \\mathbb{R})$$\n",
    "* compute the Gateau derivative for a given $u$ (\"Apply\"):\n",
    "$$A(u)(v) = E'(u)(v) \\qquad (A(u): V \\to \\mathbb{R})$$\n",
    "* compute the second derivative (\"AssembleLinearization\")\n",
    "$$(\\delta A)(w)(u,v) \\qquad (\\delta A(w): V\\times V \\to \\mathbb{R})$$\n"
   ]
  },
  {
   "cell_type": "code",
   "execution_count": null,
   "metadata": {},
   "outputs": [],
   "source": [
    "a = BilinearForm (V, symmetric=False)\n",
    "a += SymbolicEnergy ( grad(u)*grad(u) + u*u*u*u-u )"
   ]
  },
  {
   "cell_type": "markdown",
   "metadata": {},
   "source": [
    "To implement the Newton iteration we make the loop:\n",
    "* Given an initial guess $u^0$\n",
    "* loop over $i=0,..$ until convergence:\n",
    "  * Compute linearization: $A u^i + \\delta A(u^i) \\Delta u^{i} = 0 $:\n",
    "    * $f^i = A u^i$ \n",
    "    * $B^i = \\delta A(u^i)$ \n",
    "    * Solve $B^i \\Delta u^i = -f^i$\n",
    "  * Update $u^{i+1} = u^i + \\Delta u^{i}$\n",
    "  * Evaluate stopping criteria\n",
    "* Evaluate $E(u^{i+1})$\n",
    "\n",
    "As a stopping criteria we take $ \\langle A u^i,\\Delta u^i \\rangle = \\langle A u^i, A u^i \\rangle_{(B^i)^{-1}}< \\varepsilon$.  "
   ]
  },
  {
   "cell_type": "code",
   "execution_count": null,
   "metadata": {},
   "outputs": [],
   "source": [
    "gfu = GridFunction (V)\n",
    "gfu.vec[:] = 0\n",
    "Draw(gfu,sd=4)\n",
    "\n",
    "res = gfu.vec.CreateVector()\n",
    "du  = gfu.vec.CreateVector()\n",
    "\n",
    "for it in range(20):\n",
    "    print (\"Newton iteration\", it)\n",
    "    print (\"energy = \", a.Energy(gfu.vec))\n",
    "    \n",
    "    #solve linearized problem:\n",
    "    a.Apply (gfu.vec, res)\n",
    "    a.AssembleLinearization (gfu.vec)\n",
    "    inv = a.mat.Inverse(V.FreeDofs())\n",
    "    du.data = inv * res\n",
    "    \n",
    "\n",
    "    #update iteration\n",
    "    gfu.vec.data -= du\n",
    "\n",
    "    #stopping criteria\n",
    "    stopcritval = sqrt(abs(InnerProduct(du,res)))\n",
    "    print (\"<A u\",it,\", A u\",it,\">_{-1}^0.5 = \", stopcritval)\n",
    "    if stopcritval < 1e-13:\n",
    "        break\n",
    "    Redraw()\n",
    "    \n",
    "print (\"energy = \", a.Energy(gfu.vec))\n",
    "    "
   ]
  },
  {
   "cell_type": "markdown",
   "metadata": {},
   "source": [
    "## Nonlinear elasticity\n",
    "\n",
    "We consider a beam which is fixed on one side and is subject to gravity only. We assume a Neo-Hookean hyperelastic material. The model is a nonlinear minimization problem with \n",
    "$$\n",
    "  E(v) := \\int_{\\Omega} \\frac{\\mu}{2} ( \\operatorname{tr}(F^T F-I)+\\frac{2 \\mu}{\\lambda} \\operatorname{det}(F^T F)^{\\frac{\\lambda}{2\\mu}} - 1) - \\gamma ~ (f,v) ~~ dx\n",
    "$$\n",
    "where $\\mu$ and $\\lambda$ are the Lamé parameters and $F = I + D u$ where $v: \\Omega \\to \\mathbb{R}^2$ is the sought for displacement."
   ]
  },
  {
   "cell_type": "code",
   "execution_count": null,
   "metadata": {},
   "outputs": [],
   "source": [
    "import netgen.geom2d as geom2d\n",
    "from ngsolve import *\n",
    "\n",
    "geo = geom2d.SplineGeometry()\n",
    "pnums = [ geo.AddPoint (x,y,maxh=0.01) for x,y in [(0,0), (1,0), (1,0.1), (0,0.1)] ]\n",
    "for p1,p2,bc in [(0,1,\"bot\"), (1,2,\"right\"), (2,3,\"top\"), (3,0,\"left\")]:\n",
    "     geo.Append([\"line\", pnums[p1], pnums[p2]], bc=bc)\n",
    "mesh = Mesh(geo.GenerateMesh(maxh=0.05))\n",
    "\n",
    "# E module and poisson number:\n",
    "E, nu = 210, 0.2\n",
    "# Lamé constants:\n",
    "mu  = E / 2 / (1+nu)\n",
    "lam = E * nu / ((1+nu)*(1-2*nu))\n",
    "\n",
    "fes = H1(mesh, order=2, dirichlet=\"left\", dim=mesh.dim)\n",
    "u  = fes.TrialFunction()\n",
    "\n",
    "#gravity:\n",
    "force = CoefficientFunction( (0,-1) )\n",
    "\n",
    "# some utils:\n",
    "def IdentityCF(dim):\n",
    "    return CoefficientFunction( tuple( [1 if i==j else 0 for i in range(dim) for j in range(dim)]), dims=(dim,dim) )\n",
    "\n",
    "def Trace(mat):\n",
    "    return sum( [mat[i,i] for i in range(mat.dims[0]) ])\n",
    "\n",
    "def Det(mat):\n",
    "    if mat.dims[0] == 2:\n",
    "        return mat[0,0]*mat[1,1]-mat[0,1]*mat[1,0]\n",
    "\n",
    "def Pow(a, b):\n",
    "    return exp (log(a)*b)\n",
    "    \n",
    "def NeoHook (C):\n",
    "    return 0.5 * mu * (Trace(C-I) + 2*mu/lam * Pow(Det(C), -lam/2/mu) - 1)\n",
    "\n",
    "I = IdentityCF(mesh.dim)\n",
    "F = I + u.Deriv()   # attention: row .. component, col .. derivative\n",
    "C = F * F.trans  \n",
    "\n",
    "factor = Parameter(1.0)\n",
    "\n",
    "a = BilinearForm(fes, symmetric=False)\n",
    "a += SymbolicEnergy(  NeoHook (C).Compile() )\n",
    "a += SymbolicEnergy(  (-factor * InnerProduct(force,u) ).Compile() )"
   ]
  },
  {
   "cell_type": "markdown",
   "metadata": {},
   "source": [
    "We want to solve the minimization problem for $\\gamma = 5$. Due to the high nonlinearity in the problem, the Newton iteration will not convergence with any initial guess. We approach the case $\\gamma = 5$ by solving problems with $\\gamma = i/10$ for $i=1,..,50$ and taking the solution of the previous problem as an initial guess."
   ]
  },
  {
   "cell_type": "code",
   "execution_count": null,
   "metadata": {},
   "outputs": [],
   "source": [
    "u = GridFunction(fes)\n",
    "u.vec[:] = 0\n",
    "\n",
    "res = u.vec.CreateVector()\n",
    "du = u.vec.CreateVector()\n",
    "\n",
    "Draw (u, mesh, \"displacement\")\n",
    "SetVisualization (deformation=True)\n",
    "\n",
    "for loadstep in range(50):\n",
    "    \n",
    "    print (\"loadstep\", loadstep)\n",
    "    factor.Set ((loadstep+1)/10)\n",
    "    \n",
    "    for it in range(15):\n",
    "        print (\"Newton iteration\", it)\n",
    "        print (\"energy = \", a.Energy(u.vec))\n",
    "        a.Apply(u.vec, res)\n",
    "        a.AssembleLinearization(u.vec)\n",
    "        inv = a.mat.Inverse(fes.FreeDofs() ) \n",
    "        du.data = inv*res\n",
    "        stopcritval = sqrt(abs(InnerProduct (du,res)))\n",
    "        print (\"<A u\",it,\", A u\",it,\">_{-1}^0.5 = \", stopcritval)\n",
    "        u.vec.data -= du\n",
    "        if stopcritval < 1e-13:\n",
    "            break\n",
    "    Redraw(blocking=True)"
   ]
  }
 ],
 "metadata": {
  "kernelspec": {
   "display_name": "Python 3",
   "language": "python",
   "name": "python3"
  },
  "language_info": {
   "codemirror_mode": {
    "name": "ipython",
    "version": 3
   },
   "file_extension": ".py",
   "mimetype": "text/x-python",
   "name": "python",
   "nbconvert_exporter": "python",
   "pygments_lexer": "ipython3",
   "version": "3.6.1"
  }
 },
 "nbformat": 4,
 "nbformat_minor": 2
}
